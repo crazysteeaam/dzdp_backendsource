{
 "cells": [
  {
   "cell_type": "code",
   "execution_count": 1,
   "metadata": {
    "collapsed": true,
    "ExecuteTime": {
     "end_time": "2023-06-03T07:11:00.860238Z",
     "start_time": "2023-06-03T07:10:57.526085Z"
    }
   },
   "outputs": [
    {
     "name": "stderr",
     "output_type": "stream",
     "text": [
      "/Users/zhengjie/20222023s/IT项目管理/databigworkback/src/getdata.py:5: DtypeWarning: Columns (3,4,5) have mixed types. Specify dtype option on import or set low_memory=False.\n",
      "  df = pd.read_csv(address, encoding='gb18030')\n"
     ]
    },
    {
     "data": {
      "text/plain": "        Review_ID     Merchant  Rating  Score_taste  Score_environment   \n0       377313283  炳胜品味(珠江新城店)       3            3                  3  \\\n1       376404966  炳胜品味(珠江新城店)       4            3                  4   \n2       374370927  炳胜品味(珠江新城店)       4            3                  3   \n3       377270662  炳胜品味(珠江新城店)       4            3                  3   \n4       377184095  炳胜品味(珠江新城店)       4            3                  3   \n...           ...          ...     ...          ...                ...   \n467450  116838734    大鸽饭(江燕路店)       5            4                  3   \n467451   51639859    大鸽饭(江燕路店)       5            3                  3   \n467452   44637865    大鸽饭(江燕路店)       3            2                  3   \n467453   43069187    大鸽饭(江燕路店)       1            1                  1   \n467454   40450305    大鸽饭(江燕路店)       4            3                  3   \n\n        Score_service Price_per_person       Time  Num_thumbs_up   \n0                   2                空 2017-10-23              2  \\\n1                   3                空 2017-10-19              2   \n2                   2                空 2017-10-09              0   \n3                   3              155 2017-10-23              0   \n4                   3                空 2017-10-23              0   \n...               ...              ...        ...            ...   \n467450              3                空 2014-03-07              0   \n467451              3               30 2014-01-31              0   \n467452              0                空 2013-07-28              0   \n467453              0                空 2013-06-14              1   \n467454              3               50 2013-04-03              2   \n\n        Num_ response                                     Content_review   \n0                   1  来广州出差，住在附近的康莱德酒店，晚上开完会就慕名而来，大概七点四十分的样子到的，人还有很多...  \\\n1                   0  ?·??·??前言本来是朋友约我们来的，结果朋友临时有事走不开，就我俩在这儿吃了。?·??·...   \n2                   0  朋友结婚选择在这里摆酒，在猎德A出口出来，直行转入兴盛路？再直行，走到天汇广场，过马路，再一...   \n3                   0  据说是个老子号，听名字就感觉很广东??，很正宗的样子！！这家分店打听了一下，说是地儿最大，环...   \n4                   0  周末不煮饭的日子，偶来啦??。中午12点多到店，3楼满了??让到2楼，2楼说要到1楼拿号??...   \n...               ...                                                ...   \n467450              0                         没有因为团购而减少，汤很好喝，乳鸽烧得不错，非常满意   \n467451              1                   味道还可以，上菜速度快，环境适中，价钱便宜，适合一家大小出去吃饭   \n467452              1  味精味越來越重而且服務太差衹是要求換桌子那個主任居然扔我的單子然後茶位都不幫我開就走了不會再...   \n467453              0  服务员部长人手不足，等好耐都无人招呼，个经理d态度劲差啊，今时今日甘嘅服务态度，一定唔会再帮...   \n467454              0  我们有个同事最喜欢来这家店了，每次电话给他，都说在大鸽饭呢，心想：有这么好吃吗？今天带上家里...   \n\n        Reviewer  Reviewer_value  Reviewer_rank Favorite_foods  Month  Year  \n0        胖子界的瘦子吴               5              1            NaN     10  2017  \n1         快快到盆里来               6              1            NaN     10  2017  \n2           Yyg喵               3              1            NaN     10  2017  \n3           肥螳螂_               4              1    干炒牛河 炳胜荔枝鸡      10  2017  \n4       hhy_0919               4              1            NaN     10  2017  \n...          ...             ...            ...            ...    ...   ...  \n467450        卓彤               2              0            NaN      3  2014  \n467451   星Steven               0              0            NaN      1  2014  \n467452  yeetingg               0              0            NaN      7  2013  \n467453    GZ的小嫦嫦               0              0            NaN      6  2013  \n467454     爱在打工时               0              0            NaN      4  2013  \n\n[467187 rows x 17 columns]",
      "text/html": "<div>\n<style scoped>\n    .dataframe tbody tr th:only-of-type {\n        vertical-align: middle;\n    }\n\n    .dataframe tbody tr th {\n        vertical-align: top;\n    }\n\n    .dataframe thead th {\n        text-align: right;\n    }\n</style>\n<table border=\"1\" class=\"dataframe\">\n  <thead>\n    <tr style=\"text-align: right;\">\n      <th></th>\n      <th>Review_ID</th>\n      <th>Merchant</th>\n      <th>Rating</th>\n      <th>Score_taste</th>\n      <th>Score_environment</th>\n      <th>Score_service</th>\n      <th>Price_per_person</th>\n      <th>Time</th>\n      <th>Num_thumbs_up</th>\n      <th>Num_ response</th>\n      <th>Content_review</th>\n      <th>Reviewer</th>\n      <th>Reviewer_value</th>\n      <th>Reviewer_rank</th>\n      <th>Favorite_foods</th>\n      <th>Month</th>\n      <th>Year</th>\n    </tr>\n  </thead>\n  <tbody>\n    <tr>\n      <th>0</th>\n      <td>377313283</td>\n      <td>炳胜品味(珠江新城店)</td>\n      <td>3</td>\n      <td>3</td>\n      <td>3</td>\n      <td>2</td>\n      <td>空</td>\n      <td>2017-10-23</td>\n      <td>2</td>\n      <td>1</td>\n      <td>来广州出差，住在附近的康莱德酒店，晚上开完会就慕名而来，大概七点四十分的样子到的，人还有很多...</td>\n      <td>胖子界的瘦子吴</td>\n      <td>5</td>\n      <td>1</td>\n      <td>NaN</td>\n      <td>10</td>\n      <td>2017</td>\n    </tr>\n    <tr>\n      <th>1</th>\n      <td>376404966</td>\n      <td>炳胜品味(珠江新城店)</td>\n      <td>4</td>\n      <td>3</td>\n      <td>4</td>\n      <td>3</td>\n      <td>空</td>\n      <td>2017-10-19</td>\n      <td>2</td>\n      <td>0</td>\n      <td>?·??·??前言本来是朋友约我们来的，结果朋友临时有事走不开，就我俩在这儿吃了。?·??·...</td>\n      <td>快快到盆里来</td>\n      <td>6</td>\n      <td>1</td>\n      <td>NaN</td>\n      <td>10</td>\n      <td>2017</td>\n    </tr>\n    <tr>\n      <th>2</th>\n      <td>374370927</td>\n      <td>炳胜品味(珠江新城店)</td>\n      <td>4</td>\n      <td>3</td>\n      <td>3</td>\n      <td>2</td>\n      <td>空</td>\n      <td>2017-10-09</td>\n      <td>0</td>\n      <td>0</td>\n      <td>朋友结婚选择在这里摆酒，在猎德A出口出来，直行转入兴盛路？再直行，走到天汇广场，过马路，再一...</td>\n      <td>Yyg喵</td>\n      <td>3</td>\n      <td>1</td>\n      <td>NaN</td>\n      <td>10</td>\n      <td>2017</td>\n    </tr>\n    <tr>\n      <th>3</th>\n      <td>377270662</td>\n      <td>炳胜品味(珠江新城店)</td>\n      <td>4</td>\n      <td>3</td>\n      <td>3</td>\n      <td>3</td>\n      <td>155</td>\n      <td>2017-10-23</td>\n      <td>0</td>\n      <td>0</td>\n      <td>据说是个老子号，听名字就感觉很广东??，很正宗的样子！！这家分店打听了一下，说是地儿最大，环...</td>\n      <td>肥螳螂_</td>\n      <td>4</td>\n      <td>1</td>\n      <td>干炒牛河 炳胜荔枝鸡</td>\n      <td>10</td>\n      <td>2017</td>\n    </tr>\n    <tr>\n      <th>4</th>\n      <td>377184095</td>\n      <td>炳胜品味(珠江新城店)</td>\n      <td>4</td>\n      <td>3</td>\n      <td>3</td>\n      <td>3</td>\n      <td>空</td>\n      <td>2017-10-23</td>\n      <td>0</td>\n      <td>0</td>\n      <td>周末不煮饭的日子，偶来啦??。中午12点多到店，3楼满了??让到2楼，2楼说要到1楼拿号??...</td>\n      <td>hhy_0919</td>\n      <td>4</td>\n      <td>1</td>\n      <td>NaN</td>\n      <td>10</td>\n      <td>2017</td>\n    </tr>\n    <tr>\n      <th>...</th>\n      <td>...</td>\n      <td>...</td>\n      <td>...</td>\n      <td>...</td>\n      <td>...</td>\n      <td>...</td>\n      <td>...</td>\n      <td>...</td>\n      <td>...</td>\n      <td>...</td>\n      <td>...</td>\n      <td>...</td>\n      <td>...</td>\n      <td>...</td>\n      <td>...</td>\n      <td>...</td>\n      <td>...</td>\n    </tr>\n    <tr>\n      <th>467450</th>\n      <td>116838734</td>\n      <td>大鸽饭(江燕路店)</td>\n      <td>5</td>\n      <td>4</td>\n      <td>3</td>\n      <td>3</td>\n      <td>空</td>\n      <td>2014-03-07</td>\n      <td>0</td>\n      <td>0</td>\n      <td>没有因为团购而减少，汤很好喝，乳鸽烧得不错，非常满意</td>\n      <td>卓彤</td>\n      <td>2</td>\n      <td>0</td>\n      <td>NaN</td>\n      <td>3</td>\n      <td>2014</td>\n    </tr>\n    <tr>\n      <th>467451</th>\n      <td>51639859</td>\n      <td>大鸽饭(江燕路店)</td>\n      <td>5</td>\n      <td>3</td>\n      <td>3</td>\n      <td>3</td>\n      <td>30</td>\n      <td>2014-01-31</td>\n      <td>0</td>\n      <td>1</td>\n      <td>味道还可以，上菜速度快，环境适中，价钱便宜，适合一家大小出去吃饭</td>\n      <td>星Steven</td>\n      <td>0</td>\n      <td>0</td>\n      <td>NaN</td>\n      <td>1</td>\n      <td>2014</td>\n    </tr>\n    <tr>\n      <th>467452</th>\n      <td>44637865</td>\n      <td>大鸽饭(江燕路店)</td>\n      <td>3</td>\n      <td>2</td>\n      <td>3</td>\n      <td>0</td>\n      <td>空</td>\n      <td>2013-07-28</td>\n      <td>0</td>\n      <td>1</td>\n      <td>味精味越來越重而且服務太差衹是要求換桌子那個主任居然扔我的單子然後茶位都不幫我開就走了不會再...</td>\n      <td>yeetingg</td>\n      <td>0</td>\n      <td>0</td>\n      <td>NaN</td>\n      <td>7</td>\n      <td>2013</td>\n    </tr>\n    <tr>\n      <th>467453</th>\n      <td>43069187</td>\n      <td>大鸽饭(江燕路店)</td>\n      <td>1</td>\n      <td>1</td>\n      <td>1</td>\n      <td>0</td>\n      <td>空</td>\n      <td>2013-06-14</td>\n      <td>1</td>\n      <td>0</td>\n      <td>服务员部长人手不足，等好耐都无人招呼，个经理d态度劲差啊，今时今日甘嘅服务态度，一定唔会再帮...</td>\n      <td>GZ的小嫦嫦</td>\n      <td>0</td>\n      <td>0</td>\n      <td>NaN</td>\n      <td>6</td>\n      <td>2013</td>\n    </tr>\n    <tr>\n      <th>467454</th>\n      <td>40450305</td>\n      <td>大鸽饭(江燕路店)</td>\n      <td>4</td>\n      <td>3</td>\n      <td>3</td>\n      <td>3</td>\n      <td>50</td>\n      <td>2013-04-03</td>\n      <td>2</td>\n      <td>0</td>\n      <td>我们有个同事最喜欢来这家店了，每次电话给他，都说在大鸽饭呢，心想：有这么好吃吗？今天带上家里...</td>\n      <td>爱在打工时</td>\n      <td>0</td>\n      <td>0</td>\n      <td>NaN</td>\n      <td>4</td>\n      <td>2013</td>\n    </tr>\n  </tbody>\n</table>\n<p>467187 rows × 17 columns</p>\n</div>"
     },
     "execution_count": 1,
     "metadata": {},
     "output_type": "execute_result"
    }
   ],
   "source": [
    "import src.getdata as getdata\n",
    "df = getdata.readcsv('../static/大众点评评论数据.csv')\n",
    "df"
   ]
  },
  {
   "cell_type": "code",
   "execution_count": 2,
   "outputs": [
    {
     "data": {
      "text/plain": "[{'name': '纯再餐厅(光明广场店)', 'value': 4.22},\n {'name': '點都德(聚福楼)', 'value': 3.89},\n {'name': '泮溪酒家', 'value': 2.98},\n {'name': '炳胜品味(珠江新城店)', 'value': 2.94},\n {'name': '广州酒家(百福广场店)', 'value': 2.88},\n {'name': '點都德汇点楼', 'value': 2.72},\n {'name': '广州酒家(文昌店)', 'value': 2.53},\n {'name': '點都德(喜粤楼)', 'value': 2.51},\n {'name': '悦榕庄(穗盐路店)', 'value': 1.97},\n {'name': '广东道至正餐厅(区庄店)', 'value': 1.78},\n {'name': '其他', 'value': 71.60999999999999}]"
     },
     "execution_count": 2,
     "metadata": {},
     "output_type": "execute_result"
    }
   ],
   "source": [
    "# 计算各个Merchant的评论数\n",
    "df_heat=round(df['Merchant'].value_counts()/len(df)*100,2)\n",
    "heat_data=[]\n",
    "# 前十单独分，其他的归为其他\n",
    "for i in range(len(df_heat)):\n",
    "    if i<10:\n",
    "        heat_data.append({'name':df_heat.index[i],'value':df_heat.values[i]})\n",
    "    elif i==10:\n",
    "        heat_data.append({'name':'其他','value':df_heat.values[i]})\n",
    "    else:\n",
    "        heat_data[10]['value']+=df_heat.values[i]\n",
    "heat_data"
   ],
   "metadata": {
    "collapsed": false,
    "ExecuteTime": {
     "end_time": "2023-06-03T07:11:06.306866Z",
     "start_time": "2023-06-03T07:11:06.285946Z"
    }
   }
  },
  {
   "cell_type": "code",
   "execution_count": 31,
   "outputs": [
    {
     "data": {
      "text/plain": "                  Merchant     Reviewer  count\n0               2号唐厨(优托邦店)  *****k*****      1\n1               2号唐厨(优托邦店)  **TT**_1835      1\n2               2号唐厨(优托邦店)      *A-ki君*      1\n3               2号唐厨(优托邦店)     *CarCar*      1\n4               2号唐厨(优托邦店)  *DAVlDWANG*      1\n...                    ...          ...    ...\n453295  龙庭琇厨·海派粤式融合菜(广州分店)       鬼鬼(楚槐)      1\n453296  龙庭琇厨·海派粤式融合菜(广州分店)          鰻魚仔      1\n453297  龙庭琇厨·海派粤式融合菜(广州分店)       黄二小要奋斗      1\n453298  龙庭琇厨·海派粤式融合菜(广州分店)      黄梓轩_980      1\n453299  龙庭琇厨·海派粤式融合菜(广州分店)       齐哇哇吃西瓜      1\n\n[453300 rows x 3 columns]",
      "text/html": "<div>\n<style scoped>\n    .dataframe tbody tr th:only-of-type {\n        vertical-align: middle;\n    }\n\n    .dataframe tbody tr th {\n        vertical-align: top;\n    }\n\n    .dataframe thead th {\n        text-align: right;\n    }\n</style>\n<table border=\"1\" class=\"dataframe\">\n  <thead>\n    <tr style=\"text-align: right;\">\n      <th></th>\n      <th>Merchant</th>\n      <th>Reviewer</th>\n      <th>count</th>\n    </tr>\n  </thead>\n  <tbody>\n    <tr>\n      <th>0</th>\n      <td>2号唐厨(优托邦店)</td>\n      <td>*****k*****</td>\n      <td>1</td>\n    </tr>\n    <tr>\n      <th>1</th>\n      <td>2号唐厨(优托邦店)</td>\n      <td>**TT**_1835</td>\n      <td>1</td>\n    </tr>\n    <tr>\n      <th>2</th>\n      <td>2号唐厨(优托邦店)</td>\n      <td>*A-ki君*</td>\n      <td>1</td>\n    </tr>\n    <tr>\n      <th>3</th>\n      <td>2号唐厨(优托邦店)</td>\n      <td>*CarCar*</td>\n      <td>1</td>\n    </tr>\n    <tr>\n      <th>4</th>\n      <td>2号唐厨(优托邦店)</td>\n      <td>*DAVlDWANG*</td>\n      <td>1</td>\n    </tr>\n    <tr>\n      <th>...</th>\n      <td>...</td>\n      <td>...</td>\n      <td>...</td>\n    </tr>\n    <tr>\n      <th>453295</th>\n      <td>龙庭琇厨·海派粤式融合菜(广州分店)</td>\n      <td>鬼鬼(楚槐)</td>\n      <td>1</td>\n    </tr>\n    <tr>\n      <th>453296</th>\n      <td>龙庭琇厨·海派粤式融合菜(广州分店)</td>\n      <td>鰻魚仔</td>\n      <td>1</td>\n    </tr>\n    <tr>\n      <th>453297</th>\n      <td>龙庭琇厨·海派粤式融合菜(广州分店)</td>\n      <td>黄二小要奋斗</td>\n      <td>1</td>\n    </tr>\n    <tr>\n      <th>453298</th>\n      <td>龙庭琇厨·海派粤式融合菜(广州分店)</td>\n      <td>黄梓轩_980</td>\n      <td>1</td>\n    </tr>\n    <tr>\n      <th>453299</th>\n      <td>龙庭琇厨·海派粤式融合菜(广州分店)</td>\n      <td>齐哇哇吃西瓜</td>\n      <td>1</td>\n    </tr>\n  </tbody>\n</table>\n<p>453300 rows × 3 columns</p>\n</div>"
     },
     "execution_count": 31,
     "metadata": {},
     "output_type": "execute_result"
    }
   ],
   "source": [
    "# 用户复购分析，计算相同餐厅相同用户的评论数\n",
    "df_heat2=df.groupby(['Merchant','Reviewer']).size().reset_index().rename(columns={0:'count'})\n",
    "df_heat2"
   ],
   "metadata": {
    "collapsed": false,
    "ExecuteTime": {
     "end_time": "2023-06-03T07:36:05.684640Z",
     "start_time": "2023-06-03T07:36:05.261447Z"
    }
   }
  },
  {
   "cell_type": "code",
   "execution_count": 32,
   "outputs": [
    {
     "data": {
      "text/plain": "[{'name': '炳胜品味(珠江新城店)', '总数量': 6862, '复购数量': 6862, '复购比例': 100.0},\n {'name': '麓苑轩酒家', '总数量': 2912, '复购数量': 2912, '复购比例': 100.0},\n {'name': '阿一鲍鱼(天河北旗舰店)', '总数量': 2263, '复购数量': 2263, '复购比例': 100.0},\n {'name': '炳胜品味(黄埔大道店)', '总数量': 1219, '复购数量': 1219, '复购比例': 100.0},\n {'name': '成记农庄●鹿肉宴', '总数量': 342, '复购数量': 342, '复购比例': 100.0},\n {'name': '纯再餐厅(光明广场店)', '总数量': 19520, '复购数量': 207, '复购比例': 1.06},\n {'name': '稻香酒家(太阳城分店)', '总数量': 3589, '复购数量': 29, '复购比例': 0.81},\n {'name': '北园酒家(小北路店)', '总数量': 1734, '复购数量': 12, '复购比例': 0.69},\n {'name': '广州酒家(文昌店)', '总数量': 11799, '复购数量': 7, '复购比例': 0.06},\n {'name': '大鸽饭(旗舰店)', '总数量': 4624, '复购数量': 4, '复购比例': 0.09},\n {'name': '點都德(喜粤楼)', '总数量': 11717, '复购数量': 4, '复购比例': 0.03},\n {'name': '泮溪酒家', '总数量': 13926, '复购数量': 4, '复购比例': 0.03},\n {'name': '长隆酒店麒麟中餐厅', '总数量': 1337, '复购数量': 3, '复购比例': 0.22},\n {'name': '大洋家.海鲜砂锅粥', '总数量': 1511, '复购数量': 3, '复购比例': 0.2},\n {'name': '點都德(花城楼)', '总数量': 3821, '复购数量': 2, '复购比例': 0.05},\n {'name': '洲记阳山农家菜', '总数量': 140, '复购数量': 2, '复购比例': 1.43},\n {'name': '海晏楼(滨江东总店)', '总数量': 4280, '复购数量': 2, '复购比例': 0.05},\n {'name': '點都德(海燕楼)', '总数量': 3307, '复购数量': 1, '复购比例': 0.03},\n {'name': 'SKY NO.1空中一号', '总数量': 5859, '复购数量': 1, '复购比例': 0.02},\n {'name': '臻品·小炳胜(天环店)', '总数量': 1382, '复购数量': 1, '复购比例': 0.07},\n {'name': '至潮餐厅', '总数量': 1492, '复购数量': 1, '复购比例': 0.07},\n {'name': '榕记·专注蛇宴(东沙总店)', '总数量': 1586, '复购数量': 1, '复购比例': 0.06},\n {'name': '德尚煌顺德菜(四季天地店)', '总数量': 1849, '复购数量': 1, '复购比例': 0.05},\n {'name': '小炳胜', '总数量': 5685, '复购数量': 1, '复购比例': 0.02},\n {'name': '點都德汇点楼', '总数量': 12694, '复购数量': 1, '复购比例': 0.01}]"
     },
     "execution_count": 32,
     "metadata": {},
     "output_type": "execute_result"
    }
   ],
   "source": [
    "import pandas as pd\n",
    "# 相同餐厅相同用户的评论数大于1的为复购用户，计算每家餐厅复购用户和所有用户分别的数量\n",
    "df_heat2_all=df_heat2.groupby('Merchant').size().reset_index().rename(columns={0:'总数量'})\n",
    "df_heat2=df_heat2[df_heat2['count']>1]\n",
    "df_heat2_more=df_heat2.groupby('Merchant').size().reset_index().rename(columns={0:'复购数量'})\n",
    "df_heat2=pd.merge(df_heat2_all,df_heat2_more,on='Merchant')\n",
    "df_heat2['复购比例']=round(df_heat2['复购数量']/df_heat2['总数量']*100,2)\n",
    "# 按复购数量倒序排序\n",
    "df_heat2=df_heat2.sort_values(by='复购数量',ascending=False)\n",
    "again_data=[]\n",
    "for i in range(len(df_heat2)):\n",
    "    again_data.append({'name':df_heat2['Merchant'].values[i],'总数量':df_heat2['总数量'].values[i],'复购数量':df_heat2['复购数量'].values[i],'复购比例':df_heat2['复购比例'].values[i]})\n",
    "again_data"
   ],
   "metadata": {
    "collapsed": false,
    "ExecuteTime": {
     "end_time": "2023-06-03T07:36:05.730211Z",
     "start_time": "2023-06-03T07:36:05.694480Z"
    }
   }
  },
  {
   "cell_type": "code",
   "execution_count": 3,
   "outputs": [],
   "source": [
    "#"
   ],
   "metadata": {
    "collapsed": false,
    "ExecuteTime": {
     "end_time": "2023-06-03T07:11:07.844497Z",
     "start_time": "2023-06-03T07:11:07.839699Z"
    }
   }
  },
  {
   "cell_type": "code",
   "execution_count": 81,
   "outputs": [
    {
     "data": {
      "text/plain": "    Month      Merchant  Reviewer\n0       1  阿一鲍鱼(天河北旗舰店)        44\n1       1         麓苑轩酒家        90\n2       2  阿一鲍鱼(天河北旗舰店)        40\n3       2         麓苑轩酒家        42\n4       3  阿一鲍鱼(天河北旗舰店)        16\n5       3         麓苑轩酒家        94\n6       4  阿一鲍鱼(天河北旗舰店)        32\n7       4         麓苑轩酒家        78\n8       5  阿一鲍鱼(天河北旗舰店)        30\n9       5         麓苑轩酒家        56\n10      6  阿一鲍鱼(天河北旗舰店)        20\n11      6         麓苑轩酒家        68\n12      7  阿一鲍鱼(天河北旗舰店)        26\n13      7         麓苑轩酒家       108\n14      8    深香狮头鹅-新派潮菜         2\n15      8  阿一鲍鱼(天河北旗舰店)        20\n16      8         麓苑轩酒家        74\n17      9    深香狮头鹅-新派潮菜         7\n18      9  阿一鲍鱼(天河北旗舰店)        32\n19      9         麓苑轩酒家        56\n20     10    深香狮头鹅-新派潮菜        23\n21     10  阿一鲍鱼(天河北旗舰店)        30\n22     10         麓苑轩酒家        58",
      "text/html": "<div>\n<style scoped>\n    .dataframe tbody tr th:only-of-type {\n        vertical-align: middle;\n    }\n\n    .dataframe tbody tr th {\n        vertical-align: top;\n    }\n\n    .dataframe thead th {\n        text-align: right;\n    }\n</style>\n<table border=\"1\" class=\"dataframe\">\n  <thead>\n    <tr style=\"text-align: right;\">\n      <th></th>\n      <th>Month</th>\n      <th>Merchant</th>\n      <th>Reviewer</th>\n    </tr>\n  </thead>\n  <tbody>\n    <tr>\n      <th>0</th>\n      <td>1</td>\n      <td>阿一鲍鱼(天河北旗舰店)</td>\n      <td>44</td>\n    </tr>\n    <tr>\n      <th>1</th>\n      <td>1</td>\n      <td>麓苑轩酒家</td>\n      <td>90</td>\n    </tr>\n    <tr>\n      <th>2</th>\n      <td>2</td>\n      <td>阿一鲍鱼(天河北旗舰店)</td>\n      <td>40</td>\n    </tr>\n    <tr>\n      <th>3</th>\n      <td>2</td>\n      <td>麓苑轩酒家</td>\n      <td>42</td>\n    </tr>\n    <tr>\n      <th>4</th>\n      <td>3</td>\n      <td>阿一鲍鱼(天河北旗舰店)</td>\n      <td>16</td>\n    </tr>\n    <tr>\n      <th>5</th>\n      <td>3</td>\n      <td>麓苑轩酒家</td>\n      <td>94</td>\n    </tr>\n    <tr>\n      <th>6</th>\n      <td>4</td>\n      <td>阿一鲍鱼(天河北旗舰店)</td>\n      <td>32</td>\n    </tr>\n    <tr>\n      <th>7</th>\n      <td>4</td>\n      <td>麓苑轩酒家</td>\n      <td>78</td>\n    </tr>\n    <tr>\n      <th>8</th>\n      <td>5</td>\n      <td>阿一鲍鱼(天河北旗舰店)</td>\n      <td>30</td>\n    </tr>\n    <tr>\n      <th>9</th>\n      <td>5</td>\n      <td>麓苑轩酒家</td>\n      <td>56</td>\n    </tr>\n    <tr>\n      <th>10</th>\n      <td>6</td>\n      <td>阿一鲍鱼(天河北旗舰店)</td>\n      <td>20</td>\n    </tr>\n    <tr>\n      <th>11</th>\n      <td>6</td>\n      <td>麓苑轩酒家</td>\n      <td>68</td>\n    </tr>\n    <tr>\n      <th>12</th>\n      <td>7</td>\n      <td>阿一鲍鱼(天河北旗舰店)</td>\n      <td>26</td>\n    </tr>\n    <tr>\n      <th>13</th>\n      <td>7</td>\n      <td>麓苑轩酒家</td>\n      <td>108</td>\n    </tr>\n    <tr>\n      <th>14</th>\n      <td>8</td>\n      <td>深香狮头鹅-新派潮菜</td>\n      <td>2</td>\n    </tr>\n    <tr>\n      <th>15</th>\n      <td>8</td>\n      <td>阿一鲍鱼(天河北旗舰店)</td>\n      <td>20</td>\n    </tr>\n    <tr>\n      <th>16</th>\n      <td>8</td>\n      <td>麓苑轩酒家</td>\n      <td>74</td>\n    </tr>\n    <tr>\n      <th>17</th>\n      <td>9</td>\n      <td>深香狮头鹅-新派潮菜</td>\n      <td>7</td>\n    </tr>\n    <tr>\n      <th>18</th>\n      <td>9</td>\n      <td>阿一鲍鱼(天河北旗舰店)</td>\n      <td>32</td>\n    </tr>\n    <tr>\n      <th>19</th>\n      <td>9</td>\n      <td>麓苑轩酒家</td>\n      <td>56</td>\n    </tr>\n    <tr>\n      <th>20</th>\n      <td>10</td>\n      <td>深香狮头鹅-新派潮菜</td>\n      <td>23</td>\n    </tr>\n    <tr>\n      <th>21</th>\n      <td>10</td>\n      <td>阿一鲍鱼(天河北旗舰店)</td>\n      <td>30</td>\n    </tr>\n    <tr>\n      <th>22</th>\n      <td>10</td>\n      <td>麓苑轩酒家</td>\n      <td>58</td>\n    </tr>\n  </tbody>\n</table>\n</div>"
     },
     "execution_count": 81,
     "metadata": {},
     "output_type": "execute_result"
    }
   ],
   "source": [
    "merchantsname1=\"阿一鲍鱼(天河北旗舰店)\"\n",
    "merchantsname2=\"深香狮头鹅-新派潮菜\"\n",
    "merchantsname3=\"麓苑轩酒家\"\n",
    "merchantslist=[merchantsname1,merchantsname2,merchantsname3]\n",
    "# 只保留merchantsname的相关记录\n",
    "df_current=df[df['Merchant'].isin(merchantslist)]\n",
    "# df_current = df[(df['Merchant'] == merchantsname1) | (df['Merchant'] == merchantsname2) | (df['Merchant'] == merchantsname3)]\n",
    "# 按餐厅和月汇总2017年的评论数\n",
    "df_2017=df_current[df_current['Year']==2017]\n",
    "df_2017=df_2017.groupby(['Month','Merchant']).count()['Reviewer']\n",
    "# 按照Month列对df_2017排序\n",
    "df_2017=df_2017.sort_index()\n",
    "# 去除索引\n",
    "df_2017=df_2017.reset_index()\n",
    "df_2017"
   ],
   "metadata": {
    "collapsed": false,
    "ExecuteTime": {
     "end_time": "2023-06-03T11:23:46.309394Z",
     "start_time": "2023-06-03T11:23:46.261648Z"
    }
   }
  },
  {
   "cell_type": "code",
   "execution_count": 101,
   "outputs": [
    {
     "name": "stderr",
     "output_type": "stream",
     "text": [
      "/var/folders/zj/zs9jhhmn1zs7p_t_thgtq0bm0000gn/T/ipykernel_83028/3831235231.py:9: DeprecationWarning: The truth value of an empty array is ambiguous. Returning False, but in future this will result in an error. Use `array.size > 0` to check that an array is not empty.\n",
      "  'merchant2':int(df_2017[(df_2017['Month']==df_2017['Month'].unique()[i]) & (df_2017['Merchant']==merchantslist[1])]['Reviewer'].values if df_2017[(df_2017['Month']==df_2017['Month'].unique()[i]) & (df_2017['Merchant']==merchantslist[1])]['Reviewer'].values else 0),\n"
     ]
    },
    {
     "data": {
      "text/plain": "[{'name': '1月', 'merchant1': 44, 'merchant2': 0, 'merchant3': 90},\n {'name': '2月', 'merchant1': 40, 'merchant2': 0, 'merchant3': 42},\n {'name': '3月', 'merchant1': 16, 'merchant2': 0, 'merchant3': 94},\n {'name': '4月', 'merchant1': 32, 'merchant2': 0, 'merchant3': 78},\n {'name': '5月', 'merchant1': 30, 'merchant2': 0, 'merchant3': 56},\n {'name': '6月', 'merchant1': 20, 'merchant2': 0, 'merchant3': 68},\n {'name': '7月', 'merchant1': 26, 'merchant2': 0, 'merchant3': 108},\n {'name': '8月', 'merchant1': 20, 'merchant2': 2, 'merchant3': 74},\n {'name': '9月', 'merchant1': 32, 'merchant2': 7, 'merchant3': 56},\n {'name': '10月', 'merchant1': 30, 'merchant2': 23, 'merchant3': 58}]"
     },
     "execution_count": 101,
     "metadata": {},
     "output_type": "execute_result"
    }
   ],
   "source": [
    "month_data=[]\n",
    "# 将每月不同餐厅的评论数放入month_data\n",
    "for i in range(len(df_2017['Month'].unique())):\n",
    "    month_data.append(\n",
    "        {'name':str(df_2017['Month'].unique()[i])+\"月\",\n",
    "         'merchant1':int(df_2017[(df_2017['Month']==df_2017['Month'].unique()[i]) & (df_2017['Merchant']==merchantslist[0])]['Reviewer'].values if df_2017[(df_2017['Month']==df_2017['Month'].unique()[i]) & (df_2017['Merchant']==merchantslist[0])]['Reviewer'].values else 0),\n",
    "         'merchant2':int(df_2017[(df_2017['Month']==df_2017['Month'].unique()[i]) & (df_2017['Merchant']==merchantslist[1])]['Reviewer'].values if df_2017[(df_2017['Month']==df_2017['Month'].unique()[i]) & (df_2017['Merchant']==merchantslist[1])]['Reviewer'].values else 0),\n",
    "         'merchant3':int(df_2017[(df_2017['Month']==df_2017['Month'].unique()[i]) & (df_2017['Merchant']==merchantslist[2])]['Reviewer'].values if df_2017[(df_2017['Month']==df_2017['Month'].unique()[i]) & (df_2017['Merchant']==merchantslist[2])]['Reviewer'].values else 0)\n",
    "         })\n",
    "month_data"
   ],
   "metadata": {
    "collapsed": false,
    "ExecuteTime": {
     "end_time": "2023-06-03T11:36:08.252894Z",
     "start_time": "2023-06-03T11:36:08.224247Z"
    }
   }
  },
  {
   "cell_type": "code",
   "execution_count": 102,
   "outputs": [
    {
     "name": "stderr",
     "output_type": "stream",
     "text": [
      "/var/folders/zj/zs9jhhmn1zs7p_t_thgtq0bm0000gn/T/ipykernel_83028/4185141354.py:3: SettingWithCopyWarning: \n",
      "A value is trying to be set on a copy of a slice from a DataFrame.\n",
      "Try using .loc[row_indexer,col_indexer] = value instead\n",
      "\n",
      "See the caveats in the documentation: https://pandas.pydata.org/pandas-docs/stable/user_guide/indexing.html#returning-a-view-versus-a-copy\n",
      "  df_current['Quarter']=df_current['Year'].astype(str)+'Q'+(df_current['Month']/3).apply(lambda x:math.ceil(x)).astype(str)\n"
     ]
    },
    {
     "data": {
      "text/plain": "   Quarter      Merchant  Reviewer\n0   2015Q1  阿一鲍鱼(天河北旗舰店)       576\n1   2015Q1         麓苑轩酒家       352\n2   2015Q2  阿一鲍鱼(天河北旗舰店)       494\n3   2015Q2         麓苑轩酒家       644\n4   2015Q3  阿一鲍鱼(天河北旗舰店)       376\n5   2015Q3         麓苑轩酒家       740\n6   2015Q4  阿一鲍鱼(天河北旗舰店)       324\n7   2015Q4         麓苑轩酒家       746\n8   2016Q1  阿一鲍鱼(天河北旗舰店)       228\n9   2016Q1         麓苑轩酒家       666\n10  2016Q2  阿一鲍鱼(天河北旗舰店)       174\n11  2016Q2         麓苑轩酒家       406\n12  2016Q3  阿一鲍鱼(天河北旗舰店)       138\n13  2016Q3         麓苑轩酒家       396\n14  2016Q4  阿一鲍鱼(天河北旗舰店)        86\n15  2016Q4         麓苑轩酒家       828\n16  2017Q1  阿一鲍鱼(天河北旗舰店)       100\n17  2017Q1         麓苑轩酒家       226\n18  2017Q2  阿一鲍鱼(天河北旗舰店)        82\n19  2017Q2         麓苑轩酒家       202\n20  2017Q3    深香狮头鹅-新派潮菜         9\n21  2017Q3  阿一鲍鱼(天河北旗舰店)        78\n22  2017Q3         麓苑轩酒家       238\n23  2017Q4    深香狮头鹅-新派潮菜        23\n24  2017Q4  阿一鲍鱼(天河北旗舰店)        30\n25  2017Q4         麓苑轩酒家        58",
      "text/html": "<div>\n<style scoped>\n    .dataframe tbody tr th:only-of-type {\n        vertical-align: middle;\n    }\n\n    .dataframe tbody tr th {\n        vertical-align: top;\n    }\n\n    .dataframe thead th {\n        text-align: right;\n    }\n</style>\n<table border=\"1\" class=\"dataframe\">\n  <thead>\n    <tr style=\"text-align: right;\">\n      <th></th>\n      <th>Quarter</th>\n      <th>Merchant</th>\n      <th>Reviewer</th>\n    </tr>\n  </thead>\n  <tbody>\n    <tr>\n      <th>0</th>\n      <td>2015Q1</td>\n      <td>阿一鲍鱼(天河北旗舰店)</td>\n      <td>576</td>\n    </tr>\n    <tr>\n      <th>1</th>\n      <td>2015Q1</td>\n      <td>麓苑轩酒家</td>\n      <td>352</td>\n    </tr>\n    <tr>\n      <th>2</th>\n      <td>2015Q2</td>\n      <td>阿一鲍鱼(天河北旗舰店)</td>\n      <td>494</td>\n    </tr>\n    <tr>\n      <th>3</th>\n      <td>2015Q2</td>\n      <td>麓苑轩酒家</td>\n      <td>644</td>\n    </tr>\n    <tr>\n      <th>4</th>\n      <td>2015Q3</td>\n      <td>阿一鲍鱼(天河北旗舰店)</td>\n      <td>376</td>\n    </tr>\n    <tr>\n      <th>5</th>\n      <td>2015Q3</td>\n      <td>麓苑轩酒家</td>\n      <td>740</td>\n    </tr>\n    <tr>\n      <th>6</th>\n      <td>2015Q4</td>\n      <td>阿一鲍鱼(天河北旗舰店)</td>\n      <td>324</td>\n    </tr>\n    <tr>\n      <th>7</th>\n      <td>2015Q4</td>\n      <td>麓苑轩酒家</td>\n      <td>746</td>\n    </tr>\n    <tr>\n      <th>8</th>\n      <td>2016Q1</td>\n      <td>阿一鲍鱼(天河北旗舰店)</td>\n      <td>228</td>\n    </tr>\n    <tr>\n      <th>9</th>\n      <td>2016Q1</td>\n      <td>麓苑轩酒家</td>\n      <td>666</td>\n    </tr>\n    <tr>\n      <th>10</th>\n      <td>2016Q2</td>\n      <td>阿一鲍鱼(天河北旗舰店)</td>\n      <td>174</td>\n    </tr>\n    <tr>\n      <th>11</th>\n      <td>2016Q2</td>\n      <td>麓苑轩酒家</td>\n      <td>406</td>\n    </tr>\n    <tr>\n      <th>12</th>\n      <td>2016Q3</td>\n      <td>阿一鲍鱼(天河北旗舰店)</td>\n      <td>138</td>\n    </tr>\n    <tr>\n      <th>13</th>\n      <td>2016Q3</td>\n      <td>麓苑轩酒家</td>\n      <td>396</td>\n    </tr>\n    <tr>\n      <th>14</th>\n      <td>2016Q4</td>\n      <td>阿一鲍鱼(天河北旗舰店)</td>\n      <td>86</td>\n    </tr>\n    <tr>\n      <th>15</th>\n      <td>2016Q4</td>\n      <td>麓苑轩酒家</td>\n      <td>828</td>\n    </tr>\n    <tr>\n      <th>16</th>\n      <td>2017Q1</td>\n      <td>阿一鲍鱼(天河北旗舰店)</td>\n      <td>100</td>\n    </tr>\n    <tr>\n      <th>17</th>\n      <td>2017Q1</td>\n      <td>麓苑轩酒家</td>\n      <td>226</td>\n    </tr>\n    <tr>\n      <th>18</th>\n      <td>2017Q2</td>\n      <td>阿一鲍鱼(天河北旗舰店)</td>\n      <td>82</td>\n    </tr>\n    <tr>\n      <th>19</th>\n      <td>2017Q2</td>\n      <td>麓苑轩酒家</td>\n      <td>202</td>\n    </tr>\n    <tr>\n      <th>20</th>\n      <td>2017Q3</td>\n      <td>深香狮头鹅-新派潮菜</td>\n      <td>9</td>\n    </tr>\n    <tr>\n      <th>21</th>\n      <td>2017Q3</td>\n      <td>阿一鲍鱼(天河北旗舰店)</td>\n      <td>78</td>\n    </tr>\n    <tr>\n      <th>22</th>\n      <td>2017Q3</td>\n      <td>麓苑轩酒家</td>\n      <td>238</td>\n    </tr>\n    <tr>\n      <th>23</th>\n      <td>2017Q4</td>\n      <td>深香狮头鹅-新派潮菜</td>\n      <td>23</td>\n    </tr>\n    <tr>\n      <th>24</th>\n      <td>2017Q4</td>\n      <td>阿一鲍鱼(天河北旗舰店)</td>\n      <td>30</td>\n    </tr>\n    <tr>\n      <th>25</th>\n      <td>2017Q4</td>\n      <td>麓苑轩酒家</td>\n      <td>58</td>\n    </tr>\n  </tbody>\n</table>\n</div>"
     },
     "execution_count": 102,
     "metadata": {},
     "output_type": "execute_result"
    }
   ],
   "source": [
    "# 做2015年第一季度到2017年第三季度分餐厅分季度汇总的评论数\n",
    "import math\n",
    "df_current['Quarter']=df_current['Year'].astype(str)+'Q'+(df_current['Month']/3).apply(lambda x:math.ceil(x)).astype(str)\n",
    "df_2015_2017=df_current[(df_current['Year']>=2015) & (df_current['Year']<=2017)]\n",
    "df_2015_2017=df_2015_2017.groupby(['Quarter','Merchant']).count()['Reviewer']\n",
    "# 按照季度排序\n",
    "df_2015_2017=df_2015_2017.sort_index()\n",
    "# 去除索引\n",
    "df_2015_2017=df_2015_2017.reset_index()\n",
    "df_2015_2017"
   ],
   "metadata": {
    "collapsed": false,
    "ExecuteTime": {
     "end_time": "2023-06-03T11:38:14.135745Z",
     "start_time": "2023-06-03T11:38:14.079541Z"
    }
   }
  },
  {
   "cell_type": "code",
   "execution_count": 103,
   "outputs": [
    {
     "name": "stderr",
     "output_type": "stream",
     "text": [
      "/var/folders/zj/zs9jhhmn1zs7p_t_thgtq0bm0000gn/T/ipykernel_83028/4049706714.py:6: DeprecationWarning: The truth value of an empty array is ambiguous. Returning False, but in future this will result in an error. Use `array.size > 0` to check that an array is not empty.\n",
      "  'merchant2':int(df_2015_2017[(df_2015_2017['Quarter']==df_2015_2017['Quarter'].unique()[i]) & (df_2015_2017['Merchant']==merchantslist[1])]['Reviewer'].values if df_2015_2017[(df_2015_2017['Quarter']==df_2015_2017['Quarter'].unique()[i]) & (df_2015_2017['Merchant']==merchantslist[1])]['Reviewer'].values else 0),\n"
     ]
    },
    {
     "data": {
      "text/plain": "[{'name': '2015Q1', 'merchant1': 576, 'merchant2': 0, 'merchant3': 352},\n {'name': '2015Q2', 'merchant1': 494, 'merchant2': 0, 'merchant3': 644},\n {'name': '2015Q3', 'merchant1': 376, 'merchant2': 0, 'merchant3': 740},\n {'name': '2015Q4', 'merchant1': 324, 'merchant2': 0, 'merchant3': 746},\n {'name': '2016Q1', 'merchant1': 228, 'merchant2': 0, 'merchant3': 666},\n {'name': '2016Q2', 'merchant1': 174, 'merchant2': 0, 'merchant3': 406},\n {'name': '2016Q3', 'merchant1': 138, 'merchant2': 0, 'merchant3': 396},\n {'name': '2016Q4', 'merchant1': 86, 'merchant2': 0, 'merchant3': 828},\n {'name': '2017Q1', 'merchant1': 100, 'merchant2': 0, 'merchant3': 226},\n {'name': '2017Q2', 'merchant1': 82, 'merchant2': 0, 'merchant3': 202},\n {'name': '2017Q3', 'merchant1': 78, 'merchant2': 9, 'merchant3': 238},\n {'name': '2017Q4', 'merchant1': 30, 'merchant2': 23, 'merchant3': 58}]"
     },
     "execution_count": 103,
     "metadata": {},
     "output_type": "execute_result"
    }
   ],
   "source": [
    "quarter_data=[]\n",
    "for i in range(len(df_2015_2017['Quarter'].unique())):\n",
    "    quarter_data.append(\n",
    "        {'name':str(df_2015_2017['Quarter'].unique()[i]),\n",
    "         'merchant1':int(df_2015_2017[(df_2015_2017['Quarter']==df_2015_2017['Quarter'].unique()[i]) & (df_2015_2017['Merchant']==merchantslist[0])]['Reviewer'].values if df_2015_2017[(df_2015_2017['Quarter']==df_2015_2017['Quarter'].unique()[i]) & (df_2015_2017['Merchant']==merchantslist[0])]['Reviewer'].values else 0),\n",
    "         'merchant2':int(df_2015_2017[(df_2015_2017['Quarter']==df_2015_2017['Quarter'].unique()[i]) & (df_2015_2017['Merchant']==merchantslist[1])]['Reviewer'].values if df_2015_2017[(df_2015_2017['Quarter']==df_2015_2017['Quarter'].unique()[i]) & (df_2015_2017['Merchant']==merchantslist[1])]['Reviewer'].values else 0),\n",
    "         'merchant3':int(df_2015_2017[(df_2015_2017['Quarter']==df_2015_2017['Quarter'].unique()[i]) & (df_2015_2017['Merchant']==merchantslist[2])]['Reviewer'].values if df_2015_2017[(df_2015_2017['Quarter']==df_2015_2017['Quarter'].unique()[i]) & (df_2015_2017['Merchant']==merchantslist[2])]['Reviewer'].values else 0)\n",
    "         })\n",
    "quarter_data"
   ],
   "metadata": {
    "collapsed": false,
    "ExecuteTime": {
     "end_time": "2023-06-03T11:41:34.730882Z",
     "start_time": "2023-06-03T11:41:34.681568Z"
    }
   }
  },
  {
   "cell_type": "code",
   "execution_count": null,
   "outputs": [],
   "source": [],
   "metadata": {
    "collapsed": false
   }
  }
 ],
 "metadata": {
  "kernelspec": {
   "display_name": "Python 3",
   "language": "python",
   "name": "python3"
  },
  "language_info": {
   "codemirror_mode": {
    "name": "ipython",
    "version": 2
   },
   "file_extension": ".py",
   "mimetype": "text/x-python",
   "name": "python",
   "nbconvert_exporter": "python",
   "pygments_lexer": "ipython2",
   "version": "2.7.6"
  }
 },
 "nbformat": 4,
 "nbformat_minor": 0
}
