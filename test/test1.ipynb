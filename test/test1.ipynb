{
 "cells": [
  {
   "cell_type": "code",
   "execution_count": 2,
   "metadata": {
    "collapsed": true,
    "ExecuteTime": {
     "end_time": "2023-05-06T00:47:41.315734Z",
     "start_time": "2023-05-06T00:47:39.062971Z"
    }
   },
   "outputs": [
    {
     "name": "stderr",
     "output_type": "stream",
     "text": [
      "/var/folders/zj/zs9jhhmn1zs7p_t_thgtq0bm0000gn/T/ipykernel_62403/1770382661.py:3: DtypeWarning: Columns (3,4,5) have mixed types. Specify dtype option on import or set low_memory=False.\n",
      "  df = pd.read_csv('大众点评评论数据.csv', encoding='gb18030')\n"
     ]
    },
    {
     "data": {
      "text/plain": "        Review_ID     Merchant  Rating Score_taste Score_environment   \n0       377313283  炳胜品味(珠江新城店)       3           3                 3  \\\n1       376404966  炳胜品味(珠江新城店)       4           3                 4   \n2       374370927  炳胜品味(珠江新城店)       4           3                 3   \n3       377270662  炳胜品味(珠江新城店)       4           3                 3   \n4       377184095  炳胜品味(珠江新城店)       4           3                 3   \n...           ...          ...     ...         ...               ...   \n467450  116838734    大鸽饭(江燕路店)       5           4                 3   \n467451   51639859    大鸽饭(江燕路店)       5           3                 3   \n467452   44637865    大鸽饭(江燕路店)       3           2                 3   \n467453   43069187    大鸽饭(江燕路店)       1           1                 1   \n467454   40450305    大鸽饭(江燕路店)       4           3                 3   \n\n       Score_service Price_per_person       Time  Num_thumbs_up   \n0                  2                空     10月23日              2  \\\n1                  3                空     10月19日              2   \n2                  2                空      10月9日              0   \n3                  3              155     10月23日              0   \n4                  3                空     10月23日              0   \n...              ...              ...        ...            ...   \n467450             3                空   2014/3/7              0   \n467451             3               30  2014/1/31              0   \n467452             0                空  2013/7/28              0   \n467453             0                空  2013/6/14              1   \n467454             3               50   2013/4/3              2   \n\n        Num_ response                                     Content_review   \n0                   1  来广州出差，住在附近的康莱德酒店，晚上开完会就慕名而来，大概七点四十分的样子到的，人还有很多...  \\\n1                   0  ?·??·??前言本来是朋友约我们来的，结果朋友临时有事走不开，就我俩在这儿吃了。?·??·...   \n2                   0  朋友结婚选择在这里摆酒，在猎德A出口出来，直行转入兴盛路？再直行，走到天汇广场，过马路，再一...   \n3                   0  据说是个老子号，听名字就感觉很广东??，很正宗的样子！！这家分店打听了一下，说是地儿最大，环...   \n4                   0  周末不煮饭的日子，偶来啦??。中午12点多到店，3楼满了??让到2楼，2楼说要到1楼拿号??...   \n...               ...                                                ...   \n467450              0                         没有因为团购而减少，汤很好喝，乳鸽烧得不错，非常满意   \n467451              1                   味道还可以，上菜速度快，环境适中，价钱便宜，适合一家大小出去吃饭   \n467452              1  味精味越來越重而且服務太差衹是要求換桌子那個主任居然扔我的單子然後茶位都不幫我開就走了不會再...   \n467453              0  服务员部长人手不足，等好耐都无人招呼，个经理d态度劲差啊，今时今日甘嘅服务态度，一定唔会再帮...   \n467454              0  我们有个同事最喜欢来这家店了，每次电话给他，都说在大鸽饭呢，心想：有这么好吃吗？今天带上家里...   \n\n        Reviewer  Reviewer_value  Reviewer_rank Favorite_foods  \n0        胖子界的瘦子吴               5              1            NaN  \n1         快快到盆里来               6              1            NaN  \n2           Yyg喵               3              1            NaN  \n3           肥螳螂_               4              1    干炒牛河 炳胜荔枝鸡   \n4       hhy_0919               4              1            NaN  \n...          ...             ...            ...            ...  \n467450        卓彤               2              0            NaN  \n467451   星Steven               0              0            NaN  \n467452  yeetingg               0              0            NaN  \n467453    GZ的小嫦嫦               0              0            NaN  \n467454     爱在打工时               0              0            NaN  \n\n[467455 rows x 15 columns]",
      "text/html": "<div>\n<style scoped>\n    .dataframe tbody tr th:only-of-type {\n        vertical-align: middle;\n    }\n\n    .dataframe tbody tr th {\n        vertical-align: top;\n    }\n\n    .dataframe thead th {\n        text-align: right;\n    }\n</style>\n<table border=\"1\" class=\"dataframe\">\n  <thead>\n    <tr style=\"text-align: right;\">\n      <th></th>\n      <th>Review_ID</th>\n      <th>Merchant</th>\n      <th>Rating</th>\n      <th>Score_taste</th>\n      <th>Score_environment</th>\n      <th>Score_service</th>\n      <th>Price_per_person</th>\n      <th>Time</th>\n      <th>Num_thumbs_up</th>\n      <th>Num_ response</th>\n      <th>Content_review</th>\n      <th>Reviewer</th>\n      <th>Reviewer_value</th>\n      <th>Reviewer_rank</th>\n      <th>Favorite_foods</th>\n    </tr>\n  </thead>\n  <tbody>\n    <tr>\n      <th>0</th>\n      <td>377313283</td>\n      <td>炳胜品味(珠江新城店)</td>\n      <td>3</td>\n      <td>3</td>\n      <td>3</td>\n      <td>2</td>\n      <td>空</td>\n      <td>10月23日</td>\n      <td>2</td>\n      <td>1</td>\n      <td>来广州出差，住在附近的康莱德酒店，晚上开完会就慕名而来，大概七点四十分的样子到的，人还有很多...</td>\n      <td>胖子界的瘦子吴</td>\n      <td>5</td>\n      <td>1</td>\n      <td>NaN</td>\n    </tr>\n    <tr>\n      <th>1</th>\n      <td>376404966</td>\n      <td>炳胜品味(珠江新城店)</td>\n      <td>4</td>\n      <td>3</td>\n      <td>4</td>\n      <td>3</td>\n      <td>空</td>\n      <td>10月19日</td>\n      <td>2</td>\n      <td>0</td>\n      <td>?·??·??前言本来是朋友约我们来的，结果朋友临时有事走不开，就我俩在这儿吃了。?·??·...</td>\n      <td>快快到盆里来</td>\n      <td>6</td>\n      <td>1</td>\n      <td>NaN</td>\n    </tr>\n    <tr>\n      <th>2</th>\n      <td>374370927</td>\n      <td>炳胜品味(珠江新城店)</td>\n      <td>4</td>\n      <td>3</td>\n      <td>3</td>\n      <td>2</td>\n      <td>空</td>\n      <td>10月9日</td>\n      <td>0</td>\n      <td>0</td>\n      <td>朋友结婚选择在这里摆酒，在猎德A出口出来，直行转入兴盛路？再直行，走到天汇广场，过马路，再一...</td>\n      <td>Yyg喵</td>\n      <td>3</td>\n      <td>1</td>\n      <td>NaN</td>\n    </tr>\n    <tr>\n      <th>3</th>\n      <td>377270662</td>\n      <td>炳胜品味(珠江新城店)</td>\n      <td>4</td>\n      <td>3</td>\n      <td>3</td>\n      <td>3</td>\n      <td>155</td>\n      <td>10月23日</td>\n      <td>0</td>\n      <td>0</td>\n      <td>据说是个老子号，听名字就感觉很广东??，很正宗的样子！！这家分店打听了一下，说是地儿最大，环...</td>\n      <td>肥螳螂_</td>\n      <td>4</td>\n      <td>1</td>\n      <td>干炒牛河 炳胜荔枝鸡</td>\n    </tr>\n    <tr>\n      <th>4</th>\n      <td>377184095</td>\n      <td>炳胜品味(珠江新城店)</td>\n      <td>4</td>\n      <td>3</td>\n      <td>3</td>\n      <td>3</td>\n      <td>空</td>\n      <td>10月23日</td>\n      <td>0</td>\n      <td>0</td>\n      <td>周末不煮饭的日子，偶来啦??。中午12点多到店，3楼满了??让到2楼，2楼说要到1楼拿号??...</td>\n      <td>hhy_0919</td>\n      <td>4</td>\n      <td>1</td>\n      <td>NaN</td>\n    </tr>\n    <tr>\n      <th>...</th>\n      <td>...</td>\n      <td>...</td>\n      <td>...</td>\n      <td>...</td>\n      <td>...</td>\n      <td>...</td>\n      <td>...</td>\n      <td>...</td>\n      <td>...</td>\n      <td>...</td>\n      <td>...</td>\n      <td>...</td>\n      <td>...</td>\n      <td>...</td>\n      <td>...</td>\n    </tr>\n    <tr>\n      <th>467450</th>\n      <td>116838734</td>\n      <td>大鸽饭(江燕路店)</td>\n      <td>5</td>\n      <td>4</td>\n      <td>3</td>\n      <td>3</td>\n      <td>空</td>\n      <td>2014/3/7</td>\n      <td>0</td>\n      <td>0</td>\n      <td>没有因为团购而减少，汤很好喝，乳鸽烧得不错，非常满意</td>\n      <td>卓彤</td>\n      <td>2</td>\n      <td>0</td>\n      <td>NaN</td>\n    </tr>\n    <tr>\n      <th>467451</th>\n      <td>51639859</td>\n      <td>大鸽饭(江燕路店)</td>\n      <td>5</td>\n      <td>3</td>\n      <td>3</td>\n      <td>3</td>\n      <td>30</td>\n      <td>2014/1/31</td>\n      <td>0</td>\n      <td>1</td>\n      <td>味道还可以，上菜速度快，环境适中，价钱便宜，适合一家大小出去吃饭</td>\n      <td>星Steven</td>\n      <td>0</td>\n      <td>0</td>\n      <td>NaN</td>\n    </tr>\n    <tr>\n      <th>467452</th>\n      <td>44637865</td>\n      <td>大鸽饭(江燕路店)</td>\n      <td>3</td>\n      <td>2</td>\n      <td>3</td>\n      <td>0</td>\n      <td>空</td>\n      <td>2013/7/28</td>\n      <td>0</td>\n      <td>1</td>\n      <td>味精味越來越重而且服務太差衹是要求換桌子那個主任居然扔我的單子然後茶位都不幫我開就走了不會再...</td>\n      <td>yeetingg</td>\n      <td>0</td>\n      <td>0</td>\n      <td>NaN</td>\n    </tr>\n    <tr>\n      <th>467453</th>\n      <td>43069187</td>\n      <td>大鸽饭(江燕路店)</td>\n      <td>1</td>\n      <td>1</td>\n      <td>1</td>\n      <td>0</td>\n      <td>空</td>\n      <td>2013/6/14</td>\n      <td>1</td>\n      <td>0</td>\n      <td>服务员部长人手不足，等好耐都无人招呼，个经理d态度劲差啊，今时今日甘嘅服务态度，一定唔会再帮...</td>\n      <td>GZ的小嫦嫦</td>\n      <td>0</td>\n      <td>0</td>\n      <td>NaN</td>\n    </tr>\n    <tr>\n      <th>467454</th>\n      <td>40450305</td>\n      <td>大鸽饭(江燕路店)</td>\n      <td>4</td>\n      <td>3</td>\n      <td>3</td>\n      <td>3</td>\n      <td>50</td>\n      <td>2013/4/3</td>\n      <td>2</td>\n      <td>0</td>\n      <td>我们有个同事最喜欢来这家店了，每次电话给他，都说在大鸽饭呢，心想：有这么好吃吗？今天带上家里...</td>\n      <td>爱在打工时</td>\n      <td>0</td>\n      <td>0</td>\n      <td>NaN</td>\n    </tr>\n  </tbody>\n</table>\n<p>467455 rows × 15 columns</p>\n</div>"
     },
     "execution_count": 1,
     "metadata": {},
     "output_type": "execute_result"
    },
    {
     "name": "stderr",
     "output_type": "stream",
     "text": [
      "/var/folders/zj/zs9jhhmn1zs7p_t_thgtq0bm0000gn/T/ipykernel_62403/1770382661.py:3: DtypeWarning: Columns (3,4,5) have mixed types. Specify dtype option on import or set low_memory=False.\n",
      "  df = pd.read_csv('大众点评评论数据.csv', encoding='gb18030')\n"
     ]
    },
    {
     "data": {
      "text/plain": "        Review_ID     Merchant  Rating Score_taste Score_environment   \n0       377313283  炳胜品味(珠江新城店)       3           3                 3  \\\n1       376404966  炳胜品味(珠江新城店)       4           3                 4   \n2       374370927  炳胜品味(珠江新城店)       4           3                 3   \n3       377270662  炳胜品味(珠江新城店)       4           3                 3   \n4       377184095  炳胜品味(珠江新城店)       4           3                 3   \n...           ...          ...     ...         ...               ...   \n467450  116838734    大鸽饭(江燕路店)       5           4                 3   \n467451   51639859    大鸽饭(江燕路店)       5           3                 3   \n467452   44637865    大鸽饭(江燕路店)       3           2                 3   \n467453   43069187    大鸽饭(江燕路店)       1           1                 1   \n467454   40450305    大鸽饭(江燕路店)       4           3                 3   \n\n       Score_service Price_per_person       Time  Num_thumbs_up   \n0                  2                空     10月23日              2  \\\n1                  3                空     10月19日              2   \n2                  2                空      10月9日              0   \n3                  3              155     10月23日              0   \n4                  3                空     10月23日              0   \n...              ...              ...        ...            ...   \n467450             3                空   2014/3/7              0   \n467451             3               30  2014/1/31              0   \n467452             0                空  2013/7/28              0   \n467453             0                空  2013/6/14              1   \n467454             3               50   2013/4/3              2   \n\n        Num_ response                                     Content_review   \n0                   1  来广州出差，住在附近的康莱德酒店，晚上开完会就慕名而来，大概七点四十分的样子到的，人还有很多...  \\\n1                   0  ?·??·??前言本来是朋友约我们来的，结果朋友临时有事走不开，就我俩在这儿吃了。?·??·...   \n2                   0  朋友结婚选择在这里摆酒，在猎德A出口出来，直行转入兴盛路？再直行，走到天汇广场，过马路，再一...   \n3                   0  据说是个老子号，听名字就感觉很广东??，很正宗的样子！！这家分店打听了一下，说是地儿最大，环...   \n4                   0  周末不煮饭的日子，偶来啦??。中午12点多到店，3楼满了??让到2楼，2楼说要到1楼拿号??...   \n...               ...                                                ...   \n467450              0                         没有因为团购而减少，汤很好喝，乳鸽烧得不错，非常满意   \n467451              1                   味道还可以，上菜速度快，环境适中，价钱便宜，适合一家大小出去吃饭   \n467452              1  味精味越來越重而且服務太差衹是要求換桌子那個主任居然扔我的單子然後茶位都不幫我開就走了不會再...   \n467453              0  服务员部长人手不足，等好耐都无人招呼，个经理d态度劲差啊，今时今日甘嘅服务态度，一定唔会再帮...   \n467454              0  我们有个同事最喜欢来这家店了，每次电话给他，都说在大鸽饭呢，心想：有这么好吃吗？今天带上家里...   \n\n        Reviewer  Reviewer_value  Reviewer_rank Favorite_foods  \n0        胖子界的瘦子吴               5              1            NaN  \n1         快快到盆里来               6              1            NaN  \n2           Yyg喵               3              1            NaN  \n3           肥螳螂_               4              1    干炒牛河 炳胜荔枝鸡   \n4       hhy_0919               4              1            NaN  \n...          ...             ...            ...            ...  \n467450        卓彤               2              0            NaN  \n467451   星Steven               0              0            NaN  \n467452  yeetingg               0              0            NaN  \n467453    GZ的小嫦嫦               0              0            NaN  \n467454     爱在打工时               0              0            NaN  \n\n[467455 rows x 15 columns]",
      "text/html": "<div>\n<style scoped>\n    .dataframe tbody tr th:only-of-type {\n        vertical-align: middle;\n    }\n\n    .dataframe tbody tr th {\n        vertical-align: top;\n    }\n\n    .dataframe thead th {\n        text-align: right;\n    }\n</style>\n<table border=\"1\" class=\"dataframe\">\n  <thead>\n    <tr style=\"text-align: right;\">\n      <th></th>\n      <th>Review_ID</th>\n      <th>Merchant</th>\n      <th>Rating</th>\n      <th>Score_taste</th>\n      <th>Score_environment</th>\n      <th>Score_service</th>\n      <th>Price_per_person</th>\n      <th>Time</th>\n      <th>Num_thumbs_up</th>\n      <th>Num_ response</th>\n      <th>Content_review</th>\n      <th>Reviewer</th>\n      <th>Reviewer_value</th>\n      <th>Reviewer_rank</th>\n      <th>Favorite_foods</th>\n    </tr>\n  </thead>\n  <tbody>\n    <tr>\n      <th>0</th>\n      <td>377313283</td>\n      <td>炳胜品味(珠江新城店)</td>\n      <td>3</td>\n      <td>3</td>\n      <td>3</td>\n      <td>2</td>\n      <td>空</td>\n      <td>10月23日</td>\n      <td>2</td>\n      <td>1</td>\n      <td>来广州出差，住在附近的康莱德酒店，晚上开完会就慕名而来，大概七点四十分的样子到的，人还有很多...</td>\n      <td>胖子界的瘦子吴</td>\n      <td>5</td>\n      <td>1</td>\n      <td>NaN</td>\n    </tr>\n    <tr>\n      <th>1</th>\n      <td>376404966</td>\n      <td>炳胜品味(珠江新城店)</td>\n      <td>4</td>\n      <td>3</td>\n      <td>4</td>\n      <td>3</td>\n      <td>空</td>\n      <td>10月19日</td>\n      <td>2</td>\n      <td>0</td>\n      <td>?·??·??前言本来是朋友约我们来的，结果朋友临时有事走不开，就我俩在这儿吃了。?·??·...</td>\n      <td>快快到盆里来</td>\n      <td>6</td>\n      <td>1</td>\n      <td>NaN</td>\n    </tr>\n    <tr>\n      <th>2</th>\n      <td>374370927</td>\n      <td>炳胜品味(珠江新城店)</td>\n      <td>4</td>\n      <td>3</td>\n      <td>3</td>\n      <td>2</td>\n      <td>空</td>\n      <td>10月9日</td>\n      <td>0</td>\n      <td>0</td>\n      <td>朋友结婚选择在这里摆酒，在猎德A出口出来，直行转入兴盛路？再直行，走到天汇广场，过马路，再一...</td>\n      <td>Yyg喵</td>\n      <td>3</td>\n      <td>1</td>\n      <td>NaN</td>\n    </tr>\n    <tr>\n      <th>3</th>\n      <td>377270662</td>\n      <td>炳胜品味(珠江新城店)</td>\n      <td>4</td>\n      <td>3</td>\n      <td>3</td>\n      <td>3</td>\n      <td>155</td>\n      <td>10月23日</td>\n      <td>0</td>\n      <td>0</td>\n      <td>据说是个老子号，听名字就感觉很广东??，很正宗的样子！！这家分店打听了一下，说是地儿最大，环...</td>\n      <td>肥螳螂_</td>\n      <td>4</td>\n      <td>1</td>\n      <td>干炒牛河 炳胜荔枝鸡</td>\n    </tr>\n    <tr>\n      <th>4</th>\n      <td>377184095</td>\n      <td>炳胜品味(珠江新城店)</td>\n      <td>4</td>\n      <td>3</td>\n      <td>3</td>\n      <td>3</td>\n      <td>空</td>\n      <td>10月23日</td>\n      <td>0</td>\n      <td>0</td>\n      <td>周末不煮饭的日子，偶来啦??。中午12点多到店，3楼满了??让到2楼，2楼说要到1楼拿号??...</td>\n      <td>hhy_0919</td>\n      <td>4</td>\n      <td>1</td>\n      <td>NaN</td>\n    </tr>\n    <tr>\n      <th>...</th>\n      <td>...</td>\n      <td>...</td>\n      <td>...</td>\n      <td>...</td>\n      <td>...</td>\n      <td>...</td>\n      <td>...</td>\n      <td>...</td>\n      <td>...</td>\n      <td>...</td>\n      <td>...</td>\n      <td>...</td>\n      <td>...</td>\n      <td>...</td>\n      <td>...</td>\n    </tr>\n    <tr>\n      <th>467450</th>\n      <td>116838734</td>\n      <td>大鸽饭(江燕路店)</td>\n      <td>5</td>\n      <td>4</td>\n      <td>3</td>\n      <td>3</td>\n      <td>空</td>\n      <td>2014/3/7</td>\n      <td>0</td>\n      <td>0</td>\n      <td>没有因为团购而减少，汤很好喝，乳鸽烧得不错，非常满意</td>\n      <td>卓彤</td>\n      <td>2</td>\n      <td>0</td>\n      <td>NaN</td>\n    </tr>\n    <tr>\n      <th>467451</th>\n      <td>51639859</td>\n      <td>大鸽饭(江燕路店)</td>\n      <td>5</td>\n      <td>3</td>\n      <td>3</td>\n      <td>3</td>\n      <td>30</td>\n      <td>2014/1/31</td>\n      <td>0</td>\n      <td>1</td>\n      <td>味道还可以，上菜速度快，环境适中，价钱便宜，适合一家大小出去吃饭</td>\n      <td>星Steven</td>\n      <td>0</td>\n      <td>0</td>\n      <td>NaN</td>\n    </tr>\n    <tr>\n      <th>467452</th>\n      <td>44637865</td>\n      <td>大鸽饭(江燕路店)</td>\n      <td>3</td>\n      <td>2</td>\n      <td>3</td>\n      <td>0</td>\n      <td>空</td>\n      <td>2013/7/28</td>\n      <td>0</td>\n      <td>1</td>\n      <td>味精味越來越重而且服務太差衹是要求換桌子那個主任居然扔我的單子然後茶位都不幫我開就走了不會再...</td>\n      <td>yeetingg</td>\n      <td>0</td>\n      <td>0</td>\n      <td>NaN</td>\n    </tr>\n    <tr>\n      <th>467453</th>\n      <td>43069187</td>\n      <td>大鸽饭(江燕路店)</td>\n      <td>1</td>\n      <td>1</td>\n      <td>1</td>\n      <td>0</td>\n      <td>空</td>\n      <td>2013/6/14</td>\n      <td>1</td>\n      <td>0</td>\n      <td>服务员部长人手不足，等好耐都无人招呼，个经理d态度劲差啊，今时今日甘嘅服务态度，一定唔会再帮...</td>\n      <td>GZ的小嫦嫦</td>\n      <td>0</td>\n      <td>0</td>\n      <td>NaN</td>\n    </tr>\n    <tr>\n      <th>467454</th>\n      <td>40450305</td>\n      <td>大鸽饭(江燕路店)</td>\n      <td>4</td>\n      <td>3</td>\n      <td>3</td>\n      <td>3</td>\n      <td>50</td>\n      <td>2013/4/3</td>\n      <td>2</td>\n      <td>0</td>\n      <td>我们有个同事最喜欢来这家店了，每次电话给他，都说在大鸽饭呢，心想：有这么好吃吗？今天带上家里...</td>\n      <td>爱在打工时</td>\n      <td>0</td>\n      <td>0</td>\n      <td>NaN</td>\n    </tr>\n  </tbody>\n</table>\n<p>467455 rows × 15 columns</p>\n</div>"
     },
     "execution_count": 2,
     "metadata": {},
     "output_type": "execute_result"
    }
   ],
   "source": [
    "# 读取大众点评数据\n",
    "import pandas as pd\n",
    "df = pd.read_csv('大众点评评论数据.csv', encoding='gb18030')\n",
    "df"
   ]
  },
  {
   "cell_type": "code",
   "execution_count": 3,
   "outputs": [
    {
     "name": "stdout",
     "output_type": "stream",
     "text": [
      "<class 'pandas.core.frame.DataFrame'>\n",
      "RangeIndex: 467455 entries, 0 to 467454\n",
      "Data columns (total 15 columns):\n",
      " #   Column             Non-Null Count   Dtype \n",
      "---  ------             --------------   ----- \n",
      " 0   Review_ID          467455 non-null  int64 \n",
      " 1   Merchant           467455 non-null  object\n",
      " 2   Rating             467455 non-null  int64 \n",
      " 3   Score_taste        467455 non-null  object\n",
      " 4   Score_environment  467455 non-null  object\n",
      " 5   Score_service      467455 non-null  object\n",
      " 6   Price_per_person   467455 non-null  object\n",
      " 7   Time               467455 non-null  object\n",
      " 8   Num_thumbs_up      467455 non-null  int64 \n",
      " 9   Num_ response      467455 non-null  int64 \n",
      " 10  Content_review     467447 non-null  object\n",
      " 11  Reviewer           467455 non-null  object\n",
      " 12  Reviewer_value     467455 non-null  int64 \n",
      " 13  Reviewer_rank      467455 non-null  int64 \n",
      " 14  Favorite_foods     55417 non-null   object\n",
      "dtypes: int64(6), object(9)\n",
      "memory usage: 53.5+ MB\n"
     ]
    }
   ],
   "source": [
    "# 查看数据的基本信息\n",
    "df.info()"
   ],
   "metadata": {
    "collapsed": false,
    "ExecuteTime": {
     "end_time": "2023-05-06T00:47:46.550813Z",
     "start_time": "2023-05-06T00:47:46.431705Z"
    }
   }
  },
  {
   "cell_type": "code",
   "execution_count": 4,
   "outputs": [],
   "source": [
    "# 'Rating', 'Score_taste', 'Score_environment', 'Score_service'转换为str类型\n",
    "df['Rating'] = df['Rating'].astype(str)\n",
    "df['Score_taste'] = df['Score_taste'].astype(str)\n",
    "df['Score_environment'] = df['Score_environment'].astype(str)\n",
    "df['Score_service'] = df['Score_service'].astype(str)"
   ],
   "metadata": {
    "collapsed": false,
    "ExecuteTime": {
     "end_time": "2023-05-06T00:47:47.816573Z",
     "start_time": "2023-05-06T00:47:47.588412Z"
    }
   }
  },
  {
   "cell_type": "code",
   "execution_count": 5,
   "outputs": [],
   "source": [
    "# 去除'Rating', 'Score_taste', 'Score_environment', 'Score_service'值为\"|\"符号和\"产\"“场”“房”字样的行\n",
    "df = df[~df['Rating'].str.contains('\\|')]\n",
    "df = df[~df['Score_taste'].str.contains('\\|')]\n",
    "df = df[~df['Score_environment'].str.contains('\\|')]\n",
    "df = df[~df['Score_service'].str.contains('\\|')]\n",
    "df = df[~df['Rating'].str.contains('产|场|房')]\n",
    "df = df[~df['Score_taste'].str.contains('产|场|房')]\n",
    "df = df[~df['Score_environment'].str.contains('产|场|房')]\n",
    "df = df[~df['Score_service'].str.contains('产|场|房')]"
   ],
   "metadata": {
    "collapsed": false,
    "ExecuteTime": {
     "end_time": "2023-05-06T00:47:49.424503Z",
     "start_time": "2023-05-06T00:47:48.290065Z"
    }
   }
  },
  {
   "cell_type": "code",
   "execution_count": 6,
   "outputs": [
    {
     "name": "stdout",
     "output_type": "stream",
     "text": [
      "<class 'pandas.core.frame.DataFrame'>\n",
      "Index: 467309 entries, 0 to 467454\n",
      "Data columns (total 15 columns):\n",
      " #   Column             Non-Null Count   Dtype \n",
      "---  ------             --------------   ----- \n",
      " 0   Review_ID          467309 non-null  int64 \n",
      " 1   Merchant           467309 non-null  object\n",
      " 2   Rating             467309 non-null  int64 \n",
      " 3   Score_taste        467309 non-null  int64 \n",
      " 4   Score_environment  467309 non-null  int64 \n",
      " 5   Score_service      467309 non-null  int64 \n",
      " 6   Price_per_person   467309 non-null  object\n",
      " 7   Time               467309 non-null  object\n",
      " 8   Num_thumbs_up      467309 non-null  int64 \n",
      " 9   Num_ response      467309 non-null  int64 \n",
      " 10  Content_review     467301 non-null  object\n",
      " 11  Reviewer           467309 non-null  object\n",
      " 12  Reviewer_value     467309 non-null  int64 \n",
      " 13  Reviewer_rank      467309 non-null  int64 \n",
      " 14  Favorite_foods     55417 non-null   object\n",
      "dtypes: int64(9), object(6)\n",
      "memory usage: 57.0+ MB\n"
     ]
    }
   ],
   "source": [
    "# 'Rating', 'Score_taste', 'Score_environment', 'Score_service'转换为int类型\n",
    "df['Rating'] = df['Rating'].astype(int)\n",
    "df['Score_taste'] = df['Score_taste'].astype(int)\n",
    "df['Score_environment'] = df['Score_environment'].astype(int)\n",
    "df['Score_service'] = df['Score_service'].astype(int)\n",
    "df.info()"
   ],
   "metadata": {
    "collapsed": false,
    "ExecuteTime": {
     "end_time": "2023-05-06T00:47:49.698960Z",
     "start_time": "2023-05-06T00:47:49.453011Z"
    }
   }
  },
  {
   "cell_type": "code",
   "execution_count": 7,
   "outputs": [
    {
     "data": {
      "text/plain": "0                  NaN\n1                  NaN\n2                  NaN\n3          干炒牛河 炳胜荔枝鸡 \n4                  NaN\n              ...     \n467450             NaN\n467451             NaN\n467452             NaN\n467453             NaN\n467454             NaN\nName: Favorite_foods, Length: 467309, dtype: object"
     },
     "execution_count": 7,
     "metadata": {},
     "output_type": "execute_result"
    }
   ],
   "source": [
    "df_dish=df['Favorite_foods']\n",
    "df_dish"
   ],
   "metadata": {
    "collapsed": false,
    "ExecuteTime": {
     "end_time": "2023-05-06T00:47:50.440563Z",
     "start_time": "2023-05-06T00:47:50.421196Z"
    }
   }
  },
  {
   "cell_type": "code",
   "execution_count": 8,
   "outputs": [
    {
     "data": {
      "text/plain": "3                     干炒牛河 炳胜荔枝鸡 \n8               脆皮叉烧拼秘制黑叉烧 豉油皇鹅肠 \n9          招牌菠萝包 脆皮叉烧拼秘制黑叉烧 古法烧鹅 \n11          古法烧鹅 清蒸山水豆腐 水鬼重 脆皮茄子 \n13                         招牌菠萝包 \n                   ...           \n467360                      盐焗乳鸽 \n467384                      盐焗乳鸽 \n467392                      盐焗乳鸽 \n467441           香芋扣肉 盐焗乳鸽 猪肚包乳鸽 \n467446                      乳鸽焗饭 \nName: Favorite_foods, Length: 55417, dtype: object"
     },
     "execution_count": 8,
     "metadata": {},
     "output_type": "execute_result"
    }
   ],
   "source": [
    "# 去掉NaN的行\n",
    "df_dish.dropna(inplace=True)\n",
    "df_dish"
   ],
   "metadata": {
    "collapsed": false,
    "ExecuteTime": {
     "end_time": "2023-05-06T00:47:51.546240Z",
     "start_time": "2023-05-06T00:47:51.476632Z"
    }
   }
  },
  {
   "cell_type": "code",
   "execution_count": 9,
   "outputs": [
    {
     "data": {
      "text/plain": "          Reviewer_value  Reviewer_rank\nReviewer                               \n!Mrlei..               0              0\n!i!_1163               0              0\n!i_3650                3              1\n!o_o!                  2              0\n!syao                  7              1\n...                  ...            ...\n￥小圆圆                   4              0\n￥我（来）也￥                0              0\n￥老牛￥                   0              0\n￥若儿￥                   0              0\n￥贝                     5              1\n\n[294049 rows x 2 columns]",
      "text/html": "<div>\n<style scoped>\n    .dataframe tbody tr th:only-of-type {\n        vertical-align: middle;\n    }\n\n    .dataframe tbody tr th {\n        vertical-align: top;\n    }\n\n    .dataframe thead th {\n        text-align: right;\n    }\n</style>\n<table border=\"1\" class=\"dataframe\">\n  <thead>\n    <tr style=\"text-align: right;\">\n      <th></th>\n      <th>Reviewer_value</th>\n      <th>Reviewer_rank</th>\n    </tr>\n    <tr>\n      <th>Reviewer</th>\n      <th></th>\n      <th></th>\n    </tr>\n  </thead>\n  <tbody>\n    <tr>\n      <th>!Mrlei..</th>\n      <td>0</td>\n      <td>0</td>\n    </tr>\n    <tr>\n      <th>!i!_1163</th>\n      <td>0</td>\n      <td>0</td>\n    </tr>\n    <tr>\n      <th>!i_3650</th>\n      <td>3</td>\n      <td>1</td>\n    </tr>\n    <tr>\n      <th>!o_o!</th>\n      <td>2</td>\n      <td>0</td>\n    </tr>\n    <tr>\n      <th>!syao</th>\n      <td>7</td>\n      <td>1</td>\n    </tr>\n    <tr>\n      <th>...</th>\n      <td>...</td>\n      <td>...</td>\n    </tr>\n    <tr>\n      <th>￥小圆圆</th>\n      <td>4</td>\n      <td>0</td>\n    </tr>\n    <tr>\n      <th>￥我（来）也￥</th>\n      <td>0</td>\n      <td>0</td>\n    </tr>\n    <tr>\n      <th>￥老牛￥</th>\n      <td>0</td>\n      <td>0</td>\n    </tr>\n    <tr>\n      <th>￥若儿￥</th>\n      <td>0</td>\n      <td>0</td>\n    </tr>\n    <tr>\n      <th>￥贝</th>\n      <td>5</td>\n      <td>1</td>\n    </tr>\n  </tbody>\n</table>\n<p>294049 rows × 2 columns</p>\n</div>"
     },
     "execution_count": 9,
     "metadata": {},
     "output_type": "execute_result"
    }
   ],
   "source": [
    "# 汇总求得每个用户的Reviewer_value和Reviewer_rank\n",
    "df_reviewer_value = df.groupby('Reviewer')[['Reviewer_value','Reviewer_rank']].max()\n",
    "df_reviewer_value"
   ],
   "metadata": {
    "collapsed": false,
    "ExecuteTime": {
     "end_time": "2023-05-06T00:47:56.215489Z",
     "start_time": "2023-05-06T00:47:55.877698Z"
    }
   }
  },
  {
   "cell_type": "code",
   "execution_count": 13,
   "outputs": [
    {
     "name": "stdout",
     "output_type": "stream",
     "text": [
      "上汤苋菜 --> 脆皮猪手\n",
      "乳鸽焗饭 --> 盐焗乳鸽\n",
      "山吭螺 --> 农家糖糕\n",
      "水库大鱼头 --> 农家糖糕\n",
      "农家糖糕 --> 烧鸡\n",
      "烧鸡 --> 农家糖糕\n",
      "莲藕尖炒什 --> 农家糖糕\n",
      "野生珍珠马蹄 --> 原味椰子鸡\n",
      "细蓉云吞面 --> 叉烧\n",
      "啫啫清远鸡 --> 雪山奶露包\n",
      "招牌窑鸡 --> 奶露包\n",
      "黑叉烧 --> 奶露包\n",
      "嫩牛肉 --> 牛筋丸\n",
      "燉土豬肉湯 --> 客语豆腐\n",
      "小炳胜炖汤 --> 雪山奶露包\n",
      "手撕鸡 --> 脆皮猪手\n",
      "招牌佛跳墙 --> 招牌酱爆豆角\n",
      "招牌艇仔粥 --> 金沙鲜虾红米肠\n",
      "豉汁蒸凤爪 --> 招牌虾饺皇\n",
      "招牌虾饺皇 --> 金沙红米肠\n",
      "顺德公炒陈村粉 --> 招牌酱爆豆角\n",
      "排骨香米锅底 --> 白贝\n",
      "排骨香米锅底 --> 蒸汽火锅\n",
      "日式青芥三文鱼蛋挞 --> 金沙红米肠\n",
      "明虾 --> 白贝\n",
      "明虾 --> 蒸汽火锅\n",
      "果汁猪扒 --> 脆皮猪手\n",
      "荔枝木叉烧 --> 柴火饭\n",
      "柴火饭 --> 荔枝木叉烧\n",
      "梅子乳鸽 --> 特色葱油飞鱼\n",
      "芥辣捞鸡 --> 榴莲炒饭\n",
      "榴莲炒饭 --> 芥辣捞鸡\n",
      "榴莲芝士鸡扒 --> 脆皮猪手\n",
      "沙拉猪扒 --> 脆皮猪手\n",
      "沙茶酱 --> 牛筋丸\n",
      "泰汁凤爪 --> 芒果椰汁糕\n",
      "清心第一包 --> 红烧乳鸽\n",
      "烧元贝 --> 烧生蚝\n",
      "莲藕尖炒什 --> 烧鸡\n",
      "示梗肉 --> 牛筋丸\n",
      "特价金牌虾饺皇 --> 金沙红米肠\n",
      "猪肉滑 --> 白贝\n",
      "猪肉滑 --> 蒸汽火锅\n",
      "白切牛肉 --> 脆皮猪手\n",
      "白灼吊片 --> 豉油糖煎黄花鱼\n",
      "罗氏虾 --> 白贝\n",
      "蒸汽火锅 --> 白贝\n",
      "麦香鸡 --> 白贝\n",
      "菜心炒鸽杂 --> 盐焗乳鸽\n",
      "顺德公炒陈村粉 --> 盐焗乳鸽\n",
      "鸽子饭 --> 盐焗乳鸽\n",
      "石锅珍菌炒饭 --> 美娘梅汁鲜苔卷\n",
      "秋葵 --> 雪山奶露包\n",
      "秘制黑叉烧 --> 雪山奶露包\n",
      "菜心炒鸽杂 --> 红烧乳鸽\n",
      "红豆沙 --> 脆皮猪手\n",
      "红酒皮蛋黑叉烧 --> 雪山奶露包\n",
      "罗氏虾 --> 蒸汽火锅\n",
      "羊城雀笼点心 --> 鲜果拿破仑\n",
      "酥炸鱿鱼须 --> 芒果椰汁糕\n",
      "芒果肠粉 --> 雪山奶露包\n",
      "蒸三色虾饺 --> 鬼鼠糯米糍\n",
      "麦香鸡 --> 蒸汽火锅\n",
      "虾酱啫生菜胆 --> 雪山奶露包\n",
      "酸辣牛羊杂 --> 雪山奶露包\n",
      "金牌虾皇饺 --> 金沙红米肠\n",
      "黑金猪手 --> 雪山奶露包\n",
      "靓仔奶茶 --> 黑挞\n",
      "鲜虾肠粉 --> 鲜果拿破仑\n",
      "红烧乳鸽 --> 盐焗乳鸽\n",
      "顺德公炒陈村粉 --> 招牌酱爆豆角\n",
      "招牌佛跳墙 --> 顺德公炒陈村粉\n",
      "盐焗乳鸽 --> 招牌酱爆豆角\n",
      "排骨香米锅底 --> 白贝\n",
      "蒸汽火锅 --> 白贝\n",
      "排骨香米锅底 --> 蒸汽火锅\n",
      "排骨香米锅底 --> 蒸汽火锅\n",
      "排骨香米锅底 --> 蒸汽火锅\n",
      "蒸汽火锅 --> 白贝\n",
      "明虾 --> 蒸汽火锅\n",
      "沙拉猪扒 --> 脆皮猪手\n",
      "金牌鲜虾饺皇 --> 金沙鲜虾红米肠\n",
      "金沙鲜虾红米肠 --> 金牌鲜虾饺皇\n",
      "蒸汽火锅 --> 白贝\n",
      "罗氏虾 --> 蒸汽火锅\n",
      "罗氏虾 --> 蒸汽火锅\n",
      "盐焗乳鸽 --> 红烧乳鸽\n",
      "红烧乳鸽 --> 盐焗乳鸽\n",
      "酸辣牛羊杂 --> 雪山奶露包\n"
     ]
    }
   ],
   "source": [
    "from mlxtend.preprocessing import TransactionEncoder\n",
    "from mlxtend.frequent_patterns import apriori, association_rules\n",
    "\n",
    "# 将df_dish转换为data的形式\n",
    "data = []\n",
    "for i in df_dish:\n",
    "    # 去掉前后的空格，将中间的空格作为分隔符\n",
    "    i = i.strip().replace(' ', ',')\n",
    "    # 将字符串转换为列表\n",
    "    i = i.split(',')\n",
    "    data.append(i)\n",
    "\n",
    "\n",
    "te = TransactionEncoder()\n",
    "te_ary = te.fit(data).transform(data)\n",
    "df_dish_bool = pd.DataFrame(te_ary, columns=te.columns_)\n",
    "frequent_itemsets = apriori(df_dish_bool, min_support=0.001, use_colnames=True)\n",
    "rules = association_rules(frequent_itemsets, metric=\"confidence\", min_threshold=0.5)\n",
    "# print(rules)\n",
    "\n",
    "# 将rules导出成csv文件\n",
    "rules.to_csv('rules.csv')\n",
    "\n",
    "# 将结果print为antecedents --> consequents的形式\n",
    "for i in range(len(rules)):\n",
    "    for j,k in zip(rules.iloc[i, 0], rules.iloc[i, 1]):\n",
    "        print(j, '-->', k)"
   ],
   "metadata": {
    "collapsed": false,
    "ExecuteTime": {
     "end_time": "2023-05-05T16:48:21.787379Z",
     "start_time": "2023-05-05T16:47:34.936969Z"
    }
   }
  },
  {
   "cell_type": "code",
   "execution_count": 14,
   "outputs": [
    {
     "data": {
      "text/plain": "Reviewer\n!Mrlei..                                                麓苑轩酒家\n!i!_1163                                            得味●田鸡主题餐厅\n!i_3650                                               點都德·德誉楼\n!o_o!                                凤厨顺德荟馆(上渡路店)<>如轩砂锅粥(海珠店)\n!syao       點都德(聚福楼)<>惠食佳(东风店)<>臻品·小炳胜(天环店)<>惠食佳(啫八店)<>小炳胜...\n                                  ...                        \n￥小圆圆                                                 點都德(德天楼)\n￥我（来）也￥                                        牛鲜馆牛肉火锅(东华西路店)\n￥老牛￥                                               如轩砂锅粥(海珠店)\n￥若儿￥                                         聚汇坊?猪肚鸡椰子鸡(环市东店)\n￥贝                      SKY NO.1空中一号<>海晏楼(滨江东总店)<>纯再餐厅(光明广场店)\nName: Merchant, Length: 294049, dtype: object"
     },
     "execution_count": 14,
     "metadata": {},
     "output_type": "execute_result"
    }
   ],
   "source": [
    "# 将每个Reviewer去过的餐厅汇总，每个人一行，去重 餐厅间用空格隔开\n",
    "df_reviewer_rest = df.groupby('Reviewer')['Merchant'].unique().apply(lambda x: '<>'.join(x))\n",
    "df_reviewer_rest"
   ],
   "metadata": {
    "collapsed": false,
    "ExecuteTime": {
     "end_time": "2023-05-05T16:48:33.352615Z",
     "start_time": "2023-05-05T16:48:27.690079Z"
    }
   }
  },
  {
   "cell_type": "code",
   "execution_count": 17,
   "outputs": [
    {
     "name": "stderr",
     "output_type": "stream",
     "text": [
      "IOPub data rate exceeded.\n",
      "The notebook server will temporarily stop sending output\n",
      "to the client in order to avoid crashing it.\n",
      "To change this limit, set the config variable\n",
      "`--NotebookApp.iopub_data_rate_limit`.\n",
      "\n",
      "Current values:\n",
      "NotebookApp.iopub_data_rate_limit=1000000.0 (bytes/sec)\n",
      "NotebookApp.rate_limit_window=3.0 (secs)\n",
      "\n"
     ]
    }
   ],
   "source": [
    "# 将df_dish转换为data的形式\n",
    "data = []\n",
    "for i in df_reviewer_rest:\n",
    "    # 去掉前后的空格，将中间的空格作为分隔符\n",
    "    i = i.strip().replace('<>', ',')\n",
    "    # 将字符串转换为列表\n",
    "    i = i.split(',')\n",
    "    data.append(i)\n",
    "\n",
    "print(data)\n",
    "te = TransactionEncoder()\n",
    "te_ary = te.fit(data).transform(data)\n",
    "df_dish_bool = pd.DataFrame(te_ary, columns=te.columns_)\n",
    "frequent_itemsets = apriori(df_dish_bool, min_support=0.0005, use_colnames=True)\n",
    "rules = association_rules(frequent_itemsets, metric=\"confidence\", min_threshold=0.5)\n",
    "# print(rules)\n",
    "\n",
    "# 将rules导出成csv文件\n",
    "rules.to_csv('rules.csv')\n",
    "\n",
    "# 将结果print为antecedents --> consequents的形式\n",
    "for i in range(len(rules)):\n",
    "    for j,k in zip(rules.iloc[i, 0], rules.iloc[i, 1]):\n",
    "        print(j, '-->', k)"
   ],
   "metadata": {
    "collapsed": false,
    "ExecuteTime": {
     "end_time": "2023-05-05T16:52:00.797189Z",
     "start_time": "2023-05-05T16:50:18.954580Z"
    }
   }
  },
  {
   "cell_type": "code",
   "execution_count": 19,
   "outputs": [
    {
     "data": {
      "text/plain": "Reviewer\n#NAME?        122\nmagla          53\n串串共葵仔          49\nmonbb          48\n新丁小胖胖          40\n             ... \nMiki_5617       1\n林珊子_2102        1\ngraceallen      1\nHQH_6869        1\n爱在打工时           1\nName: count, Length: 294049, dtype: int64"
     },
     "execution_count": 19,
     "metadata": {},
     "output_type": "execute_result"
    }
   ],
   "source": [
    "# 汇总计数每个df['Reviewer']的数量\n",
    "df_reviewer = df['Reviewer']\n",
    "df_reviewer_count = df_reviewer.value_counts()\n",
    "df_reviewer_count"
   ],
   "metadata": {
    "collapsed": false,
    "ExecuteTime": {
     "end_time": "2023-05-06T00:25:01.148427Z",
     "start_time": "2023-05-06T00:25:01.104833Z"
    }
   }
  },
  {
   "cell_type": "code",
   "execution_count": 10,
   "outputs": [
    {
     "data": {
      "text/plain": "            Rating  Score_taste  Score_environment  Score_service\nReviewer                                                         \n!Mrlei..  5.000000     4.000000           4.000000       4.000000\n!i!_1163  5.000000     4.000000           4.000000       4.000000\n!i_3650   5.000000     1.000000           4.000000       4.000000\n!o_o!     5.000000     4.000000           4.000000       4.000000\n!syao     3.888889     3.000000           2.666667       2.888889\n...            ...          ...                ...            ...\n￥小圆圆      5.000000     3.000000           4.000000       4.000000\n￥我（来）也￥   5.000000     4.000000           3.000000       3.000000\n￥老牛￥      2.000000     2.000000           3.000000       1.000000\n￥若儿￥      5.000000     4.000000           4.000000       4.000000\n￥贝        3.333333     2.333333           2.000000       2.000000\n\n[294049 rows x 4 columns]",
      "text/html": "<div>\n<style scoped>\n    .dataframe tbody tr th:only-of-type {\n        vertical-align: middle;\n    }\n\n    .dataframe tbody tr th {\n        vertical-align: top;\n    }\n\n    .dataframe thead th {\n        text-align: right;\n    }\n</style>\n<table border=\"1\" class=\"dataframe\">\n  <thead>\n    <tr style=\"text-align: right;\">\n      <th></th>\n      <th>Rating</th>\n      <th>Score_taste</th>\n      <th>Score_environment</th>\n      <th>Score_service</th>\n    </tr>\n    <tr>\n      <th>Reviewer</th>\n      <th></th>\n      <th></th>\n      <th></th>\n      <th></th>\n    </tr>\n  </thead>\n  <tbody>\n    <tr>\n      <th>!Mrlei..</th>\n      <td>5.000000</td>\n      <td>4.000000</td>\n      <td>4.000000</td>\n      <td>4.000000</td>\n    </tr>\n    <tr>\n      <th>!i!_1163</th>\n      <td>5.000000</td>\n      <td>4.000000</td>\n      <td>4.000000</td>\n      <td>4.000000</td>\n    </tr>\n    <tr>\n      <th>!i_3650</th>\n      <td>5.000000</td>\n      <td>1.000000</td>\n      <td>4.000000</td>\n      <td>4.000000</td>\n    </tr>\n    <tr>\n      <th>!o_o!</th>\n      <td>5.000000</td>\n      <td>4.000000</td>\n      <td>4.000000</td>\n      <td>4.000000</td>\n    </tr>\n    <tr>\n      <th>!syao</th>\n      <td>3.888889</td>\n      <td>3.000000</td>\n      <td>2.666667</td>\n      <td>2.888889</td>\n    </tr>\n    <tr>\n      <th>...</th>\n      <td>...</td>\n      <td>...</td>\n      <td>...</td>\n      <td>...</td>\n    </tr>\n    <tr>\n      <th>￥小圆圆</th>\n      <td>5.000000</td>\n      <td>3.000000</td>\n      <td>4.000000</td>\n      <td>4.000000</td>\n    </tr>\n    <tr>\n      <th>￥我（来）也￥</th>\n      <td>5.000000</td>\n      <td>4.000000</td>\n      <td>3.000000</td>\n      <td>3.000000</td>\n    </tr>\n    <tr>\n      <th>￥老牛￥</th>\n      <td>2.000000</td>\n      <td>2.000000</td>\n      <td>3.000000</td>\n      <td>1.000000</td>\n    </tr>\n    <tr>\n      <th>￥若儿￥</th>\n      <td>5.000000</td>\n      <td>4.000000</td>\n      <td>4.000000</td>\n      <td>4.000000</td>\n    </tr>\n    <tr>\n      <th>￥贝</th>\n      <td>3.333333</td>\n      <td>2.333333</td>\n      <td>2.000000</td>\n      <td>2.000000</td>\n    </tr>\n  </tbody>\n</table>\n<p>294049 rows × 4 columns</p>\n</div>"
     },
     "execution_count": 10,
     "metadata": {},
     "output_type": "execute_result"
    }
   ],
   "source": [
    "# 对df的reviewer进行聚类\n",
    "from sklearn.cluster import KMeans\n",
    "from sklearn.feature_extraction.text import TfidfVectorizer\n",
    "from sklearn.decomposition import PCA\n",
    "import matplotlib.pyplot as plt\n",
    "import numpy as np\n",
    "\n",
    "# 对df的reviewer进行聚类\n",
    "# 1.将每个用户的Rating、Score_taste、Score_environment、Score_service进行聚合，得到每个用户的评分向量\n",
    "df_reviewer = df.groupby('Reviewer')[['Rating', 'Score_taste', 'Score_environment', 'Score_service']].mean()\n",
    "df_reviewer"
   ],
   "metadata": {
    "collapsed": false,
    "ExecuteTime": {
     "end_time": "2023-05-06T00:48:02.915899Z",
     "start_time": "2023-05-06T00:48:01.483749Z"
    }
   }
  },
  {
   "cell_type": "code",
   "execution_count": 11,
   "outputs": [
    {
     "data": {
      "text/plain": "array([[ 0.7705191 ,  0.75536805,  0.79396587,  0.83162658],\n       [ 0.7705191 ,  0.75536805,  0.79396587,  0.83162658],\n       [ 0.7705191 , -2.63935423,  0.79396587,  0.83162658],\n       ...,\n       [-2.42097892, -1.50778014, -0.35009631, -2.08786772],\n       [ 0.7705191 ,  0.75536805,  0.79396587,  0.83162658],\n       [-1.00253536, -1.13058877, -1.4941585 , -1.11470295]])"
     },
     "execution_count": 11,
     "metadata": {},
     "output_type": "execute_result"
    }
   ],
   "source": [
    "from sklearn.preprocessing import StandardScaler\n",
    "\n",
    "# 2.对评分向量进行归一化处理\n",
    "scaler = StandardScaler()\n",
    "df_reviewer_scaled = scaler.fit_transform(df_reviewer)\n",
    "df_reviewer_scaled"
   ],
   "metadata": {
    "collapsed": false,
    "ExecuteTime": {
     "end_time": "2023-05-06T00:48:03.694599Z",
     "start_time": "2023-05-06T00:48:03.604712Z"
    }
   }
  },
  {
   "cell_type": "code",
   "execution_count": 12,
   "outputs": [
    {
     "name": "stderr",
     "output_type": "stream",
     "text": [
      "/Users/zhengjie/20222023s/IT项目管理/venv/lib/python3.9/site-packages/sklearn/cluster/_kmeans.py:870: FutureWarning: The default value of `n_init` will change from 10 to 'auto' in 1.4. Set the value of `n_init` explicitly to suppress the warning\n",
      "  warnings.warn(\n"
     ]
    },
    {
     "data": {
      "text/plain": "KMeans(n_clusters=3)",
      "text/html": "<style>#sk-container-id-1 {color: black;background-color: white;}#sk-container-id-1 pre{padding: 0;}#sk-container-id-1 div.sk-toggleable {background-color: white;}#sk-container-id-1 label.sk-toggleable__label {cursor: pointer;display: block;width: 100%;margin-bottom: 0;padding: 0.3em;box-sizing: border-box;text-align: center;}#sk-container-id-1 label.sk-toggleable__label-arrow:before {content: \"▸\";float: left;margin-right: 0.25em;color: #696969;}#sk-container-id-1 label.sk-toggleable__label-arrow:hover:before {color: black;}#sk-container-id-1 div.sk-estimator:hover label.sk-toggleable__label-arrow:before {color: black;}#sk-container-id-1 div.sk-toggleable__content {max-height: 0;max-width: 0;overflow: hidden;text-align: left;background-color: #f0f8ff;}#sk-container-id-1 div.sk-toggleable__content pre {margin: 0.2em;color: black;border-radius: 0.25em;background-color: #f0f8ff;}#sk-container-id-1 input.sk-toggleable__control:checked~div.sk-toggleable__content {max-height: 200px;max-width: 100%;overflow: auto;}#sk-container-id-1 input.sk-toggleable__control:checked~label.sk-toggleable__label-arrow:before {content: \"▾\";}#sk-container-id-1 div.sk-estimator input.sk-toggleable__control:checked~label.sk-toggleable__label {background-color: #d4ebff;}#sk-container-id-1 div.sk-label input.sk-toggleable__control:checked~label.sk-toggleable__label {background-color: #d4ebff;}#sk-container-id-1 input.sk-hidden--visually {border: 0;clip: rect(1px 1px 1px 1px);clip: rect(1px, 1px, 1px, 1px);height: 1px;margin: -1px;overflow: hidden;padding: 0;position: absolute;width: 1px;}#sk-container-id-1 div.sk-estimator {font-family: monospace;background-color: #f0f8ff;border: 1px dotted black;border-radius: 0.25em;box-sizing: border-box;margin-bottom: 0.5em;}#sk-container-id-1 div.sk-estimator:hover {background-color: #d4ebff;}#sk-container-id-1 div.sk-parallel-item::after {content: \"\";width: 100%;border-bottom: 1px solid gray;flex-grow: 1;}#sk-container-id-1 div.sk-label:hover label.sk-toggleable__label {background-color: #d4ebff;}#sk-container-id-1 div.sk-serial::before {content: \"\";position: absolute;border-left: 1px solid gray;box-sizing: border-box;top: 0;bottom: 0;left: 50%;z-index: 0;}#sk-container-id-1 div.sk-serial {display: flex;flex-direction: column;align-items: center;background-color: white;padding-right: 0.2em;padding-left: 0.2em;position: relative;}#sk-container-id-1 div.sk-item {position: relative;z-index: 1;}#sk-container-id-1 div.sk-parallel {display: flex;align-items: stretch;justify-content: center;background-color: white;position: relative;}#sk-container-id-1 div.sk-item::before, #sk-container-id-1 div.sk-parallel-item::before {content: \"\";position: absolute;border-left: 1px solid gray;box-sizing: border-box;top: 0;bottom: 0;left: 50%;z-index: -1;}#sk-container-id-1 div.sk-parallel-item {display: flex;flex-direction: column;z-index: 1;position: relative;background-color: white;}#sk-container-id-1 div.sk-parallel-item:first-child::after {align-self: flex-end;width: 50%;}#sk-container-id-1 div.sk-parallel-item:last-child::after {align-self: flex-start;width: 50%;}#sk-container-id-1 div.sk-parallel-item:only-child::after {width: 0;}#sk-container-id-1 div.sk-dashed-wrapped {border: 1px dashed gray;margin: 0 0.4em 0.5em 0.4em;box-sizing: border-box;padding-bottom: 0.4em;background-color: white;}#sk-container-id-1 div.sk-label label {font-family: monospace;font-weight: bold;display: inline-block;line-height: 1.2em;}#sk-container-id-1 div.sk-label-container {text-align: center;}#sk-container-id-1 div.sk-container {/* jupyter's `normalize.less` sets `[hidden] { display: none; }` but bootstrap.min.css set `[hidden] { display: none !important; }` so we also need the `!important` here to be able to override the default hidden behavior on the sphinx rendered scikit-learn.org. See: https://github.com/scikit-learn/scikit-learn/issues/21755 */display: inline-block !important;position: relative;}#sk-container-id-1 div.sk-text-repr-fallback {display: none;}</style><div id=\"sk-container-id-1\" class=\"sk-top-container\"><div class=\"sk-text-repr-fallback\"><pre>KMeans(n_clusters=3)</pre><b>In a Jupyter environment, please rerun this cell to show the HTML representation or trust the notebook. <br />On GitHub, the HTML representation is unable to render, please try loading this page with nbviewer.org.</b></div><div class=\"sk-container\" hidden><div class=\"sk-item\"><div class=\"sk-estimator sk-toggleable\"><input class=\"sk-toggleable__control sk-hidden--visually\" id=\"sk-estimator-id-1\" type=\"checkbox\" checked><label for=\"sk-estimator-id-1\" class=\"sk-toggleable__label sk-toggleable__label-arrow\">KMeans</label><div class=\"sk-toggleable__content\"><pre>KMeans(n_clusters=3)</pre></div></div></div></div></div>"
     },
     "execution_count": 12,
     "metadata": {},
     "output_type": "execute_result"
    }
   ],
   "source": [
    "# 3.对用户的评分向量进行聚类\n",
    "kmeans = KMeans(n_clusters=3)\n",
    "kmeans.fit(df_reviewer_scaled)"
   ],
   "metadata": {
    "collapsed": false,
    "ExecuteTime": {
     "end_time": "2023-05-06T00:48:06.284811Z",
     "start_time": "2023-05-06T00:48:04.195012Z"
    }
   }
  },
  {
   "cell_type": "code",
   "execution_count": 13,
   "outputs": [
    {
     "data": {
      "text/plain": "array([[-1.57521651,  0.06508622],\n       [-1.57521651,  0.06508622],\n       [ 0.12586866,  2.01568665],\n       ...,\n       [ 3.19875732,  0.70533738],\n       [-1.57521651,  0.06508622],\n       [ 2.36687355, -0.26569956]])"
     },
     "execution_count": 13,
     "metadata": {},
     "output_type": "execute_result"
    }
   ],
   "source": [
    "# 4.将聚类结果可视化\n",
    "# 降维\n",
    "pca = PCA(n_components=2)\n",
    "df_reviewer_matrix_2 = pca.fit_transform(df_reviewer_scaled)\n",
    "df_reviewer_matrix_2"
   ],
   "metadata": {
    "collapsed": false,
    "ExecuteTime": {
     "end_time": "2023-05-06T00:48:07.881761Z",
     "start_time": "2023-05-06T00:48:06.285103Z"
    }
   }
  },
  {
   "cell_type": "code",
   "execution_count": 14,
   "outputs": [
    {
     "data": {
      "text/plain": "<Figure size 640x480 with 1 Axes>",
      "image/png": "[encoded data removed]"
     },
     "metadata": {},
     "output_type": "display_data"
    }
   ],
   "source": [
    "# 可视化\n",
    "plt.scatter(df_reviewer_matrix_2[:, 0], df_reviewer_matrix_2[:, 1], c=kmeans.labels_)\n",
    "plt.show()"
   ],
   "metadata": {
    "collapsed": false,
    "ExecuteTime": {
     "end_time": "2023-05-06T00:48:10.763670Z",
     "start_time": "2023-05-06T00:48:07.871297Z"
    }
   }
  },
  {
   "cell_type": "code",
   "execution_count": 15,
   "outputs": [
    {
     "data": {
      "text/plain": "cluster\n0    157176\n1    106315\n2     30558\nName: count, dtype: int64"
     },
     "execution_count": 15,
     "metadata": {},
     "output_type": "execute_result"
    }
   ],
   "source": [
    "# 查看每个类别的数量\n",
    "df_reviewer['cluster'] = kmeans.labels_\n",
    "df_reviewer['cluster'].value_counts()"
   ],
   "metadata": {
    "collapsed": false,
    "ExecuteTime": {
     "end_time": "2023-05-06T00:48:10.782746Z",
     "start_time": "2023-05-06T00:48:10.764372Z"
    }
   }
  },
  {
   "cell_type": "code",
   "execution_count": 16,
   "outputs": [
    {
     "data": {
      "text/plain": "            Rating  Score_taste  Score_environment  Score_service  cluster\nReviewer                                                                  \n!Mrlei..  5.000000     4.000000           4.000000       4.000000        0\n!i!_1163  5.000000     4.000000           4.000000       4.000000        0\n!i_3650   5.000000     1.000000           4.000000       4.000000        1\n!o_o!     5.000000     4.000000           4.000000       4.000000        0\n!syao     3.888889     3.000000           2.666667       2.888889        1\n...            ...          ...                ...            ...      ...\n￥小圆圆      5.000000     3.000000           4.000000       4.000000        0\n￥我（来）也￥   5.000000     4.000000           3.000000       3.000000        0\n￥老牛￥      2.000000     2.000000           3.000000       1.000000        2\n￥若儿￥      5.000000     4.000000           4.000000       4.000000        0\n￥贝        3.333333     2.333333           2.000000       2.000000        1\n\n[294049 rows x 5 columns]",
      "text/html": "<div>\n<style scoped>\n    .dataframe tbody tr th:only-of-type {\n        vertical-align: middle;\n    }\n\n    .dataframe tbody tr th {\n        vertical-align: top;\n    }\n\n    .dataframe thead th {\n        text-align: right;\n    }\n</style>\n<table border=\"1\" class=\"dataframe\">\n  <thead>\n    <tr style=\"text-align: right;\">\n      <th></th>\n      <th>Rating</th>\n      <th>Score_taste</th>\n      <th>Score_environment</th>\n      <th>Score_service</th>\n      <th>cluster</th>\n    </tr>\n    <tr>\n      <th>Reviewer</th>\n      <th></th>\n      <th></th>\n      <th></th>\n      <th></th>\n      <th></th>\n    </tr>\n  </thead>\n  <tbody>\n    <tr>\n      <th>!Mrlei..</th>\n      <td>5.000000</td>\n      <td>4.000000</td>\n      <td>4.000000</td>\n      <td>4.000000</td>\n      <td>0</td>\n    </tr>\n    <tr>\n      <th>!i!_1163</th>\n      <td>5.000000</td>\n      <td>4.000000</td>\n      <td>4.000000</td>\n      <td>4.000000</td>\n      <td>0</td>\n    </tr>\n    <tr>\n      <th>!i_3650</th>\n      <td>5.000000</td>\n      <td>1.000000</td>\n      <td>4.000000</td>\n      <td>4.000000</td>\n      <td>1</td>\n    </tr>\n    <tr>\n      <th>!o_o!</th>\n      <td>5.000000</td>\n      <td>4.000000</td>\n      <td>4.000000</td>\n      <td>4.000000</td>\n      <td>0</td>\n    </tr>\n    <tr>\n      <th>!syao</th>\n      <td>3.888889</td>\n      <td>3.000000</td>\n      <td>2.666667</td>\n      <td>2.888889</td>\n      <td>1</td>\n    </tr>\n    <tr>\n      <th>...</th>\n      <td>...</td>\n      <td>...</td>\n      <td>...</td>\n      <td>...</td>\n      <td>...</td>\n    </tr>\n    <tr>\n      <th>￥小圆圆</th>\n      <td>5.000000</td>\n      <td>3.000000</td>\n      <td>4.000000</td>\n      <td>4.000000</td>\n      <td>0</td>\n    </tr>\n    <tr>\n      <th>￥我（来）也￥</th>\n      <td>5.000000</td>\n      <td>4.000000</td>\n      <td>3.000000</td>\n      <td>3.000000</td>\n      <td>0</td>\n    </tr>\n    <tr>\n      <th>￥老牛￥</th>\n      <td>2.000000</td>\n      <td>2.000000</td>\n      <td>3.000000</td>\n      <td>1.000000</td>\n      <td>2</td>\n    </tr>\n    <tr>\n      <th>￥若儿￥</th>\n      <td>5.000000</td>\n      <td>4.000000</td>\n      <td>4.000000</td>\n      <td>4.000000</td>\n      <td>0</td>\n    </tr>\n    <tr>\n      <th>￥贝</th>\n      <td>3.333333</td>\n      <td>2.333333</td>\n      <td>2.000000</td>\n      <td>2.000000</td>\n      <td>1</td>\n    </tr>\n  </tbody>\n</table>\n<p>294049 rows × 5 columns</p>\n</div>"
     },
     "execution_count": 16,
     "metadata": {},
     "output_type": "execute_result"
    }
   ],
   "source": [
    "df_reviewer"
   ],
   "metadata": {
    "collapsed": false,
    "ExecuteTime": {
     "end_time": "2023-05-06T00:48:13.358126Z",
     "start_time": "2023-05-06T00:48:13.290450Z"
    }
   }
  },
  {
   "cell_type": "code",
   "execution_count": 17,
   "outputs": [
    {
     "data": {
      "text/plain": "            Rating  Score_taste  Score_environment  Score_service  cluster   \nReviewer                                                                     \n!Mrlei..  5.000000     4.000000           4.000000       4.000000        0  \\\n!i!_1163  5.000000     4.000000           4.000000       4.000000        0   \n!i_3650   5.000000     1.000000           4.000000       4.000000        1   \n!o_o!     5.000000     4.000000           4.000000       4.000000        0   \n!syao     3.888889     3.000000           2.666667       2.888889        1   \n...            ...          ...                ...            ...      ...   \n￥小圆圆      5.000000     3.000000           4.000000       4.000000        0   \n￥我（来）也￥   5.000000     4.000000           3.000000       3.000000        0   \n￥老牛￥      2.000000     2.000000           3.000000       1.000000        2   \n￥若儿￥      5.000000     4.000000           4.000000       4.000000        0   \n￥贝        3.333333     2.333333           2.000000       2.000000        1   \n\n          Reviewer_value  Reviewer_rank  \nReviewer                                 \n!Mrlei..               0              0  \n!i!_1163               0              0  \n!i_3650                3              1  \n!o_o!                  2              0  \n!syao                  7              1  \n...                  ...            ...  \n￥小圆圆                   4              0  \n￥我（来）也￥                0              0  \n￥老牛￥                   0              0  \n￥若儿￥                   0              0  \n￥贝                     5              1  \n\n[294049 rows x 7 columns]",
      "text/html": "<div>\n<style scoped>\n    .dataframe tbody tr th:only-of-type {\n        vertical-align: middle;\n    }\n\n    .dataframe tbody tr th {\n        vertical-align: top;\n    }\n\n    .dataframe thead th {\n        text-align: right;\n    }\n</style>\n<table border=\"1\" class=\"dataframe\">\n  <thead>\n    <tr style=\"text-align: right;\">\n      <th></th>\n      <th>Rating</th>\n      <th>Score_taste</th>\n      <th>Score_environment</th>\n      <th>Score_service</th>\n      <th>cluster</th>\n      <th>Reviewer_value</th>\n      <th>Reviewer_rank</th>\n    </tr>\n    <tr>\n      <th>Reviewer</th>\n      <th></th>\n      <th></th>\n      <th></th>\n      <th></th>\n      <th></th>\n      <th></th>\n      <th></th>\n    </tr>\n  </thead>\n  <tbody>\n    <tr>\n      <th>!Mrlei..</th>\n      <td>5.000000</td>\n      <td>4.000000</td>\n      <td>4.000000</td>\n      <td>4.000000</td>\n      <td>0</td>\n      <td>0</td>\n      <td>0</td>\n    </tr>\n    <tr>\n      <th>!i!_1163</th>\n      <td>5.000000</td>\n      <td>4.000000</td>\n      <td>4.000000</td>\n      <td>4.000000</td>\n      <td>0</td>\n      <td>0</td>\n      <td>0</td>\n    </tr>\n    <tr>\n      <th>!i_3650</th>\n      <td>5.000000</td>\n      <td>1.000000</td>\n      <td>4.000000</td>\n      <td>4.000000</td>\n      <td>1</td>\n      <td>3</td>\n      <td>1</td>\n    </tr>\n    <tr>\n      <th>!o_o!</th>\n      <td>5.000000</td>\n      <td>4.000000</td>\n      <td>4.000000</td>\n      <td>4.000000</td>\n      <td>0</td>\n      <td>2</td>\n      <td>0</td>\n    </tr>\n    <tr>\n      <th>!syao</th>\n      <td>3.888889</td>\n      <td>3.000000</td>\n      <td>2.666667</td>\n      <td>2.888889</td>\n      <td>1</td>\n      <td>7</td>\n      <td>1</td>\n    </tr>\n    <tr>\n      <th>...</th>\n      <td>...</td>\n      <td>...</td>\n      <td>...</td>\n      <td>...</td>\n      <td>...</td>\n      <td>...</td>\n      <td>...</td>\n    </tr>\n    <tr>\n      <th>￥小圆圆</th>\n      <td>5.000000</td>\n      <td>3.000000</td>\n      <td>4.000000</td>\n      <td>4.000000</td>\n      <td>0</td>\n      <td>4</td>\n      <td>0</td>\n    </tr>\n    <tr>\n      <th>￥我（来）也￥</th>\n      <td>5.000000</td>\n      <td>4.000000</td>\n      <td>3.000000</td>\n      <td>3.000000</td>\n      <td>0</td>\n      <td>0</td>\n      <td>0</td>\n    </tr>\n    <tr>\n      <th>￥老牛￥</th>\n      <td>2.000000</td>\n      <td>2.000000</td>\n      <td>3.000000</td>\n      <td>1.000000</td>\n      <td>2</td>\n      <td>0</td>\n      <td>0</td>\n    </tr>\n    <tr>\n      <th>￥若儿￥</th>\n      <td>5.000000</td>\n      <td>4.000000</td>\n      <td>4.000000</td>\n      <td>4.000000</td>\n      <td>0</td>\n      <td>0</td>\n      <td>0</td>\n    </tr>\n    <tr>\n      <th>￥贝</th>\n      <td>3.333333</td>\n      <td>2.333333</td>\n      <td>2.000000</td>\n      <td>2.000000</td>\n      <td>1</td>\n      <td>5</td>\n      <td>1</td>\n    </tr>\n  </tbody>\n</table>\n<p>294049 rows × 7 columns</p>\n</div>"
     },
     "execution_count": 17,
     "metadata": {},
     "output_type": "execute_result"
    }
   ],
   "source": [
    "# df_reviewer和df_reviewer_value通过Reviewer列进行join\n",
    "df_reviewer_value_count=pd.merge(df_reviewer,df_reviewer_value,on='Reviewer')\n",
    "df_reviewer_value_count"
   ],
   "metadata": {
    "collapsed": false,
    "ExecuteTime": {
     "end_time": "2023-05-06T00:48:14.499207Z",
     "start_time": "2023-05-06T00:48:14.413916Z"
    }
   }
  },
  {
   "cell_type": "code",
   "execution_count": 19,
   "outputs": [],
   "source": [
    "# 将df_reviewer_value_count导出成csv文件\n",
    "df_reviewer_value_count.to_csv('df_reviewer_value_count.csv')"
   ],
   "metadata": {
    "collapsed": false,
    "ExecuteTime": {
     "end_time": "2023-05-06T00:50:41.230557Z",
     "start_time": "2023-05-06T00:50:40.556497Z"
    }
   }
  },
  {
   "cell_type": "code",
   "execution_count": 18,
   "outputs": [
    {
     "data": {
      "text/plain": "           Rating  Score_taste  Score_environment  Score_service   \ncluster                                                            \n0        4.896241     3.909815           3.882360       3.836269  \\\n1        3.920761     2.992021           2.931740       2.704157   \n2        2.318936     1.547270           1.643683       1.127427   \n\n         Reviewer_value  Reviewer_rank  \ncluster                                 \n0              1.156404       0.076577  \n1              1.772986       0.146781  \n2              1.286799       0.076510  ",
      "text/html": "<div>\n<style scoped>\n    .dataframe tbody tr th:only-of-type {\n        vertical-align: middle;\n    }\n\n    .dataframe tbody tr th {\n        vertical-align: top;\n    }\n\n    .dataframe thead th {\n        text-align: right;\n    }\n</style>\n<table border=\"1\" class=\"dataframe\">\n  <thead>\n    <tr style=\"text-align: right;\">\n      <th></th>\n      <th>Rating</th>\n      <th>Score_taste</th>\n      <th>Score_environment</th>\n      <th>Score_service</th>\n      <th>Reviewer_value</th>\n      <th>Reviewer_rank</th>\n    </tr>\n    <tr>\n      <th>cluster</th>\n      <th></th>\n      <th></th>\n      <th></th>\n      <th></th>\n      <th></th>\n      <th></th>\n    </tr>\n  </thead>\n  <tbody>\n    <tr>\n      <th>0</th>\n      <td>4.896241</td>\n      <td>3.909815</td>\n      <td>3.882360</td>\n      <td>3.836269</td>\n      <td>1.156404</td>\n      <td>0.076577</td>\n    </tr>\n    <tr>\n      <th>1</th>\n      <td>3.920761</td>\n      <td>2.992021</td>\n      <td>2.931740</td>\n      <td>2.704157</td>\n      <td>1.772986</td>\n      <td>0.146781</td>\n    </tr>\n    <tr>\n      <th>2</th>\n      <td>2.318936</td>\n      <td>1.547270</td>\n      <td>1.643683</td>\n      <td>1.127427</td>\n      <td>1.286799</td>\n      <td>0.076510</td>\n    </tr>\n  </tbody>\n</table>\n</div>"
     },
     "execution_count": 18,
     "metadata": {},
     "output_type": "execute_result"
    }
   ],
   "source": [
    "# 汇总每个cluster的平均Reviewer_value和平均Reviewer_rank\n",
    "df_reviewer_value_count.groupby('cluster')[['Rating', 'Score_taste', 'Score_environment', 'Score_service','Reviewer_value','Reviewer_rank']].mean()"
   ],
   "metadata": {
    "collapsed": false,
    "ExecuteTime": {
     "end_time": "2023-05-06T00:48:15.411653Z",
     "start_time": "2023-05-06T00:48:15.364219Z"
    }
   }
  },
  {
   "cell_type": "code",
   "execution_count": null,
   "outputs": [],
   "source": [],
   "metadata": {
    "collapsed": false
   }
  }
 ],
 "metadata": {
  "kernelspec": {
   "display_name": "Python 3",
   "language": "python",
   "name": "python3"
  },
  "language_info": {
   "codemirror_mode": {
    "name": "ipython",
    "version": 2
   },
   "file_extension": ".py",
   "mimetype": "text/x-python",
   "name": "python",
   "nbconvert_exporter": "python",
   "pygments_lexer": "ipython2",
   "version": "2.7.6"
  }
 },
 "nbformat": 4,
 "nbformat_minor": 0
}
