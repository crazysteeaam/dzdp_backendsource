{
 "cells": [
  {
   "cell_type": "code",
   "execution_count": 63,
   "metadata": {
    "collapsed": true,
    "ExecuteTime": {
     "end_time": "2023-05-07T18:28:17.194326Z",
     "start_time": "2023-05-07T18:28:15.507598Z"
    }
   },
   "outputs": [
    {
     "name": "stderr",
     "output_type": "stream",
     "text": [
      "/var/folders/zj/zs9jhhmn1zs7p_t_thgtq0bm0000gn/T/ipykernel_21939/1020081185.py:3: DtypeWarning: Columns (3,4,5) have mixed types. Specify dtype option on import or set low_memory=False.\n",
      "  df = pd.read_csv('../static/大众点评评论数据.csv', encoding='gb18030')\n"
     ]
    },
    {
     "data": {
      "text/plain": "   Review_ID     Merchant  Rating Score_taste Score_environment Score_service   \n0  377313283  炳胜品味(珠江新城店)       3           3                 3             2  \\\n1  376404966  炳胜品味(珠江新城店)       4           3                 4             3   \n2  374370927  炳胜品味(珠江新城店)       4           3                 3             2   \n3  377270662  炳胜品味(珠江新城店)       4           3                 3             3   \n4  377184095  炳胜品味(珠江新城店)       4           3                 3             3   \n\n  Price_per_person    Time  Num_thumbs_up  Num_ response   \n0                空  10月23日              2              1  \\\n1                空  10月19日              2              0   \n2                空   10月9日              0              0   \n3              155  10月23日              0              0   \n4                空  10月23日              0              0   \n\n                                      Content_review  Reviewer   \n0  来广州出差，住在附近的康莱德酒店，晚上开完会就慕名而来，大概七点四十分的样子到的，人还有很多...   胖子界的瘦子吴  \\\n1  ?·??·??前言本来是朋友约我们来的，结果朋友临时有事走不开，就我俩在这儿吃了。?·??·...    快快到盆里来   \n2  朋友结婚选择在这里摆酒，在猎德A出口出来，直行转入兴盛路？再直行，走到天汇广场，过马路，再一...      Yyg喵   \n3  据说是个老子号，听名字就感觉很广东??，很正宗的样子！！这家分店打听了一下，说是地儿最大，环...      肥螳螂_   \n4  周末不煮饭的日子，偶来啦??。中午12点多到店，3楼满了??让到2楼，2楼说要到1楼拿号??...  hhy_0919   \n\n   Reviewer_value  Reviewer_rank Favorite_foods  \n0               5              1            NaN  \n1               6              1            NaN  \n2               3              1            NaN  \n3               4              1    干炒牛河 炳胜荔枝鸡   \n4               4              1            NaN  ",
      "text/html": "<div>\n<style scoped>\n    .dataframe tbody tr th:only-of-type {\n        vertical-align: middle;\n    }\n\n    .dataframe tbody tr th {\n        vertical-align: top;\n    }\n\n    .dataframe thead th {\n        text-align: right;\n    }\n</style>\n<table border=\"1\" class=\"dataframe\">\n  <thead>\n    <tr style=\"text-align: right;\">\n      <th></th>\n      <th>Review_ID</th>\n      <th>Merchant</th>\n      <th>Rating</th>\n      <th>Score_taste</th>\n      <th>Score_environment</th>\n      <th>Score_service</th>\n      <th>Price_per_person</th>\n      <th>Time</th>\n      <th>Num_thumbs_up</th>\n      <th>Num_ response</th>\n      <th>Content_review</th>\n      <th>Reviewer</th>\n      <th>Reviewer_value</th>\n      <th>Reviewer_rank</th>\n      <th>Favorite_foods</th>\n    </tr>\n  </thead>\n  <tbody>\n    <tr>\n      <th>0</th>\n      <td>377313283</td>\n      <td>炳胜品味(珠江新城店)</td>\n      <td>3</td>\n      <td>3</td>\n      <td>3</td>\n      <td>2</td>\n      <td>空</td>\n      <td>10月23日</td>\n      <td>2</td>\n      <td>1</td>\n      <td>来广州出差，住在附近的康莱德酒店，晚上开完会就慕名而来，大概七点四十分的样子到的，人还有很多...</td>\n      <td>胖子界的瘦子吴</td>\n      <td>5</td>\n      <td>1</td>\n      <td>NaN</td>\n    </tr>\n    <tr>\n      <th>1</th>\n      <td>376404966</td>\n      <td>炳胜品味(珠江新城店)</td>\n      <td>4</td>\n      <td>3</td>\n      <td>4</td>\n      <td>3</td>\n      <td>空</td>\n      <td>10月19日</td>\n      <td>2</td>\n      <td>0</td>\n      <td>?·??·??前言本来是朋友约我们来的，结果朋友临时有事走不开，就我俩在这儿吃了。?·??·...</td>\n      <td>快快到盆里来</td>\n      <td>6</td>\n      <td>1</td>\n      <td>NaN</td>\n    </tr>\n    <tr>\n      <th>2</th>\n      <td>374370927</td>\n      <td>炳胜品味(珠江新城店)</td>\n      <td>4</td>\n      <td>3</td>\n      <td>3</td>\n      <td>2</td>\n      <td>空</td>\n      <td>10月9日</td>\n      <td>0</td>\n      <td>0</td>\n      <td>朋友结婚选择在这里摆酒，在猎德A出口出来，直行转入兴盛路？再直行，走到天汇广场，过马路，再一...</td>\n      <td>Yyg喵</td>\n      <td>3</td>\n      <td>1</td>\n      <td>NaN</td>\n    </tr>\n    <tr>\n      <th>3</th>\n      <td>377270662</td>\n      <td>炳胜品味(珠江新城店)</td>\n      <td>4</td>\n      <td>3</td>\n      <td>3</td>\n      <td>3</td>\n      <td>155</td>\n      <td>10月23日</td>\n      <td>0</td>\n      <td>0</td>\n      <td>据说是个老子号，听名字就感觉很广东??，很正宗的样子！！这家分店打听了一下，说是地儿最大，环...</td>\n      <td>肥螳螂_</td>\n      <td>4</td>\n      <td>1</td>\n      <td>干炒牛河 炳胜荔枝鸡</td>\n    </tr>\n    <tr>\n      <th>4</th>\n      <td>377184095</td>\n      <td>炳胜品味(珠江新城店)</td>\n      <td>4</td>\n      <td>3</td>\n      <td>3</td>\n      <td>3</td>\n      <td>空</td>\n      <td>10月23日</td>\n      <td>0</td>\n      <td>0</td>\n      <td>周末不煮饭的日子，偶来啦??。中午12点多到店，3楼满了??让到2楼，2楼说要到1楼拿号??...</td>\n      <td>hhy_0919</td>\n      <td>4</td>\n      <td>1</td>\n      <td>NaN</td>\n    </tr>\n  </tbody>\n</table>\n</div>"
     },
     "execution_count": 63,
     "metadata": {},
     "output_type": "execute_result"
    }
   ],
   "source": [
    "# 读取/static/大众点评评论数据.csv\n",
    "import pandas as pd\n",
    "df = pd.read_csv('../static/大众点评评论数据.csv', encoding='gb18030')\n",
    "df.head()"
   ]
  },
  {
   "cell_type": "code",
   "execution_count": 64,
   "outputs": [],
   "source": [
    "\n",
    "df['Rating'] = df['Rating'].astype(str)\n",
    "df['Score_taste'] = df['Score_taste'].astype(str)\n",
    "df['Score_environment'] = df['Score_environment'].astype(str)\n",
    "df['Score_service'] = df['Score_service'].astype(str)\n",
    "# 去除'Rating', 'Score_taste', 'Score_environment', 'Score_service'值为\"|\"符号和\"产\"“场”“房”字样的行\n",
    "df = df[~df['Rating'].str.contains('\\|')]\n",
    "df = df[~df['Score_taste'].str.contains('\\|')]\n",
    "df = df[~df['Score_environment'].str.contains('\\|')]\n",
    "df = df[~df['Score_service'].str.contains('\\|')]\n",
    "df = df[~df['Rating'].str.contains('产|场|房')]\n",
    "df = df[~df['Score_taste'].str.contains('产|场|房')]\n",
    "df = df[~df['Score_environment'].str.contains('产|场|房')]\n",
    "df = df[~df['Score_service'].str.contains('产|场|房')]\n",
    "# 'Rating', 'Score_taste', 'Score_environment', 'Score_service'转换为int类型\n",
    "df['Rating'] = df['Rating'].astype(int)\n",
    "df['Score_taste'] = df['Score_taste'].astype(int)\n",
    "df['Score_environment'] = df['Score_environment'].astype(int)\n",
    "df['Score_service'] = df['Score_service'].astype(int)\n",
    "# 清洗Time中不含有年份的数据\n",
    "df['Time'] = df['Time'].str.replace('月', '/').str.replace('日', '')\n",
    "df['Time'] = df['Time'].apply(lambda x: '2017/' + x if len(x) < 8 else x)\n",
    "df['Time'] = pd.to_datetime(df['Time'])\n",
    "df['Month'] = df['Time'].dt.month\n",
    "df['Year'] = df['Time'].dt.year"
   ],
   "metadata": {
    "collapsed": false,
    "ExecuteTime": {
     "end_time": "2023-05-07T18:28:19.406995Z",
     "start_time": "2023-05-07T18:28:17.850214Z"
    }
   }
  },
  {
   "cell_type": "code",
   "execution_count": 18,
   "outputs": [
    {
     "data": {
      "text/plain": "206"
     },
     "execution_count": 18,
     "metadata": {},
     "output_type": "execute_result"
    }
   ],
   "source": [
    "# 查询Merchant的数量\n",
    "df['Merchant'].nunique()"
   ],
   "metadata": {
    "collapsed": false,
    "ExecuteTime": {
     "end_time": "2023-05-07T18:09:22.130319Z",
     "start_time": "2023-05-07T18:09:22.074115Z"
    }
   }
  },
  {
   "cell_type": "code",
   "execution_count": 19,
   "outputs": [
    {
     "data": {
      "text/plain": "467455"
     },
     "execution_count": 19,
     "metadata": {},
     "output_type": "execute_result"
    }
   ],
   "source": [
    "# 查询总的数据量\n",
    "df.shape[0]"
   ],
   "metadata": {
    "collapsed": false,
    "ExecuteTime": {
     "end_time": "2023-05-07T18:09:22.816100Z",
     "start_time": "2023-05-07T18:09:22.812894Z"
    }
   }
  },
  {
   "cell_type": "code",
   "execution_count": 20,
   "outputs": [
    {
     "data": {
      "text/plain": "4.216292477350761"
     },
     "execution_count": 20,
     "metadata": {},
     "output_type": "execute_result"
    }
   ],
   "source": [
    "# 查询平均Rate\n",
    "df['Rating'].mean()"
   ],
   "metadata": {
    "collapsed": false,
    "ExecuteTime": {
     "end_time": "2023-05-07T18:09:23.300880Z",
     "start_time": "2023-05-07T18:09:23.263607Z"
    }
   }
  },
  {
   "cell_type": "code",
   "execution_count": 20,
   "outputs": [],
   "source": [],
   "metadata": {
    "collapsed": false,
    "ExecuteTime": {
     "end_time": "2023-05-07T18:09:23.868316Z",
     "start_time": "2023-05-07T18:09:23.836738Z"
    }
   }
  },
  {
   "cell_type": "code",
   "execution_count": 20,
   "outputs": [],
   "source": [],
   "metadata": {
    "collapsed": false,
    "ExecuteTime": {
     "end_time": "2023-05-07T18:09:24.231151Z",
     "start_time": "2023-05-07T18:09:24.230290Z"
    }
   }
  },
  {
   "cell_type": "code",
   "execution_count": 21,
   "outputs": [
    {
     "data": {
      "text/plain": "0.10196642490147473"
     },
     "execution_count": 21,
     "metadata": {},
     "output_type": "execute_result"
    }
   ],
   "source": [
    "# 汇总获取每个Reviewer最新的Reviewer_rate\n",
    "df.groupby('Reviewer')['Reviewer_rank'].max().mean()"
   ],
   "metadata": {
    "collapsed": false,
    "ExecuteTime": {
     "end_time": "2023-05-07T18:09:24.871498Z",
     "start_time": "2023-05-07T18:09:24.603234Z"
    }
   }
  },
  {
   "cell_type": "code",
   "execution_count": 22,
   "outputs": [
    {
     "data": {
      "text/plain": "['炳胜品味(珠江新城店)',\n '麓苑轩酒家',\n '阿一鲍鱼(天河北旗舰店)',\n '深香狮头鹅-新派潮菜',\n '成记农庄●鹿肉宴',\n '炳胜品味(黄埔大道店)',\n '點都德·德誉楼',\n '和苑酒家(花城大道店)',\n '广州柏悦酒店－悦景轩',\n '白天鹅宾馆(玉堂春暖餐厅)',\n '點都德(花城楼)',\n '陶陶居酒家(西塔国金店)',\n '利苑酒家(宜安广场店)',\n '私厨(炳胜集团)',\n '毕德寮(富力盈通店)',\n '點都德汇点楼',\n '西楚牛香·砂锅牛腩煲',\n '點都德(喜粤楼)',\n '點都德(聚福楼)',\n '惠食佳(东风店)',\n '记兴菜馆·桑拿菜',\n '渔鱼鱻·不辣酸菜鱼·懒人花螺',\n '九大簋家宴',\n '點都德(大茶楼)',\n '白天鹅宾馆宏图府餐厅',\n '禄运茶居(体育西店)',\n '臻品·小炳胜(天环店)',\n '美心翠园',\n '江-由辉师傅主理 Jiang By Chef Fei',\n '利苑酒家(珠江新城店)',\n '翠园(太古汇店)',\n '滋粥楼(南村店)',\n '和苑酒家(时代店)',\n '家香土鸡●脆皮啫鸡煲(文德路店)',\n '惠食佳(啫八店)',\n '點都德(骏和楼店)',\n '陶陶居酒家(万国广场店)',\n '荔城美食',\n '點都德(盘福楼店)',\n '大有鹅',\n '徐博馆岭南养生菜',\n '汤尚煌(花城汇店)',\n '點都德(荔红楼)',\n '食方缘?素食| 别墅主题餐厅',\n '翅叔海味桑拿火锅店',\n '大鸽饭(旗舰店)',\n '马主饭堂',\n '小炳胜',\n '潮匠鹵水專門店',\n '八月翠园(天环广场店)',\n '悦宴酒家',\n '广州酒家(越华路店)',\n '有饭焗特色私厨(凤凰创意园店)',\n '點都德(德江楼)',\n 'SKY NO.1空中一号',\n '點都德(德天楼)',\n '炳胜品味(海印总店)',\n '點都德(花山楼)',\n '炳胜公馆(炳胜集团)',\n '胤悦·摩登粤菜(江南西店)',\n '润园椰子鸡(白云大道店)',\n 'MR.PING醉鹅记(长隆大石店)',\n '乡下饭庄',\n '老楷茶餐厅',\n '點都德(德宝楼)',\n '鸿运源农庄●竹笙浸鸡',\n '榕记·专注蛇宴(东沙总店)',\n '宾宾酒家(34年老店)',\n '五号茶居',\n '广州日航酒店桃李酒家',\n '海晏楼(滨江东总店)',\n '點都德(凤凰楼店)',\n '陆语茶室',\n '广州文华东方酒店餐厅',\n '广州酒家(临江大道店)',\n '山海楼·绿(洛溪店)',\n '兰桂坊珍味馆(珠江新城店)',\n '滋粥楼(番禺广场总店)',\n '點都德(名都楼)',\n '渔意如意',\n '尚裕园农庄',\n '先先宏记碳火菜',\n '佩服-冰镇 捞起 桑拿 火锅',\n '后街唐厨(购书中心店)',\n '牛鲜馆牛肉火锅(东华西路店)',\n '海门鱼仔店(东圃店)',\n '陶然轩-岭南·文博食荟(沙面店)',\n '侨美食家(沙面总店)',\n '金盞鱼生·生蚝刺身(海珠店)',\n '點都德(海燕楼)',\n '聚汇坊?猪肚鸡椰子鸡(黄埔店)',\n '榕记·专注蛇宴(滨江店)',\n '陶陶居酒家(丽影广场店)',\n '粤海喜来登酒店采悦轩中餐厅(天河城店)',\n '聚汇坊音乐餐厅?猪肚鸡椰子鸡(天河北店)',\n '德尚煌顺德菜(四季天地店)',\n '益淘盛大师卤鹅(兴盛路店)',\n '聚汇坊?猪肚鸡椰子鸡(环市东店)',\n '三秋桂子_十里荷花(高德冬商场店)',\n '泓沛湛江农家鸡煲',\n '广东道至正餐厅(区庄店)',\n '可可椰场椰子鸡餐厅(长隆店)',\n '银灯食府',\n 'Yun Pavillion 韵轩中餐厅',\n '陆点餐厅(凤凰创意园店)',\n '肥姨私厨(芳村总店)',\n '赏点点心',\n '點都德(宝业楼)',\n '龙庭琇厨·海派粤式融合菜(广州分店)',\n '阿一鲍鱼(总店)',\n '至潮餐厅',\n '香竹农庄',\n '仙溪美食农庄',\n '悦榕庄(穗盐路店)',\n '广州酒家(文昌店)',\n '聚汇坊?猪肚鸡椰子鸡(机场路总店)',\n '南海渔村(流花湖店)',\n '璞园香约椰子鸡(机场路店)',\n '悦榕庄(白云旗舰店)',\n '富临食府',\n '新胜利鱼莊',\n '姨丈私房菜馆',\n '锦记饮食世家',\n '广州酒家(百福广场店)',\n '牛乎潮汕牛肉火锅(长隆店)',\n '小鱼儿顺德私房菜',\n '广州酒家(江畔红楼店)',\n '炳胜品味(天河店)',\n '陶然轩(二沙岛店)',\n '桃姐农庄(总店)',\n '海门鱼仔店(花城宾馆店)',\n '广州塔晖粤轩中餐厅',\n '云腾沙锅粥',\n '大树头森林餐厅',\n '悦湖公馆',\n '如轩砂锅粥(客村店)',\n '雅苑餐厅',\n '凤厨顺德荟馆(上渡路店)',\n '狂牛',\n '芭厘园林餐厅',\n '匠二港式餐饮',\n '半岛御珍轩酒家',\n '洲记阳山农家菜',\n '田塘里粤菜(长隆店)',\n '客语(越秀/东山口店)',\n '广州天河希尔顿酒店随轩中餐厅',\n '大鸽饭(黄埔店)',\n '粤东城-江景餐厅烧烤钓虾',\n '泮溪酒家',\n '潮汕西桥牛肉店(万盛名家分店)',\n '皇潮●鲍鱼海鲜鸡煲',\n '大洋家.海鲜砂锅粥',\n '范阳轩美味居',\n '御宝轩(天汇igc店)',\n '长隆酒店麒麟中餐厅',\n '得味●田鸡主题餐厅',\n '大鸽饭(黄边路店)',\n '茗荔园山庄',\n '海门鱼仔店(黄花岗店)',\n '东海海鲜酒家(流花店)',\n '新聚湖湾●帽峰山泉水特色菜农庄',\n '六合家宴食府',\n '吃茶.汕尾特色美食',\n '凯悦酒家(环球广场店)',\n '城市客家(大石店)',\n '大头良粤1986',\n '北园酒家(小北路店)',\n '大庙烧鸡-正宗的烧鸡(总店)',\n '益淘盛大师卤鹅(岗顶店)',\n '兰桂坊粤泰美食(棠下店)',\n '悦满堂酒家',\n '后街唐厨(中华广场店)',\n '一间打卤(花城汇店)',\n '饭聚(北京路总店)',\n '康来十月土鸡(土华店)',\n '任点港式茶点(曜一城店)',\n '广交会威斯汀酒店中国元素中餐厅',\n '如福楼(大石长隆店)',\n '纯再餐厅(光明广场店)',\n '探窝汤物料理(体育西店)',\n '白云宾馆白云宴餐厅',\n '顺得来',\n '開飯餐厅(侨鑫国际店)',\n '蚝德喜(岗顶店)',\n '财神御厨(总店)',\n '长峰河鲜农庄●钓鱼（莲花山店）',\n '广州酒家(东山店)',\n '2号唐厨(优托邦店)',\n '大岗仙庙烧鸡(新市总店)',\n '贞姨美食(西华路店)',\n '清心鸡沙田乳鸽店(五羊旗舰店)',\n '娜仁图雅蒙古美食村(同和店)',\n '兴悦酒家(保利克洛维店)',\n '淼福猪肚鸡(长隆店)',\n '稻香酒家(太阳城分店)',\n '丽的面家(多宝路店)',\n '纯再餐厅(西城都荟店)',\n '表哥好味鹅(番禺店)',\n '海皇轩食府(汇美店)',\n '大岗仙庙烧鸡(上社店)',\n '如轩砂锅粥(海珠店)',\n '稻香酒家(万斯分店)',\n '聚强香港佛跳墙',\n '广州酒家(昌岗中路店)',\n '奇香楼',\n '大鸽饭(江燕路店)']"
     },
     "execution_count": 22,
     "metadata": {},
     "output_type": "execute_result"
    }
   ],
   "source": [
    "# 获取不重复的商家名称\n",
    "merchants = df['Merchant'].unique()\n",
    "list(merchants)"
   ],
   "metadata": {
    "collapsed": false,
    "ExecuteTime": {
     "end_time": "2023-05-07T18:09:27.895067Z",
     "start_time": "2023-05-07T18:09:27.860919Z"
    }
   }
  },
  {
   "cell_type": "code",
   "execution_count": null,
   "outputs": [],
   "source": [],
   "metadata": {
    "collapsed": false
   }
  },
  {
   "cell_type": "code",
   "execution_count": 65,
   "outputs": [
    {
     "data": {
      "text/plain": "        Review_ID     Merchant  Rating  Score_taste  Score_environment   \n0       377313283  炳胜品味(珠江新城店)       3            3                  3  \\\n1       376404966  炳胜品味(珠江新城店)       4            3                  4   \n2       374370927  炳胜品味(珠江新城店)       4            3                  3   \n3       377270662  炳胜品味(珠江新城店)       4            3                  3   \n4       377184095  炳胜品味(珠江新城店)       4            3                  3   \n...           ...          ...     ...          ...                ...   \n467450  116838734    大鸽饭(江燕路店)       5            4                  3   \n467451   51639859    大鸽饭(江燕路店)       5            3                  3   \n467452   44637865    大鸽饭(江燕路店)       3            2                  3   \n467453   43069187    大鸽饭(江燕路店)       1            1                  1   \n467454   40450305    大鸽饭(江燕路店)       4            3                  3   \n\n        Score_service Price_per_person       Time  Num_thumbs_up   \n0                   2                空 2017-10-23              2  \\\n1                   3                空 2017-10-19              2   \n2                   2                空 2017-10-09              0   \n3                   3              155 2017-10-23              0   \n4                   3                空 2017-10-23              0   \n...               ...              ...        ...            ...   \n467450              3                空 2014-03-07              0   \n467451              3               30 2014-01-31              0   \n467452              0                空 2013-07-28              0   \n467453              0                空 2013-06-14              1   \n467454              3               50 2013-04-03              2   \n\n        Num_ response                                     Content_review   \n0                   1  来广州出差，住在附近的康莱德酒店，晚上开完会就慕名而来，大概七点四十分的样子到的，人还有很多...  \\\n1                   0  ?·??·??前言本来是朋友约我们来的，结果朋友临时有事走不开，就我俩在这儿吃了。?·??·...   \n2                   0  朋友结婚选择在这里摆酒，在猎德A出口出来，直行转入兴盛路？再直行，走到天汇广场，过马路，再一...   \n3                   0  据说是个老子号，听名字就感觉很广东??，很正宗的样子！！这家分店打听了一下，说是地儿最大，环...   \n4                   0  周末不煮饭的日子，偶来啦??。中午12点多到店，3楼满了??让到2楼，2楼说要到1楼拿号??...   \n...               ...                                                ...   \n467450              0                         没有因为团购而减少，汤很好喝，乳鸽烧得不错，非常满意   \n467451              1                   味道还可以，上菜速度快，环境适中，价钱便宜，适合一家大小出去吃饭   \n467452              1  味精味越來越重而且服務太差衹是要求換桌子那個主任居然扔我的單子然後茶位都不幫我開就走了不會再...   \n467453              0  服务员部长人手不足，等好耐都无人招呼，个经理d态度劲差啊，今时今日甘嘅服务态度，一定唔会再帮...   \n467454              0  我们有个同事最喜欢来这家店了，每次电话给他，都说在大鸽饭呢，心想：有这么好吃吗？今天带上家里...   \n\n        Reviewer  Reviewer_value  Reviewer_rank Favorite_foods Month  Year  \n0        胖子界的瘦子吴               5              1            NaN   10月  2017  \n1         快快到盆里来               6              1            NaN   10月  2017  \n2           Yyg喵               3              1            NaN   10月  2017  \n3           肥螳螂_               4              1    干炒牛河 炳胜荔枝鸡    10月  2017  \n4       hhy_0919               4              1            NaN   10月  2017  \n...          ...             ...            ...            ...   ...   ...  \n467450        卓彤               2              0            NaN    3月  2014  \n467451   星Steven               0              0            NaN    1月  2014  \n467452  yeetingg               0              0            NaN    7月  2013  \n467453    GZ的小嫦嫦               0              0            NaN    6月  2013  \n467454     爱在打工时               0              0            NaN    4月  2013  \n\n[467309 rows x 17 columns]",
      "text/html": "<div>\n<style scoped>\n    .dataframe tbody tr th:only-of-type {\n        vertical-align: middle;\n    }\n\n    .dataframe tbody tr th {\n        vertical-align: top;\n    }\n\n    .dataframe thead th {\n        text-align: right;\n    }\n</style>\n<table border=\"1\" class=\"dataframe\">\n  <thead>\n    <tr style=\"text-align: right;\">\n      <th></th>\n      <th>Review_ID</th>\n      <th>Merchant</th>\n      <th>Rating</th>\n      <th>Score_taste</th>\n      <th>Score_environment</th>\n      <th>Score_service</th>\n      <th>Price_per_person</th>\n      <th>Time</th>\n      <th>Num_thumbs_up</th>\n      <th>Num_ response</th>\n      <th>Content_review</th>\n      <th>Reviewer</th>\n      <th>Reviewer_value</th>\n      <th>Reviewer_rank</th>\n      <th>Favorite_foods</th>\n      <th>Month</th>\n      <th>Year</th>\n    </tr>\n  </thead>\n  <tbody>\n    <tr>\n      <th>0</th>\n      <td>377313283</td>\n      <td>炳胜品味(珠江新城店)</td>\n      <td>3</td>\n      <td>3</td>\n      <td>3</td>\n      <td>2</td>\n      <td>空</td>\n      <td>2017-10-23</td>\n      <td>2</td>\n      <td>1</td>\n      <td>来广州出差，住在附近的康莱德酒店，晚上开完会就慕名而来，大概七点四十分的样子到的，人还有很多...</td>\n      <td>胖子界的瘦子吴</td>\n      <td>5</td>\n      <td>1</td>\n      <td>NaN</td>\n      <td>10月</td>\n      <td>2017</td>\n    </tr>\n    <tr>\n      <th>1</th>\n      <td>376404966</td>\n      <td>炳胜品味(珠江新城店)</td>\n      <td>4</td>\n      <td>3</td>\n      <td>4</td>\n      <td>3</td>\n      <td>空</td>\n      <td>2017-10-19</td>\n      <td>2</td>\n      <td>0</td>\n      <td>?·??·??前言本来是朋友约我们来的，结果朋友临时有事走不开，就我俩在这儿吃了。?·??·...</td>\n      <td>快快到盆里来</td>\n      <td>6</td>\n      <td>1</td>\n      <td>NaN</td>\n      <td>10月</td>\n      <td>2017</td>\n    </tr>\n    <tr>\n      <th>2</th>\n      <td>374370927</td>\n      <td>炳胜品味(珠江新城店)</td>\n      <td>4</td>\n      <td>3</td>\n      <td>3</td>\n      <td>2</td>\n      <td>空</td>\n      <td>2017-10-09</td>\n      <td>0</td>\n      <td>0</td>\n      <td>朋友结婚选择在这里摆酒，在猎德A出口出来，直行转入兴盛路？再直行，走到天汇广场，过马路，再一...</td>\n      <td>Yyg喵</td>\n      <td>3</td>\n      <td>1</td>\n      <td>NaN</td>\n      <td>10月</td>\n      <td>2017</td>\n    </tr>\n    <tr>\n      <th>3</th>\n      <td>377270662</td>\n      <td>炳胜品味(珠江新城店)</td>\n      <td>4</td>\n      <td>3</td>\n      <td>3</td>\n      <td>3</td>\n      <td>155</td>\n      <td>2017-10-23</td>\n      <td>0</td>\n      <td>0</td>\n      <td>据说是个老子号，听名字就感觉很广东??，很正宗的样子！！这家分店打听了一下，说是地儿最大，环...</td>\n      <td>肥螳螂_</td>\n      <td>4</td>\n      <td>1</td>\n      <td>干炒牛河 炳胜荔枝鸡</td>\n      <td>10月</td>\n      <td>2017</td>\n    </tr>\n    <tr>\n      <th>4</th>\n      <td>377184095</td>\n      <td>炳胜品味(珠江新城店)</td>\n      <td>4</td>\n      <td>3</td>\n      <td>3</td>\n      <td>3</td>\n      <td>空</td>\n      <td>2017-10-23</td>\n      <td>0</td>\n      <td>0</td>\n      <td>周末不煮饭的日子，偶来啦??。中午12点多到店，3楼满了??让到2楼，2楼说要到1楼拿号??...</td>\n      <td>hhy_0919</td>\n      <td>4</td>\n      <td>1</td>\n      <td>NaN</td>\n      <td>10月</td>\n      <td>2017</td>\n    </tr>\n    <tr>\n      <th>...</th>\n      <td>...</td>\n      <td>...</td>\n      <td>...</td>\n      <td>...</td>\n      <td>...</td>\n      <td>...</td>\n      <td>...</td>\n      <td>...</td>\n      <td>...</td>\n      <td>...</td>\n      <td>...</td>\n      <td>...</td>\n      <td>...</td>\n      <td>...</td>\n      <td>...</td>\n      <td>...</td>\n      <td>...</td>\n    </tr>\n    <tr>\n      <th>467450</th>\n      <td>116838734</td>\n      <td>大鸽饭(江燕路店)</td>\n      <td>5</td>\n      <td>4</td>\n      <td>3</td>\n      <td>3</td>\n      <td>空</td>\n      <td>2014-03-07</td>\n      <td>0</td>\n      <td>0</td>\n      <td>没有因为团购而减少，汤很好喝，乳鸽烧得不错，非常满意</td>\n      <td>卓彤</td>\n      <td>2</td>\n      <td>0</td>\n      <td>NaN</td>\n      <td>3月</td>\n      <td>2014</td>\n    </tr>\n    <tr>\n      <th>467451</th>\n      <td>51639859</td>\n      <td>大鸽饭(江燕路店)</td>\n      <td>5</td>\n      <td>3</td>\n      <td>3</td>\n      <td>3</td>\n      <td>30</td>\n      <td>2014-01-31</td>\n      <td>0</td>\n      <td>1</td>\n      <td>味道还可以，上菜速度快，环境适中，价钱便宜，适合一家大小出去吃饭</td>\n      <td>星Steven</td>\n      <td>0</td>\n      <td>0</td>\n      <td>NaN</td>\n      <td>1月</td>\n      <td>2014</td>\n    </tr>\n    <tr>\n      <th>467452</th>\n      <td>44637865</td>\n      <td>大鸽饭(江燕路店)</td>\n      <td>3</td>\n      <td>2</td>\n      <td>3</td>\n      <td>0</td>\n      <td>空</td>\n      <td>2013-07-28</td>\n      <td>0</td>\n      <td>1</td>\n      <td>味精味越來越重而且服務太差衹是要求換桌子那個主任居然扔我的單子然後茶位都不幫我開就走了不會再...</td>\n      <td>yeetingg</td>\n      <td>0</td>\n      <td>0</td>\n      <td>NaN</td>\n      <td>7月</td>\n      <td>2013</td>\n    </tr>\n    <tr>\n      <th>467453</th>\n      <td>43069187</td>\n      <td>大鸽饭(江燕路店)</td>\n      <td>1</td>\n      <td>1</td>\n      <td>1</td>\n      <td>0</td>\n      <td>空</td>\n      <td>2013-06-14</td>\n      <td>1</td>\n      <td>0</td>\n      <td>服务员部长人手不足，等好耐都无人招呼，个经理d态度劲差啊，今时今日甘嘅服务态度，一定唔会再帮...</td>\n      <td>GZ的小嫦嫦</td>\n      <td>0</td>\n      <td>0</td>\n      <td>NaN</td>\n      <td>6月</td>\n      <td>2013</td>\n    </tr>\n    <tr>\n      <th>467454</th>\n      <td>40450305</td>\n      <td>大鸽饭(江燕路店)</td>\n      <td>4</td>\n      <td>3</td>\n      <td>3</td>\n      <td>3</td>\n      <td>50</td>\n      <td>2013-04-03</td>\n      <td>2</td>\n      <td>0</td>\n      <td>我们有个同事最喜欢来这家店了，每次电话给他，都说在大鸽饭呢，心想：有这么好吃吗？今天带上家里...</td>\n      <td>爱在打工时</td>\n      <td>0</td>\n      <td>0</td>\n      <td>NaN</td>\n      <td>4月</td>\n      <td>2013</td>\n    </tr>\n  </tbody>\n</table>\n<p>467309 rows × 17 columns</p>\n</div>"
     },
     "execution_count": 65,
     "metadata": {},
     "output_type": "execute_result"
    }
   ],
   "source": [
    "df"
   ],
   "metadata": {
    "collapsed": false,
    "ExecuteTime": {
     "end_time": "2023-05-07T18:28:25.438446Z",
     "start_time": "2023-05-07T18:28:25.390303Z"
    }
   }
  },
  {
   "cell_type": "code",
   "execution_count": 89,
   "outputs": [
    {
     "data": {
      "text/plain": "Merchant\n2号唐厨(优托邦店)             108.519182\nMR.PING醉鹅记(长隆大石店)       77.343066\nSKY NO.1空中一号           187.264276\nYun Pavillion 韵轩中餐厅    425.500000\n一间打卤(花城汇店)              29.777778\n                          ...    \n點都德(荔红楼)                66.414573\n點都德(骏和楼店)               70.558511\n點都德·德誉楼                 65.108498\n點都德汇点楼                  78.157313\n龙庭琇厨·海派粤式融合菜(广州分店)     142.714286\nName: Price_per_person, Length: 206, dtype: float64"
     },
     "execution_count": 89,
     "metadata": {},
     "output_type": "execute_result"
    }
   ],
   "source": [
    "## 获取所有餐厅的人均价格\n",
    "df_price=df[['Merchant','Price_per_person']]\n",
    "# 去掉数据是空这个字的行\n",
    "df_price=df_price[~df_price['Price_per_person'].str.contains('空')]\n",
    "# 转化为float类型\n",
    "df_price['Price_per_person']=df_price['Price_per_person'].astype(float)\n",
    "df_price=df_price.groupby('Merchant')['Price_per_person'].mean()\n",
    "df_price"
   ],
   "metadata": {
    "collapsed": false,
    "ExecuteTime": {
     "end_time": "2023-05-07T19:08:43.137115Z",
     "start_time": "2023-05-07T19:08:42.967769Z"
    }
   }
  },
  {
   "cell_type": "code",
   "execution_count": 91,
   "outputs": [
    {
     "data": {
      "text/plain": "[{'name': '50元以下', 'value': 15},\n {'name': '50-100元', 'value': 122},\n {'name': '100-150元', 'value': 32},\n {'name': '150-200元', 'value': 13},\n {'name': '200-500元', 'value': 19},\n {'name': '500-1000元', 'value': 1},\n {'name': '1000元以上', 'value': 4}]"
     },
     "execution_count": 91,
     "metadata": {},
     "output_type": "execute_result"
    }
   ],
   "source": [
    "# 分类计数人均50以内，50-100，100-150，150-200，200-500，500-1000，1000以上的餐厅数量\n",
    "df_price1=df_price[df_price<=50].count()\n",
    "df_price2=df_price[(df_price>50)&(df_price<=100)].count()\n",
    "df_price3=df_price[(df_price>100)&(df_price<=150)].count()\n",
    "df_price4=df_price[(df_price>150)&(df_price<=200)].count()\n",
    "df_price5=df_price[(df_price>200)&(df_price<=500)].count()\n",
    "df_price6=df_price[(df_price>500)&(df_price<=1000)].count()\n",
    "df_price7=df_price[df_price>1000].count()\n",
    "df_price_count=[df_price1,df_price2,df_price3,df_price4,df_price5,df_price6,df_price7]\n",
    "df_price_name=['50元以下','50-100元','100-150元','150-200元','200-500元','500-1000元','1000元以上']\n",
    "# 汇总为{\"name\": \"50元以下\",\"value\": 30}的形式\n",
    "price_list=[]\n",
    "for i in range(len(df_price_count)):\n",
    "    price_dict={}\n",
    "    price_dict['name']=df_price_name[i]\n",
    "    price_dict['value']=df_price_count[i]\n",
    "    price_list.append(price_dict)\n",
    "price_list"
   ],
   "metadata": {
    "collapsed": false,
    "ExecuteTime": {
     "end_time": "2023-05-07T19:12:44.992185Z",
     "start_time": "2023-05-07T19:12:44.952903Z"
    }
   }
  },
  {
   "cell_type": "code",
   "execution_count": null,
   "outputs": [],
   "source": [
    "# 获取每个商家的平均评分\n",
    "df_score=df[['Merchant','Rating']]\n",
    "df_score=df_score.groupby('Merchant')['Rating'].mean()\n",
    "df_score"
   ],
   "metadata": {
    "collapsed": false
   }
  },
  {
   "cell_type": "code",
   "execution_count": null,
   "outputs": [],
   "source": [
    "# 获取每个商家的平均评分\n",
    "df_score=df[['Merchant','Rating']]\n",
    "df_score=df_score.groupby('Merchant')['Rating'].mean()\n",
    "df_score"
   ],
   "metadata": {
    "collapsed": false
   }
  },
  {
   "cell_type": "code",
   "execution_count": null,
   "outputs": [],
   "source": [
    "# 获取每个商家的平均评分\n",
    "df_score=df[['Merchant','Rating']]\n",
    "df_score=df_score.groupby('Merchant')['Rating'].mean()\n",
    "df_score"
   ],
   "metadata": {
    "collapsed": false
   }
  },
  {
   "cell_type": "code",
   "execution_count": null,
   "outputs": [],
   "source": [
    "# 获取每个商家的"
   ],
   "metadata": {
    "collapsed": false
   }
  },
  {
   "cell_type": "code",
   "execution_count": 79,
   "outputs": [
    {
     "data": {
      "text/plain": "array(['炳胜品味(珠江新城店)', '麓苑轩酒家', '阿一鲍鱼(天河北旗舰店)', '深香狮头鹅-新派潮菜', '成记农庄●鹿肉宴',\n       '炳胜品味(黄埔大道店)', '點都德·德誉楼'], dtype=object)"
     },
     "execution_count": 79,
     "metadata": {},
     "output_type": "execute_result"
    }
   ],
   "source": [
    "merchants[:7]"
   ],
   "metadata": {
    "collapsed": false,
    "ExecuteTime": {
     "end_time": "2023-05-07T18:54:49.872406Z",
     "start_time": "2023-05-07T18:54:49.816777Z"
    }
   }
  },
  {
   "cell_type": "code",
   "execution_count": 82,
   "outputs": [
    {
     "data": {
      "text/plain": "[{'name': '炳胜品味(珠江新城店)', '好评': 8520, '中评': 4364, '差评': 840},\n {'name': '麓苑轩酒家', '好评': 5082, '中评': 614, '差评': 130},\n {'name': '阿一鲍鱼(天河北旗舰店)', '好评': 3600, '中评': 860, '差评': 68},\n {'name': '深香狮头鹅-新派潮菜', '好评': 27, '中评': 5, '差评': 0},\n {'name': '成记农庄●鹿肉宴', '好评': 620, '中评': 58, '差评': 6},\n {'name': '炳胜品味(黄埔大道店)', '好评': 1664, '中评': 606, '差评': 170},\n {'name': '點都德·德誉楼', '好评': 5321, '中评': 473, '差评': 84}]"
     },
     "execution_count": 82,
     "metadata": {},
     "output_type": "execute_result"
    }
   ],
   "source": [
    "# 分别获取以上餐厅rating>4,2<rating,rating<2的评论数量\n",
    "rating_rate = []\n",
    "for i in list(merchants[:7]):\n",
    "    rate_dict={}\n",
    "    rate_dict['name']=i\n",
    "    rate_dict['好评']=df[(df['Merchant'] == i) & (df['Rating'] >= 4)].shape[0]\n",
    "    rate_dict['中评']=df[(df['Merchant'] == i) & (df['Rating'] >= 2) & (df['Rating'] < 4)].shape[0]\n",
    "    rate_dict['差评']=df[(df['Merchant'] == i) & (df['Rating'] < 2)].shape[0]\n",
    "    rating_rate.append(rate_dict)\n",
    "rating_rate"
   ],
   "metadata": {
    "collapsed": false,
    "ExecuteTime": {
     "end_time": "2023-05-07T18:57:31.058673Z",
     "start_time": "2023-05-07T18:57:30.720157Z"
    }
   }
  },
  {
   "cell_type": "code",
   "execution_count": null,
   "outputs": [],
   "source": [],
   "metadata": {
    "collapsed": false
   }
  },
  {
   "cell_type": "code",
   "execution_count": 66,
   "outputs": [
    {
     "data": {
      "text/plain": "       Score_taste  Score_environment  Score_service\nMonth                                               \n10月       2.837209           3.156977       2.651163\n1月        2.813433           3.052239       2.492537\n2月        3.023077           3.346154       2.815385\n3月        2.970000           3.190000       2.660000\n4月        2.916667           3.208333       2.687500\n5月        2.848837           3.116279       2.534884\n6月        3.032609           3.336957       2.804348\n7月        2.825243           3.165049       2.456311\n8月        3.052288           3.372549       2.830065\n9月        3.060000           3.390000       3.020000",
      "text/html": "<div>\n<style scoped>\n    .dataframe tbody tr th:only-of-type {\n        vertical-align: middle;\n    }\n\n    .dataframe tbody tr th {\n        vertical-align: top;\n    }\n\n    .dataframe thead th {\n        text-align: right;\n    }\n</style>\n<table border=\"1\" class=\"dataframe\">\n  <thead>\n    <tr style=\"text-align: right;\">\n      <th></th>\n      <th>Score_taste</th>\n      <th>Score_environment</th>\n      <th>Score_service</th>\n    </tr>\n    <tr>\n      <th>Month</th>\n      <th></th>\n      <th></th>\n      <th></th>\n    </tr>\n  </thead>\n  <tbody>\n    <tr>\n      <th>10月</th>\n      <td>2.837209</td>\n      <td>3.156977</td>\n      <td>2.651163</td>\n    </tr>\n    <tr>\n      <th>1月</th>\n      <td>2.813433</td>\n      <td>3.052239</td>\n      <td>2.492537</td>\n    </tr>\n    <tr>\n      <th>2月</th>\n      <td>3.023077</td>\n      <td>3.346154</td>\n      <td>2.815385</td>\n    </tr>\n    <tr>\n      <th>3月</th>\n      <td>2.970000</td>\n      <td>3.190000</td>\n      <td>2.660000</td>\n    </tr>\n    <tr>\n      <th>4月</th>\n      <td>2.916667</td>\n      <td>3.208333</td>\n      <td>2.687500</td>\n    </tr>\n    <tr>\n      <th>5月</th>\n      <td>2.848837</td>\n      <td>3.116279</td>\n      <td>2.534884</td>\n    </tr>\n    <tr>\n      <th>6月</th>\n      <td>3.032609</td>\n      <td>3.336957</td>\n      <td>2.804348</td>\n    </tr>\n    <tr>\n      <th>7月</th>\n      <td>2.825243</td>\n      <td>3.165049</td>\n      <td>2.456311</td>\n    </tr>\n    <tr>\n      <th>8月</th>\n      <td>3.052288</td>\n      <td>3.372549</td>\n      <td>2.830065</td>\n    </tr>\n    <tr>\n      <th>9月</th>\n      <td>3.060000</td>\n      <td>3.390000</td>\n      <td>3.020000</td>\n    </tr>\n  </tbody>\n</table>\n</div>"
     },
     "execution_count": 66,
     "metadata": {},
     "output_type": "execute_result"
    }
   ],
   "source": [
    "# 求第1家merchants 按月汇总2017年1月-2017年10月每月的平均评分并去掉空行\n",
    "df_data1=df[(df['Merchant'] == merchants[0]) & (df['Year']==2017)].groupby('Month')[['Score_taste', 'Score_environment', 'Score_service']].mean().dropna()\n",
    "df_data1"
   ],
   "metadata": {
    "collapsed": false,
    "ExecuteTime": {
     "end_time": "2023-05-07T18:28:26.167464Z",
     "start_time": "2023-05-07T18:28:26.130889Z"
    }
   }
  },
  {
   "cell_type": "code",
   "execution_count": 69,
   "outputs": [
    {
     "ename": "ValueError",
     "evalue": "items in new_categories are not the same as in old categories",
     "output_type": "error",
     "traceback": [
      "\u001B[0;31m---------------------------------------------------------------------------\u001B[0m",
      "\u001B[0;31mValueError\u001B[0m                                Traceback (most recent call last)",
      "Cell \u001B[0;32mIn[69], line 5\u001B[0m\n\u001B[1;32m      3\u001B[0m \u001B[38;5;66;03m# 按1月-10月排序\u001B[39;00m\n\u001B[1;32m      4\u001B[0m df_data1[\u001B[38;5;124m'\u001B[39m\u001B[38;5;124mMonth\u001B[39m\u001B[38;5;124m'\u001B[39m] \u001B[38;5;241m=\u001B[39m df_data1[\u001B[38;5;124m'\u001B[39m\u001B[38;5;124mMonth\u001B[39m\u001B[38;5;124m'\u001B[39m]\u001B[38;5;241m.\u001B[39mastype(\u001B[38;5;124m'\u001B[39m\u001B[38;5;124mcategory\u001B[39m\u001B[38;5;124m'\u001B[39m)\n\u001B[0;32m----> 5\u001B[0m \u001B[43mdf_data1\u001B[49m\u001B[43m[\u001B[49m\u001B[38;5;124;43m'\u001B[39;49m\u001B[38;5;124;43mMonth\u001B[39;49m\u001B[38;5;124;43m'\u001B[39;49m\u001B[43m]\u001B[49m\u001B[38;5;241;43m.\u001B[39;49m\u001B[43mcat\u001B[49m\u001B[38;5;241;43m.\u001B[39;49m\u001B[43mreorder_categories\u001B[49m\u001B[43m(\u001B[49m\u001B[43m[\u001B[49m\u001B[38;5;124;43m'\u001B[39;49m\u001B[38;5;124;43m1月\u001B[39;49m\u001B[38;5;124;43m'\u001B[39;49m\u001B[43m,\u001B[49m\u001B[43m \u001B[49m\u001B[38;5;124;43m'\u001B[39;49m\u001B[38;5;124;43m2月\u001B[39;49m\u001B[38;5;124;43m'\u001B[39;49m\u001B[43m,\u001B[49m\u001B[43m \u001B[49m\u001B[38;5;124;43m'\u001B[39;49m\u001B[38;5;124;43m3月\u001B[39;49m\u001B[38;5;124;43m'\u001B[39;49m\u001B[43m,\u001B[49m\u001B[43m \u001B[49m\u001B[38;5;124;43m'\u001B[39;49m\u001B[38;5;124;43m4月\u001B[39;49m\u001B[38;5;124;43m'\u001B[39;49m\u001B[43m,\u001B[49m\u001B[43m \u001B[49m\u001B[38;5;124;43m'\u001B[39;49m\u001B[38;5;124;43m5月\u001B[39;49m\u001B[38;5;124;43m'\u001B[39;49m\u001B[43m,\u001B[49m\u001B[43m \u001B[49m\u001B[38;5;124;43m'\u001B[39;49m\u001B[38;5;124;43m6月\u001B[39;49m\u001B[38;5;124;43m'\u001B[39;49m\u001B[43m,\u001B[49m\u001B[43m \u001B[49m\u001B[38;5;124;43m'\u001B[39;49m\u001B[38;5;124;43m7月\u001B[39;49m\u001B[38;5;124;43m'\u001B[39;49m\u001B[43m,\u001B[49m\u001B[43m \u001B[49m\u001B[38;5;124;43m'\u001B[39;49m\u001B[38;5;124;43m8月\u001B[39;49m\u001B[38;5;124;43m'\u001B[39;49m\u001B[43m,\u001B[49m\u001B[43m \u001B[49m\u001B[38;5;124;43m'\u001B[39;49m\u001B[38;5;124;43m9月\u001B[39;49m\u001B[38;5;124;43m'\u001B[39;49m\u001B[43m,\u001B[49m\u001B[43m \u001B[49m\u001B[38;5;124;43m'\u001B[39;49m\u001B[38;5;124;43m10月\u001B[39;49m\u001B[38;5;124;43m'\u001B[39;49m\u001B[43m]\u001B[49m\u001B[43m)\u001B[49m\n\u001B[1;32m      6\u001B[0m df_data1\n",
      "File \u001B[0;32m~/20222023s/IT项目管理/databigworkback/venv/lib/python3.9/site-packages/pandas/core/accessor.py:112\u001B[0m, in \u001B[0;36mPandasDelegate._add_delegate_accessors.<locals>._create_delegator_method.<locals>.f\u001B[0;34m(self, *args, **kwargs)\u001B[0m\n\u001B[1;32m    111\u001B[0m \u001B[38;5;28;01mdef\u001B[39;00m \u001B[38;5;21mf\u001B[39m(\u001B[38;5;28mself\u001B[39m, \u001B[38;5;241m*\u001B[39margs, \u001B[38;5;241m*\u001B[39m\u001B[38;5;241m*\u001B[39mkwargs):\n\u001B[0;32m--> 112\u001B[0m     \u001B[38;5;28;01mreturn\u001B[39;00m \u001B[38;5;28;43mself\u001B[39;49m\u001B[38;5;241;43m.\u001B[39;49m\u001B[43m_delegate_method\u001B[49m\u001B[43m(\u001B[49m\u001B[43mname\u001B[49m\u001B[43m,\u001B[49m\u001B[43m \u001B[49m\u001B[38;5;241;43m*\u001B[39;49m\u001B[43margs\u001B[49m\u001B[43m,\u001B[49m\u001B[43m \u001B[49m\u001B[38;5;241;43m*\u001B[39;49m\u001B[38;5;241;43m*\u001B[39;49m\u001B[43mkwargs\u001B[49m\u001B[43m)\u001B[49m\n",
      "File \u001B[0;32m~/20222023s/IT项目管理/databigworkback/venv/lib/python3.9/site-packages/pandas/core/arrays/categorical.py:2475\u001B[0m, in \u001B[0;36mCategoricalAccessor._delegate_method\u001B[0;34m(self, name, *args, **kwargs)\u001B[0m\n\u001B[1;32m   2472\u001B[0m \u001B[38;5;28;01mfrom\u001B[39;00m \u001B[38;5;21;01mpandas\u001B[39;00m \u001B[38;5;28;01mimport\u001B[39;00m Series\n\u001B[1;32m   2474\u001B[0m method \u001B[38;5;241m=\u001B[39m \u001B[38;5;28mgetattr\u001B[39m(\u001B[38;5;28mself\u001B[39m\u001B[38;5;241m.\u001B[39m_parent, name)\n\u001B[0;32m-> 2475\u001B[0m res \u001B[38;5;241m=\u001B[39m \u001B[43mmethod\u001B[49m\u001B[43m(\u001B[49m\u001B[38;5;241;43m*\u001B[39;49m\u001B[43margs\u001B[49m\u001B[43m,\u001B[49m\u001B[43m \u001B[49m\u001B[38;5;241;43m*\u001B[39;49m\u001B[38;5;241;43m*\u001B[39;49m\u001B[43mkwargs\u001B[49m\u001B[43m)\u001B[49m\n\u001B[1;32m   2476\u001B[0m \u001B[38;5;28;01mif\u001B[39;00m res \u001B[38;5;129;01mis\u001B[39;00m \u001B[38;5;129;01mnot\u001B[39;00m \u001B[38;5;28;01mNone\u001B[39;00m:\n\u001B[1;32m   2477\u001B[0m     \u001B[38;5;28;01mreturn\u001B[39;00m Series(res, index\u001B[38;5;241m=\u001B[39m\u001B[38;5;28mself\u001B[39m\u001B[38;5;241m.\u001B[39m_index, name\u001B[38;5;241m=\u001B[39m\u001B[38;5;28mself\u001B[39m\u001B[38;5;241m.\u001B[39m_name)\n",
      "File \u001B[0;32m~/20222023s/IT项目管理/databigworkback/venv/lib/python3.9/site-packages/pandas/core/arrays/categorical.py:1020\u001B[0m, in \u001B[0;36mCategorical.reorder_categories\u001B[0;34m(self, new_categories, ordered)\u001B[0m\n\u001B[1;32m    983\u001B[0m \u001B[38;5;250m\u001B[39m\u001B[38;5;124;03m\"\"\"\u001B[39;00m\n\u001B[1;32m    984\u001B[0m \u001B[38;5;124;03mReorder categories as specified in new_categories.\u001B[39;00m\n\u001B[1;32m    985\u001B[0m \n\u001B[0;32m   (...)\u001B[0m\n\u001B[1;32m   1014\u001B[0m \u001B[38;5;124;03mset_categories : Set the categories to the specified ones.\u001B[39;00m\n\u001B[1;32m   1015\u001B[0m \u001B[38;5;124;03m\"\"\"\u001B[39;00m\n\u001B[1;32m   1016\u001B[0m \u001B[38;5;28;01mif\u001B[39;00m (\n\u001B[1;32m   1017\u001B[0m     \u001B[38;5;28mlen\u001B[39m(\u001B[38;5;28mself\u001B[39m\u001B[38;5;241m.\u001B[39mcategories) \u001B[38;5;241m!=\u001B[39m \u001B[38;5;28mlen\u001B[39m(new_categories)\n\u001B[1;32m   1018\u001B[0m     \u001B[38;5;129;01mor\u001B[39;00m \u001B[38;5;129;01mnot\u001B[39;00m \u001B[38;5;28mself\u001B[39m\u001B[38;5;241m.\u001B[39mcategories\u001B[38;5;241m.\u001B[39mdifference(new_categories)\u001B[38;5;241m.\u001B[39mempty\n\u001B[1;32m   1019\u001B[0m ):\n\u001B[0;32m-> 1020\u001B[0m     \u001B[38;5;28;01mraise\u001B[39;00m \u001B[38;5;167;01mValueError\u001B[39;00m(\n\u001B[1;32m   1021\u001B[0m         \u001B[38;5;124m\"\u001B[39m\u001B[38;5;124mitems in new_categories are not the same as in old categories\u001B[39m\u001B[38;5;124m\"\u001B[39m\n\u001B[1;32m   1022\u001B[0m     )\n\u001B[1;32m   1023\u001B[0m \u001B[38;5;28;01mreturn\u001B[39;00m \u001B[38;5;28mself\u001B[39m\u001B[38;5;241m.\u001B[39mset_categories(new_categories, ordered\u001B[38;5;241m=\u001B[39mordered)\n",
      "\u001B[0;31mValueError\u001B[0m: items in new_categories are not the same as in old categories"
     ]
    }
   ],
   "source": [
    "# 将数据转换为{\"name\": \"1月\",\"味道评分\": 4.8,\"环境评分\": 3.2,\"服务评分\": 2.1}的形式\n",
    "df_data1.reset_index(inplace=True)"
   ],
   "metadata": {
    "collapsed": false,
    "ExecuteTime": {
     "end_time": "2023-05-07T18:28:51.735851Z",
     "start_time": "2023-05-07T18:28:51.700844Z"
    }
   }
  },
  {
   "cell_type": "code",
   "execution_count": 54,
   "outputs": [],
   "source": [
    "list_data1 = []\n",
    "for i in range(df_data1.shape[0]):\n",
    "    dict_data1 = {}\n",
    "    dict_data1['name'] = df_data1.iloc[i, 0]\n",
    "    dict_data1['味道评分'] = round(df_data1.iloc[i, 1],2)\n",
    "    dict_data1['环境评分'] = round(df_data1.iloc[i, 2],2)\n",
    "    dict_data1['服务评分'] = round(df_data1.iloc[i, 3],2)\n",
    "    list_data1.append(dict_data1)"
   ],
   "metadata": {
    "collapsed": false,
    "ExecuteTime": {
     "end_time": "2023-05-07T18:22:28.837712Z",
     "start_time": "2023-05-07T18:22:28.812697Z"
    }
   }
  },
  {
   "cell_type": "code",
   "execution_count": 55,
   "outputs": [
    {
     "data": {
      "text/plain": "[{'name': '10月', '味道评分': 2.84, '环境评分': 3.16, '服务评分': 2.65},\n {'name': '1月', '味道评分': 2.81, '环境评分': 3.05, '服务评分': 2.49},\n {'name': '2月', '味道评分': 3.02, '环境评分': 3.35, '服务评分': 2.82},\n {'name': '3月', '味道评分': 2.97, '环境评分': 3.19, '服务评分': 2.66},\n {'name': '4月', '味道评分': 2.92, '环境评分': 3.21, '服务评分': 2.69},\n {'name': '5月', '味道评分': 2.85, '环境评分': 3.12, '服务评分': 2.53},\n {'name': '6月', '味道评分': 3.03, '环境评分': 3.34, '服务评分': 2.8},\n {'name': '7月', '味道评分': 2.83, '环境评分': 3.17, '服务评分': 2.46},\n {'name': '8月', '味道评分': 3.05, '环境评分': 3.37, '服务评分': 2.83},\n {'name': '9月', '味道评分': 3.06, '环境评分': 3.39, '服务评分': 3.02}]"
     },
     "execution_count": 55,
     "metadata": {},
     "output_type": "execute_result"
    }
   ],
   "source": [
    "list_data1"
   ],
   "metadata": {
    "collapsed": false,
    "ExecuteTime": {
     "end_time": "2023-05-07T18:22:29.410792Z",
     "start_time": "2023-05-07T18:22:29.361218Z"
    }
   }
  },
  {
   "cell_type": "code",
   "execution_count": 74,
   "outputs": [],
   "source": [
    "df_dish=df['Favorite_foods']\n",
    "df_dish.dropna(inplace=True)\n",
    "# 将df_dish转换为data的形式\n",
    "data = []\n",
    "for i in df_dish:\n",
    "    # 去掉前后的空格，将中间的空格作为分隔符\n",
    "    i = i.strip().replace(' ', ',')\n",
    "    # 将字符串转换为列表\n",
    "    i = i.split(',')\n",
    "    for j in i:\n",
    "        data.append(j)\n",
    "# 汇总计算每道菜出现的次数，并取前6道\n",
    "df_dish = pd.DataFrame(data, columns=['dish'])\n",
    "df_dish = df_dish.groupby('dish')['dish'].count().sort_values(ascending=False).head(6)"
   ],
   "metadata": {
    "collapsed": false,
    "ExecuteTime": {
     "end_time": "2023-05-07T18:38:58.114923Z",
     "start_time": "2023-05-07T18:38:58.027691Z"
    }
   }
  },
  {
   "cell_type": "code",
   "execution_count": 75,
   "outputs": [
    {
     "data": {
      "text/plain": "dish\n金沙红米肠      2354\n脆皮猪手       2304\n豉油皇鹅肠      1428\n香芒夹心椰汁糕    1338\n红烧乳鸽       1324\n盐焗乳鸽       1304\nName: dish, dtype: int64"
     },
     "execution_count": 75,
     "metadata": {},
     "output_type": "execute_result"
    }
   ],
   "source": [
    "df_dish"
   ],
   "metadata": {
    "collapsed": false,
    "ExecuteTime": {
     "end_time": "2023-05-07T18:39:02.266153Z",
     "start_time": "2023-05-07T18:39:02.204168Z"
    }
   }
  },
  {
   "cell_type": "code",
   "execution_count": 76,
   "outputs": [],
   "source": [
    "# 将df_dish转换为{name: \"鱼香肉丝\", value: 1000}的形式\n",
    "list_dish = []\n",
    "for i in range(df_dish.shape[0]):\n",
    "    dict_dish = {}\n",
    "    dict_dish['name'] = df_dish.index[i]\n",
    "    dict_dish['value'] = df_dish.iloc[i]\n",
    "    list_dish.append(dict_dish)"
   ],
   "metadata": {
    "collapsed": false,
    "ExecuteTime": {
     "end_time": "2023-05-07T18:39:56.302952Z",
     "start_time": "2023-05-07T18:39:56.289753Z"
    }
   }
  },
  {
   "cell_type": "code",
   "execution_count": 77,
   "outputs": [
    {
     "data": {
      "text/plain": "[{'name': '金沙红米肠', 'value': 2354},\n {'name': '脆皮猪手', 'value': 2304},\n {'name': '豉油皇鹅肠', 'value': 1428},\n {'name': '香芒夹心椰汁糕', 'value': 1338},\n {'name': '红烧乳鸽', 'value': 1324},\n {'name': '盐焗乳鸽', 'value': 1304}]"
     },
     "execution_count": 77,
     "metadata": {},
     "output_type": "execute_result"
    }
   ],
   "source": [
    "list_dish"
   ],
   "metadata": {
    "collapsed": false,
    "ExecuteTime": {
     "end_time": "2023-05-07T18:39:59.477696Z",
     "start_time": "2023-05-07T18:39:59.430809Z"
    }
   }
  },
  {
   "cell_type": "code",
   "execution_count": null,
   "outputs": [],
   "source": [],
   "metadata": {
    "collapsed": false
   }
  }
 ],
 "metadata": {
  "kernelspec": {
   "display_name": "Python 3",
   "language": "python",
   "name": "python3"
  },
  "language_info": {
   "codemirror_mode": {
    "name": "ipython",
    "version": 2
   },
   "file_extension": ".py",
   "mimetype": "text/x-python",
   "name": "python",
   "nbconvert_exporter": "python",
   "pygments_lexer": "ipython2",
   "version": "2.7.6"
  }
 },
 "nbformat": 4,
 "nbformat_minor": 0
}
