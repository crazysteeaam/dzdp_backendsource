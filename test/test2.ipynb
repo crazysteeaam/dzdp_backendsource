{
 "cells": [
  {
   "cell_type": "code",
   "execution_count": 1,
   "metadata": {
    "collapsed": true,
    "ExecuteTime": {
     "end_time": "2023-05-22T10:05:26.673224Z",
     "start_time": "2023-05-22T10:05:23.493392Z"
    }
   },
   "outputs": [
    {
     "name": "stderr",
     "output_type": "stream",
     "text": [
      "/var/folders/zj/zs9jhhmn1zs7p_t_thgtq0bm0000gn/T/ipykernel_23838/3620720920.py:3: DtypeWarning: Columns (3,4,5) have mixed types. Specify dtype option on import or set low_memory=False.\n",
      "  df = pd.read_csv('../static/大众点评评论数据.csv', encoding='gb18030')\n"
     ]
    },
    {
     "data": {
      "text/plain": "   Review_ID     Merchant  Rating Score_taste Score_environment Score_service   \n0  377313283  炳胜品味(珠江新城店)       3           3                 3             2  \\\n1  376404966  炳胜品味(珠江新城店)       4           3                 4             3   \n2  374370927  炳胜品味(珠江新城店)       4           3                 3             2   \n3  377270662  炳胜品味(珠江新城店)       4           3                 3             3   \n4  377184095  炳胜品味(珠江新城店)       4           3                 3             3   \n\n  Price_per_person    Time  Num_thumbs_up  Num_ response   \n0                空  10月23日              2              1  \\\n1                空  10月19日              2              0   \n2                空   10月9日              0              0   \n3              155  10月23日              0              0   \n4                空  10月23日              0              0   \n\n                                      Content_review  Reviewer   \n0  来广州出差，住在附近的康莱德酒店，晚上开完会就慕名而来，大概七点四十分的样子到的，人还有很多...   胖子界的瘦子吴  \\\n1  ?·??·??前言本来是朋友约我们来的，结果朋友临时有事走不开，就我俩在这儿吃了。?·??·...    快快到盆里来   \n2  朋友结婚选择在这里摆酒，在猎德A出口出来，直行转入兴盛路？再直行，走到天汇广场，过马路，再一...      Yyg喵   \n3  据说是个老子号，听名字就感觉很广东??，很正宗的样子！！这家分店打听了一下，说是地儿最大，环...      肥螳螂_   \n4  周末不煮饭的日子，偶来啦??。中午12点多到店，3楼满了??让到2楼，2楼说要到1楼拿号??...  hhy_0919   \n\n   Reviewer_value  Reviewer_rank Favorite_foods  \n0               5              1            NaN  \n1               6              1            NaN  \n2               3              1            NaN  \n3               4              1    干炒牛河 炳胜荔枝鸡   \n4               4              1            NaN  ",
      "text/html": "<div>\n<style scoped>\n    .dataframe tbody tr th:only-of-type {\n        vertical-align: middle;\n    }\n\n    .dataframe tbody tr th {\n        vertical-align: top;\n    }\n\n    .dataframe thead th {\n        text-align: right;\n    }\n</style>\n<table border=\"1\" class=\"dataframe\">\n  <thead>\n    <tr style=\"text-align: right;\">\n      <th></th>\n      <th>Review_ID</th>\n      <th>Merchant</th>\n      <th>Rating</th>\n      <th>Score_taste</th>\n      <th>Score_environment</th>\n      <th>Score_service</th>\n      <th>Price_per_person</th>\n      <th>Time</th>\n      <th>Num_thumbs_up</th>\n      <th>Num_ response</th>\n      <th>Content_review</th>\n      <th>Reviewer</th>\n      <th>Reviewer_value</th>\n      <th>Reviewer_rank</th>\n      <th>Favorite_foods</th>\n    </tr>\n  </thead>\n  <tbody>\n    <tr>\n      <th>0</th>\n      <td>377313283</td>\n      <td>炳胜品味(珠江新城店)</td>\n      <td>3</td>\n      <td>3</td>\n      <td>3</td>\n      <td>2</td>\n      <td>空</td>\n      <td>10月23日</td>\n      <td>2</td>\n      <td>1</td>\n      <td>来广州出差，住在附近的康莱德酒店，晚上开完会就慕名而来，大概七点四十分的样子到的，人还有很多...</td>\n      <td>胖子界的瘦子吴</td>\n      <td>5</td>\n      <td>1</td>\n      <td>NaN</td>\n    </tr>\n    <tr>\n      <th>1</th>\n      <td>376404966</td>\n      <td>炳胜品味(珠江新城店)</td>\n      <td>4</td>\n      <td>3</td>\n      <td>4</td>\n      <td>3</td>\n      <td>空</td>\n      <td>10月19日</td>\n      <td>2</td>\n      <td>0</td>\n      <td>?·??·??前言本来是朋友约我们来的，结果朋友临时有事走不开，就我俩在这儿吃了。?·??·...</td>\n      <td>快快到盆里来</td>\n      <td>6</td>\n      <td>1</td>\n      <td>NaN</td>\n    </tr>\n    <tr>\n      <th>2</th>\n      <td>374370927</td>\n      <td>炳胜品味(珠江新城店)</td>\n      <td>4</td>\n      <td>3</td>\n      <td>3</td>\n      <td>2</td>\n      <td>空</td>\n      <td>10月9日</td>\n      <td>0</td>\n      <td>0</td>\n      <td>朋友结婚选择在这里摆酒，在猎德A出口出来，直行转入兴盛路？再直行，走到天汇广场，过马路，再一...</td>\n      <td>Yyg喵</td>\n      <td>3</td>\n      <td>1</td>\n      <td>NaN</td>\n    </tr>\n    <tr>\n      <th>3</th>\n      <td>377270662</td>\n      <td>炳胜品味(珠江新城店)</td>\n      <td>4</td>\n      <td>3</td>\n      <td>3</td>\n      <td>3</td>\n      <td>155</td>\n      <td>10月23日</td>\n      <td>0</td>\n      <td>0</td>\n      <td>据说是个老子号，听名字就感觉很广东??，很正宗的样子！！这家分店打听了一下，说是地儿最大，环...</td>\n      <td>肥螳螂_</td>\n      <td>4</td>\n      <td>1</td>\n      <td>干炒牛河 炳胜荔枝鸡</td>\n    </tr>\n    <tr>\n      <th>4</th>\n      <td>377184095</td>\n      <td>炳胜品味(珠江新城店)</td>\n      <td>4</td>\n      <td>3</td>\n      <td>3</td>\n      <td>3</td>\n      <td>空</td>\n      <td>10月23日</td>\n      <td>0</td>\n      <td>0</td>\n      <td>周末不煮饭的日子，偶来啦??。中午12点多到店，3楼满了??让到2楼，2楼说要到1楼拿号??...</td>\n      <td>hhy_0919</td>\n      <td>4</td>\n      <td>1</td>\n      <td>NaN</td>\n    </tr>\n  </tbody>\n</table>\n</div>"
     },
     "execution_count": 1,
     "metadata": {},
     "output_type": "execute_result"
    }
   ],
   "source": [
    "# 读取/static/大众点评评论数据.csv\n",
    "import pandas as pd\n",
    "df = pd.read_csv('../static/大众点评评论数据.csv', encoding='gb18030')\n",
    "df.head()"
   ]
  },
  {
   "cell_type": "code",
   "execution_count": 2,
   "outputs": [],
   "source": [
    "df['Rating'] = df['Rating'].astype(str)\n",
    "df['Score_taste'] = df['Score_taste'].astype(str)\n",
    "df['Score_environment'] = df['Score_environment'].astype(str)\n",
    "df['Score_service'] = df['Score_service'].astype(str)\n",
    "# 去除'Rating', 'Score_taste', 'Score_environment', 'Score_service'值为\"|\"符号和\"产\"“场”“房”字样的行\n",
    "df = df[~df['Rating'].str.contains('\\|')]\n",
    "df = df[~df['Score_taste'].str.contains('\\|')]\n",
    "df = df[~df['Score_environment'].str.contains('\\|')]\n",
    "df = df[~df['Score_service'].str.contains('\\|')]\n",
    "df = df[~df['Rating'].str.contains('产|场|房')]\n",
    "df = df[~df['Score_taste'].str.contains('产|场|房')]\n",
    "df = df[~df['Score_environment'].str.contains('产|场|房')]\n",
    "df = df[~df['Score_service'].str.contains('产|场|房')]\n",
    "# 'Rating', 'Score_taste', 'Score_environment', 'Score_service'转换为int类型\n",
    "df['Rating'] = df['Rating'].astype(int)\n",
    "df['Score_taste'] = df['Score_taste'].astype(int)\n",
    "df['Score_environment'] = df['Score_environment'].astype(int)\n",
    "df['Score_service'] = df['Score_service'].astype(int)\n",
    "# 清洗Time中不含有年份的数据\n",
    "df['Time'] = df['Time'].str.replace('月', '/').str.replace('日', '')\n",
    "df['Time'] = df['Time'].apply(lambda x: '2017/' + x if len(x) < 8 else x)\n",
    "df['Time'] = pd.to_datetime(df['Time'])\n",
    "df['Month'] = df['Time'].dt.month\n",
    "df['Year'] = df['Time'].dt.year"
   ],
   "metadata": {
    "collapsed": false,
    "ExecuteTime": {
     "end_time": "2023-05-22T10:09:30.333611Z",
     "start_time": "2023-05-22T10:09:28.856597Z"
    }
   }
  },
  {
   "cell_type": "code",
   "execution_count": 12,
   "outputs": [
    {
     "data": {
      "text/plain": "        Review_ID     Merchant  Rating  Score_taste  Score_environment   \n0       377313283  炳胜品味(珠江新城店)       3            3                  3  \\\n1       376404966  炳胜品味(珠江新城店)       4            3                  4   \n2       374370927  炳胜品味(珠江新城店)       4            3                  3   \n3       377270662  炳胜品味(珠江新城店)       4            3                  3   \n4       377184095  炳胜品味(珠江新城店)       4            3                  3   \n...           ...          ...     ...          ...                ...   \n467450  116838734    大鸽饭(江燕路店)       5            4                  3   \n467451   51639859    大鸽饭(江燕路店)       5            3                  3   \n467452   44637865    大鸽饭(江燕路店)       3            2                  3   \n467453   43069187    大鸽饭(江燕路店)       1            1                  1   \n467454   40450305    大鸽饭(江燕路店)       4            3                  3   \n\n        Score_service Price_per_person       Time  Num_thumbs_up   \n0                   2                空 2017-10-23              2  \\\n1                   3                空 2017-10-19              2   \n2                   2                空 2017-10-09              0   \n3                   3              155 2017-10-23              0   \n4                   3                空 2017-10-23              0   \n...               ...              ...        ...            ...   \n467450              3                空 2014-03-07              0   \n467451              3               30 2014-01-31              0   \n467452              0                空 2013-07-28              0   \n467453              0                空 2013-06-14              1   \n467454              3               50 2013-04-03              2   \n\n        Num_ response                                     Content_review   \n0                   1  来广州出差，住在附近的康莱德酒店，晚上开完会就慕名而来，大概七点四十分的样子到的，人还有很多...  \\\n1                   0  ?·??·??前言本来是朋友约我们来的，结果朋友临时有事走不开，就我俩在这儿吃了。?·??·...   \n2                   0  朋友结婚选择在这里摆酒，在猎德A出口出来，直行转入兴盛路？再直行，走到天汇广场，过马路，再一...   \n3                   0  据说是个老子号，听名字就感觉很广东??，很正宗的样子！！这家分店打听了一下，说是地儿最大，环...   \n4                   0  周末不煮饭的日子，偶来啦??。中午12点多到店，3楼满了??让到2楼，2楼说要到1楼拿号??...   \n...               ...                                                ...   \n467450              0                         没有因为团购而减少，汤很好喝，乳鸽烧得不错，非常满意   \n467451              1                   味道还可以，上菜速度快，环境适中，价钱便宜，适合一家大小出去吃饭   \n467452              1  味精味越來越重而且服務太差衹是要求換桌子那個主任居然扔我的單子然後茶位都不幫我開就走了不會再...   \n467453              0  服务员部长人手不足，等好耐都无人招呼，个经理d态度劲差啊，今时今日甘嘅服务态度，一定唔会再帮...   \n467454              0  我们有个同事最喜欢来这家店了，每次电话给他，都说在大鸽饭呢，心想：有这么好吃吗？今天带上家里...   \n\n        Reviewer  Reviewer_value  Reviewer_rank Favorite_foods  Month  Year  \n0        胖子界的瘦子吴               5              1            NaN     10  2017  \n1         快快到盆里来               6              1            NaN     10  2017  \n2           Yyg喵               3              1            NaN     10  2017  \n3           肥螳螂_               4              1    干炒牛河 炳胜荔枝鸡      10  2017  \n4       hhy_0919               4              1            NaN     10  2017  \n...          ...             ...            ...            ...    ...   ...  \n467450        卓彤               2              0            NaN      3  2014  \n467451   星Steven               0              0            NaN      1  2014  \n467452  yeetingg               0              0            NaN      7  2013  \n467453    GZ的小嫦嫦               0              0            NaN      6  2013  \n467454     爱在打工时               0              0            NaN      4  2013  \n\n[467309 rows x 17 columns]",
      "text/html": "<div>\n<style scoped>\n    .dataframe tbody tr th:only-of-type {\n        vertical-align: middle;\n    }\n\n    .dataframe tbody tr th {\n        vertical-align: top;\n    }\n\n    .dataframe thead th {\n        text-align: right;\n    }\n</style>\n<table border=\"1\" class=\"dataframe\">\n  <thead>\n    <tr style=\"text-align: right;\">\n      <th></th>\n      <th>Review_ID</th>\n      <th>Merchant</th>\n      <th>Rating</th>\n      <th>Score_taste</th>\n      <th>Score_environment</th>\n      <th>Score_service</th>\n      <th>Price_per_person</th>\n      <th>Time</th>\n      <th>Num_thumbs_up</th>\n      <th>Num_ response</th>\n      <th>Content_review</th>\n      <th>Reviewer</th>\n      <th>Reviewer_value</th>\n      <th>Reviewer_rank</th>\n      <th>Favorite_foods</th>\n      <th>Month</th>\n      <th>Year</th>\n    </tr>\n  </thead>\n  <tbody>\n    <tr>\n      <th>0</th>\n      <td>377313283</td>\n      <td>炳胜品味(珠江新城店)</td>\n      <td>3</td>\n      <td>3</td>\n      <td>3</td>\n      <td>2</td>\n      <td>空</td>\n      <td>2017-10-23</td>\n      <td>2</td>\n      <td>1</td>\n      <td>来广州出差，住在附近的康莱德酒店，晚上开完会就慕名而来，大概七点四十分的样子到的，人还有很多...</td>\n      <td>胖子界的瘦子吴</td>\n      <td>5</td>\n      <td>1</td>\n      <td>NaN</td>\n      <td>10</td>\n      <td>2017</td>\n    </tr>\n    <tr>\n      <th>1</th>\n      <td>376404966</td>\n      <td>炳胜品味(珠江新城店)</td>\n      <td>4</td>\n      <td>3</td>\n      <td>4</td>\n      <td>3</td>\n      <td>空</td>\n      <td>2017-10-19</td>\n      <td>2</td>\n      <td>0</td>\n      <td>?·??·??前言本来是朋友约我们来的，结果朋友临时有事走不开，就我俩在这儿吃了。?·??·...</td>\n      <td>快快到盆里来</td>\n      <td>6</td>\n      <td>1</td>\n      <td>NaN</td>\n      <td>10</td>\n      <td>2017</td>\n    </tr>\n    <tr>\n      <th>2</th>\n      <td>374370927</td>\n      <td>炳胜品味(珠江新城店)</td>\n      <td>4</td>\n      <td>3</td>\n      <td>3</td>\n      <td>2</td>\n      <td>空</td>\n      <td>2017-10-09</td>\n      <td>0</td>\n      <td>0</td>\n      <td>朋友结婚选择在这里摆酒，在猎德A出口出来，直行转入兴盛路？再直行，走到天汇广场，过马路，再一...</td>\n      <td>Yyg喵</td>\n      <td>3</td>\n      <td>1</td>\n      <td>NaN</td>\n      <td>10</td>\n      <td>2017</td>\n    </tr>\n    <tr>\n      <th>3</th>\n      <td>377270662</td>\n      <td>炳胜品味(珠江新城店)</td>\n      <td>4</td>\n      <td>3</td>\n      <td>3</td>\n      <td>3</td>\n      <td>155</td>\n      <td>2017-10-23</td>\n      <td>0</td>\n      <td>0</td>\n      <td>据说是个老子号，听名字就感觉很广东??，很正宗的样子！！这家分店打听了一下，说是地儿最大，环...</td>\n      <td>肥螳螂_</td>\n      <td>4</td>\n      <td>1</td>\n      <td>干炒牛河 炳胜荔枝鸡</td>\n      <td>10</td>\n      <td>2017</td>\n    </tr>\n    <tr>\n      <th>4</th>\n      <td>377184095</td>\n      <td>炳胜品味(珠江新城店)</td>\n      <td>4</td>\n      <td>3</td>\n      <td>3</td>\n      <td>3</td>\n      <td>空</td>\n      <td>2017-10-23</td>\n      <td>0</td>\n      <td>0</td>\n      <td>周末不煮饭的日子，偶来啦??。中午12点多到店，3楼满了??让到2楼，2楼说要到1楼拿号??...</td>\n      <td>hhy_0919</td>\n      <td>4</td>\n      <td>1</td>\n      <td>NaN</td>\n      <td>10</td>\n      <td>2017</td>\n    </tr>\n    <tr>\n      <th>...</th>\n      <td>...</td>\n      <td>...</td>\n      <td>...</td>\n      <td>...</td>\n      <td>...</td>\n      <td>...</td>\n      <td>...</td>\n      <td>...</td>\n      <td>...</td>\n      <td>...</td>\n      <td>...</td>\n      <td>...</td>\n      <td>...</td>\n      <td>...</td>\n      <td>...</td>\n      <td>...</td>\n      <td>...</td>\n    </tr>\n    <tr>\n      <th>467450</th>\n      <td>116838734</td>\n      <td>大鸽饭(江燕路店)</td>\n      <td>5</td>\n      <td>4</td>\n      <td>3</td>\n      <td>3</td>\n      <td>空</td>\n      <td>2014-03-07</td>\n      <td>0</td>\n      <td>0</td>\n      <td>没有因为团购而减少，汤很好喝，乳鸽烧得不错，非常满意</td>\n      <td>卓彤</td>\n      <td>2</td>\n      <td>0</td>\n      <td>NaN</td>\n      <td>3</td>\n      <td>2014</td>\n    </tr>\n    <tr>\n      <th>467451</th>\n      <td>51639859</td>\n      <td>大鸽饭(江燕路店)</td>\n      <td>5</td>\n      <td>3</td>\n      <td>3</td>\n      <td>3</td>\n      <td>30</td>\n      <td>2014-01-31</td>\n      <td>0</td>\n      <td>1</td>\n      <td>味道还可以，上菜速度快，环境适中，价钱便宜，适合一家大小出去吃饭</td>\n      <td>星Steven</td>\n      <td>0</td>\n      <td>0</td>\n      <td>NaN</td>\n      <td>1</td>\n      <td>2014</td>\n    </tr>\n    <tr>\n      <th>467452</th>\n      <td>44637865</td>\n      <td>大鸽饭(江燕路店)</td>\n      <td>3</td>\n      <td>2</td>\n      <td>3</td>\n      <td>0</td>\n      <td>空</td>\n      <td>2013-07-28</td>\n      <td>0</td>\n      <td>1</td>\n      <td>味精味越來越重而且服務太差衹是要求換桌子那個主任居然扔我的單子然後茶位都不幫我開就走了不會再...</td>\n      <td>yeetingg</td>\n      <td>0</td>\n      <td>0</td>\n      <td>NaN</td>\n      <td>7</td>\n      <td>2013</td>\n    </tr>\n    <tr>\n      <th>467453</th>\n      <td>43069187</td>\n      <td>大鸽饭(江燕路店)</td>\n      <td>1</td>\n      <td>1</td>\n      <td>1</td>\n      <td>0</td>\n      <td>空</td>\n      <td>2013-06-14</td>\n      <td>1</td>\n      <td>0</td>\n      <td>服务员部长人手不足，等好耐都无人招呼，个经理d态度劲差啊，今时今日甘嘅服务态度，一定唔会再帮...</td>\n      <td>GZ的小嫦嫦</td>\n      <td>0</td>\n      <td>0</td>\n      <td>NaN</td>\n      <td>6</td>\n      <td>2013</td>\n    </tr>\n    <tr>\n      <th>467454</th>\n      <td>40450305</td>\n      <td>大鸽饭(江燕路店)</td>\n      <td>4</td>\n      <td>3</td>\n      <td>3</td>\n      <td>3</td>\n      <td>50</td>\n      <td>2013-04-03</td>\n      <td>2</td>\n      <td>0</td>\n      <td>我们有个同事最喜欢来这家店了，每次电话给他，都说在大鸽饭呢，心想：有这么好吃吗？今天带上家里...</td>\n      <td>爱在打工时</td>\n      <td>0</td>\n      <td>0</td>\n      <td>NaN</td>\n      <td>4</td>\n      <td>2013</td>\n    </tr>\n  </tbody>\n</table>\n<p>467309 rows × 17 columns</p>\n</div>"
     },
     "execution_count": 12,
     "metadata": {},
     "output_type": "execute_result"
    }
   ],
   "source": [
    "df"
   ],
   "metadata": {
    "collapsed": false,
    "ExecuteTime": {
     "end_time": "2023-05-22T13:26:55.593435Z",
     "start_time": "2023-05-22T13:26:55.542401Z"
    }
   }
  },
  {
   "cell_type": "code",
   "execution_count": 13,
   "outputs": [
    {
     "data": {
      "text/plain": "Month\n1      8180\n2      7566\n3      7069\n4      7675\n5      7423\n6      7647\n7      9390\n8     10729\n9      8786\n10    12091\nName: Reviewer, dtype: int64"
     },
     "execution_count": 13,
     "metadata": {},
     "output_type": "execute_result"
    }
   ],
   "source": [
    "# 获取2017年1月-2017年10月每月评论的数量分类汇总\n",
    "df_2017 = df[(df['Year'] == 2017) & (df['Month'] <= 10)]\n",
    "df_2017_month = df_2017.groupby('Month')['Reviewer'].count()\n",
    "df_2017_month"
   ],
   "metadata": {
    "collapsed": false,
    "ExecuteTime": {
     "end_time": "2023-05-22T13:28:02.000072Z",
     "start_time": "2023-05-22T13:28:01.906421Z"
    }
   }
  },
  {
   "cell_type": "code",
   "execution_count": 4,
   "outputs": [
    {
     "data": {
      "text/plain": "          Reviewer_value  Reviewer_rank\nReviewer                               \n!Mrlei..               0              0\n!i!_1163               0              0\n!i_3650                3              1\n!o_o!                  2              0\n!syao                  7              1\n...                  ...            ...\n￥小圆圆                   4              0\n￥我（来）也￥                0              0\n￥老牛￥                   0              0\n￥若儿￥                   0              0\n￥贝                     5              1\n\n[294049 rows x 2 columns]",
      "text/html": "<div>\n<style scoped>\n    .dataframe tbody tr th:only-of-type {\n        vertical-align: middle;\n    }\n\n    .dataframe tbody tr th {\n        vertical-align: top;\n    }\n\n    .dataframe thead th {\n        text-align: right;\n    }\n</style>\n<table border=\"1\" class=\"dataframe\">\n  <thead>\n    <tr style=\"text-align: right;\">\n      <th></th>\n      <th>Reviewer_value</th>\n      <th>Reviewer_rank</th>\n    </tr>\n    <tr>\n      <th>Reviewer</th>\n      <th></th>\n      <th></th>\n    </tr>\n  </thead>\n  <tbody>\n    <tr>\n      <th>!Mrlei..</th>\n      <td>0</td>\n      <td>0</td>\n    </tr>\n    <tr>\n      <th>!i!_1163</th>\n      <td>0</td>\n      <td>0</td>\n    </tr>\n    <tr>\n      <th>!i_3650</th>\n      <td>3</td>\n      <td>1</td>\n    </tr>\n    <tr>\n      <th>!o_o!</th>\n      <td>2</td>\n      <td>0</td>\n    </tr>\n    <tr>\n      <th>!syao</th>\n      <td>7</td>\n      <td>1</td>\n    </tr>\n    <tr>\n      <th>...</th>\n      <td>...</td>\n      <td>...</td>\n    </tr>\n    <tr>\n      <th>￥小圆圆</th>\n      <td>4</td>\n      <td>0</td>\n    </tr>\n    <tr>\n      <th>￥我（来）也￥</th>\n      <td>0</td>\n      <td>0</td>\n    </tr>\n    <tr>\n      <th>￥老牛￥</th>\n      <td>0</td>\n      <td>0</td>\n    </tr>\n    <tr>\n      <th>￥若儿￥</th>\n      <td>0</td>\n      <td>0</td>\n    </tr>\n    <tr>\n      <th>￥贝</th>\n      <td>5</td>\n      <td>1</td>\n    </tr>\n  </tbody>\n</table>\n<p>294049 rows × 2 columns</p>\n</div>"
     },
     "execution_count": 4,
     "metadata": {},
     "output_type": "execute_result"
    }
   ],
   "source": [
    "# 汇总求得每个用户的Reviewer_value和Reviewer_rank\n",
    "df_reviewer_value = df.groupby('Reviewer')[['Reviewer_value','Reviewer_rank']].max()\n",
    "df_reviewer_value"
   ],
   "metadata": {
    "collapsed": false,
    "ExecuteTime": {
     "end_time": "2023-05-22T10:14:17.181629Z",
     "start_time": "2023-05-22T10:14:16.905437Z"
    }
   }
  },
  {
   "cell_type": "code",
   "execution_count": null,
   "outputs": [],
   "source": [],
   "metadata": {
    "collapsed": false
   }
  },
  {
   "cell_type": "code",
   "execution_count": 11,
   "outputs": [
    {
     "data": {
      "text/plain": "Reviewer_value\n0    105752\n1     74020\n2     59186\n3     24206\n4     17072\n5      8062\n6      4289\n7      1462\nName: count, dtype: int64"
     },
     "execution_count": 11,
     "metadata": {},
     "output_type": "execute_result"
    }
   ],
   "source": [
    "# 分类统计Reviewer_value\n",
    "level_count=df_reviewer_value['Reviewer_value'].value_counts()\n",
    "level_count"
   ],
   "metadata": {
    "collapsed": false,
    "ExecuteTime": {
     "end_time": "2023-05-22T13:08:42.191311Z",
     "start_time": "2023-05-22T13:08:42.157762Z"
    }
   }
  },
  {
   "cell_type": "markdown",
   "source": [],
   "metadata": {
    "collapsed": false
   }
  },
  {
   "cell_type": "code",
   "execution_count": 10,
   "outputs": [
    {
     "data": {
      "text/plain": "Reviewer_rank\n0    264070\n1     29979\nName: count, dtype: int64"
     },
     "execution_count": 10,
     "metadata": {},
     "output_type": "execute_result"
    }
   ],
   "source": [
    "vip_count=df_reviewer_value['Reviewer_rank'].value_counts()\n",
    "vip_count"
   ],
   "metadata": {
    "collapsed": false,
    "ExecuteTime": {
     "end_time": "2023-05-22T13:08:40.435572Z",
     "start_time": "2023-05-22T13:08:40.394472Z"
    }
   }
  },
  {
   "cell_type": "code",
   "execution_count": 8,
   "outputs": [
    {
     "data": {
      "text/plain": "105752"
     },
     "execution_count": 8,
     "metadata": {},
     "output_type": "execute_result"
    }
   ],
   "source": [
    "level_count[0]"
   ],
   "metadata": {
    "collapsed": false,
    "ExecuteTime": {
     "end_time": "2023-05-22T12:37:57.962137Z",
     "start_time": "2023-05-22T12:37:57.925937Z"
    }
   }
  },
  {
   "cell_type": "code",
   "execution_count": null,
   "outputs": [],
   "source": [],
   "metadata": {
    "collapsed": false
   }
  }
 ],
 "metadata": {
  "kernelspec": {
   "display_name": "Python 3",
   "language": "python",
   "name": "python3"
  },
  "language_info": {
   "codemirror_mode": {
    "name": "ipython",
    "version": 2
   },
   "file_extension": ".py",
   "mimetype": "text/x-python",
   "name": "python",
   "nbconvert_exporter": "python",
   "pygments_lexer": "ipython2",
   "version": "2.7.6"
  }
 },
 "nbformat": 4,
 "nbformat_minor": 0
}
